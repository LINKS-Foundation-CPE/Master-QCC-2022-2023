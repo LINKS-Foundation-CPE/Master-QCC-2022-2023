{
  "cells": [
    {
      "cell_type": "code",
      "execution_count": null,
      "metadata": {
        "colab": {
          "base_uri": "https://localhost:8080/"
        },
        "id": "Hiz22p5IjHGV",
        "outputId": "ff19e4cc-6807-4480-c397-0e7eade2ed8a"
      },
      "outputs": [],
      "source": [
        "!git clone https://github.com/LINKS-Foundation-CPE/Master-QCC-2022-2023.git"
      ]
    },
    {
      "cell_type": "code",
      "execution_count": null,
      "metadata": {
        "colab": {
          "base_uri": "https://localhost:8080/",
          "height": 1000
        },
        "id": "yIrPR4MijHGW",
        "outputId": "eeb50cd7-e73c-436a-d01e-dcae94a334ec"
      },
      "outputs": [],
      "source": [
        "!pip install pulser==0.7\n",
        "!pip install pybnb\n",
        "!pip install networkx==2.8.7\n",
        "!pip install matplotlib==3.5.1"
      ]
    },
    {
      "cell_type": "code",
      "execution_count": null,
      "metadata": {
        "colab": {
          "base_uri": "https://localhost:8080/"
        },
        "id": "Wj-E7MSHjHGW",
        "outputId": "4a733428-3335-4817-faba-22fe6c978fff"
      },
      "outputs": [],
      "source": [
        "%cd /content/Master-QCC-2022-2023/"
      ]
    },
    {
      "cell_type": "code",
      "execution_count": null,
      "metadata": {
        "id": "GXJPJJ0OjHGX"
      },
      "outputs": [],
      "source": [
        "%matplotlib inline"
      ]
    },
    {
      "cell_type": "code",
      "execution_count": null,
      "metadata": {
        "id": "BNoSkvkCjHGX"
      },
      "outputs": [],
      "source": [
        "import numpy as np\n",
        "\n",
        "import matplotlib.pyplot as plt\n",
        "\n",
        "from pulser import Pulse, Sequence, Register\n",
        "from pulser.devices import Chadoq2\n",
        "from pulser_simulation import SimConfig, Simulation\n",
        "\n",
        "from scipy.optimize import minimize, Bounds\n",
        "from src.basic_MIS.utils import *"
      ]
    },
    {
      "cell_type": "code",
      "execution_count": null,
      "metadata": {
        "colab": {
          "base_uri": "https://localhost:8080/",
          "height": 444
        },
        "id": "43bKcR5vjHGX",
        "outputId": "9f06d64e-d56d-4a83-9fd3-ed0e9e0d0fa5"
      },
      "outputs": [],
      "source": [
        "# pos = np.array([[0., 0.], [-4, -7], [4,-7], [8,6], [-8,6]])\n",
        "pos = np.array([[0., 0.], [-4, -7], [4,-7], [8,6], [-8,6], [8,16], [-8,16], [0,20]])\n",
        "# pos = np.array([[0., 0.], [-4, -7], [4,-7], [8,6], [-8,6], [8,16], [-8,16], [0,20], [16,18], [-18,12]])\n",
        "\n",
        "G = pos_to_graph(pos)\n",
        "qubits = dict(enumerate(pos))\n",
        "\n",
        "reg = Register(qubits)\n",
        "reg.draw(blockade_radius=Chadoq2.rydberg_blockade_radius(1.), draw_graph=True, draw_half_radius=True ) #Assuming Rabi frequency = 1. rad/microsec\n",
        "\n",
        "mis_ref = nx_mis(G)\n",
        "print(mis_ref)"
      ]
    },
    {
      "cell_type": "code",
      "execution_count": null,
      "metadata": {
        "id": "Pfc-6J2FjHGY"
      },
      "outputs": [],
      "source": [
        "layers = 1\n",
        "time_unit = 1000 # = 1 microsecond\n",
        "detuning_amplitude = 1. # Must be between 0 and Rabi frequency, 1. is reasonable\n",
        "guess = {'t': np.random.uniform(8, 10, layers),\n",
        "         's': np.random.uniform(1, 3, layers)}\n",
        "\n",
        "# Parametrized sequence\n",
        "seq = Sequence(reg, Chadoq2)\n",
        "seq.declare_channel('ch0','rydberg_global')\n",
        "\n",
        "t_list = seq.declare_variable('t_list', size=layers)\n",
        "s_list = seq.declare_variable('s_list', size=layers)\n",
        "\n",
        "if layers == 1:\n",
        "    t_list = [t_list]\n",
        "    s_list = [s_list]\n",
        "\n",
        "for t, s in zip(t_list, s_list):\n",
        "    pulse_1 = Pulse.ConstantPulse(time_unit*t, 1., 0., 0)\n",
        "    pulse_2 = Pulse.ConstantPulse(time_unit*s, 1., detuning_amplitude, 0)\n",
        "\n",
        "    seq.add(pulse_1, 'ch0')\n",
        "    seq.add(pulse_2, 'ch0')\n",
        "\n",
        "# Bounds for max total pulse length (machine max = 100, reasonable values < 20)\n",
        "max_time = 10.\n",
        "step_time = max_time/layers\n",
        "lb = []\n",
        "ub = []\n",
        "for t in t_list:\n",
        "    lb.append(0.016) # minimum length of laser pulse\n",
        "    ub.append(step_time*0.7)\n",
        "for s in s_list:\n",
        "    lb.append(0.016)\n",
        "    ub.append(step_time*0.3)\n",
        "np_ub = np.array(ub)\n",
        "np_lb = np.array(lb)"
      ]
    },
    {
      "cell_type": "code",
      "execution_count": null,
      "metadata": {
        "id": "xO1zR1BpjHGY"
      },
      "outputs": [],
      "source": [
        "def quantum_loop(parameters, draw=False, printx=False):\n",
        "    if printx==True:\n",
        "        print(parameters)\n",
        "    t_params, s_params = 4 * (np.rint( (np.reshape(parameters, (2, layers)) * 1000) /4 ) / 1000 ) # Ensure value is multiple of 4ns\n",
        "    assigned_sequence = seq.build(t_list=t_params, s_list=s_params)\n",
        "    assigned_sequence.measure('ground-rydberg')\n",
        "    if draw:\n",
        "        assigned_sequence.draw()\n",
        "    \n",
        "    simul = Simulation(assigned_sequence, sampling_rate=0.1)\n",
        "    results = simul.run(nsteps=1e10)\n",
        "    return results.sample_final_state()"
      ]
    },
    {
      "cell_type": "code",
      "execution_count": null,
      "metadata": {
        "colab": {
          "base_uri": "https://localhost:8080/",
          "height": 701
        },
        "id": "NlpUcA2WjHGY",
        "outputId": "b97562f2-15fb-42f5-9987-b586da6e2be5"
      },
      "outputs": [],
      "source": [
        "example_dict = quantum_loop(np.r_[guess['t'], guess['s']], draw=True)\n",
        "plot_distribution(example_dict, mis_ref)"
      ]
    },
    {
      "cell_type": "code",
      "execution_count": null,
      "metadata": {
        "colab": {
          "base_uri": "https://localhost:8080/"
        },
        "id": "U0nrXEwwjHGZ",
        "outputId": "48c6ad36-437b-4e1d-c30c-66017894f150"
      },
      "outputs": [],
      "source": [
        "# MIS cost function\n",
        "def get_cost_MIS(bitstring, G, penalty=1):\n",
        "    z = np.array(list(bitstring), dtype=int)\n",
        "    A = nx.to_numpy_matrix(G)\n",
        "    # Add penalty and bias:\n",
        "    cost = penalty*(z.T @ np.triu(A) @ z) - np.sum(z)\n",
        "    return cost\n",
        "\n",
        "# Cost of whole simulation with given params (averages MIS cost over many samples)\n",
        "def get_cost(counter,G):\n",
        "    cost = sum(counter[key] * get_cost_MIS(key,G) for key in counter)\n",
        "    return cost / sum(counter.values()) # Divide by total samples\n",
        "\n",
        "# Run simulation and get cost\n",
        "def func(param,*args):\n",
        "    G = args[0]\n",
        "    C = quantum_loop(param);\n",
        "    cost = get_cost(C,G)\n",
        "    return cost\n",
        "\n",
        "print(get_cost_MIS(list(mis_ref)[0], G)) # Cost of reference solution\n",
        "print(get_cost(example_dict, G)) # Cost of examples solution"
      ]
    },
    {
      "cell_type": "code",
      "execution_count": null,
      "metadata": {
        "colab": {
          "base_uri": "https://localhost:8080/",
          "height": 763
        },
        "id": "sgI76zzijHGZ",
        "outputId": "991f8445-6f2a-4eef-cf56-45fb057d5fb5"
      },
      "outputs": [],
      "source": [
        "res = minimize(func,\n",
        "               args=G,\n",
        "               x0=np.array([1. for i in range(2*layers)]),\n",
        "               method='Nelder-Mead',\n",
        "               tol=1e-6,\n",
        "            #    bounds=Bounds(np_lb,np_ub),\n",
        "               options = {'maxiter': 50, 'disp': True}\n",
        "              )\n",
        "\n",
        "print(res.x)\n",
        "count_dict = quantum_loop(res.x, draw=True)\n",
        "print(get_cost(count_dict, G))\n",
        "plot_distribution(count_dict, mis_ref)"
      ]
    },
    {
      "cell_type": "code",
      "execution_count": null,
      "metadata": {
        "colab": {
          "base_uri": "https://localhost:8080/",
          "height": 247
        },
        "id": "5dsK-EAwjHGa",
        "outputId": "bf65c96c-1975-4b86-dbfe-d4e2323c7e5e"
      },
      "outputs": [],
      "source": [
        "cmap = ['royalblue','coral']\n",
        "clist = [cmap[int(c)] for c in get_mis_string(count_dict)]\n",
        "f = plt.figure()\n",
        "nx.draw(G, pos=pos, node_color=clist, with_labels=True, ax=f.add_subplot(111))"
      ]
    },
    {
      "cell_type": "code",
      "execution_count": null,
      "metadata": {
        "id": "UdcQRwhnjHGa"
      },
      "outputs": [],
      "source": []
    },
    {
      "cell_type": "code",
      "execution_count": null,
      "metadata": {
        "id": "uH2IQ8JjjHGa"
      },
      "outputs": [],
      "source": []
    }
  ],
  "metadata": {
    "colab": {
      "provenance": []
    },
    "interpreter": {
      "hash": "0144edd08df7be7ff591e8c3b3f27e21df4154a4d8a65663ad11b2b2625bc73d"
    },
    "kernelspec": {
      "display_name": "Python 3.9.5 64-bit ('pulser': conda)",
      "name": "python3"
    },
    "language_info": {
      "codemirror_mode": {
        "name": "ipython",
        "version": 3
      },
      "file_extension": ".py",
      "mimetype": "text/x-python",
      "name": "python",
      "nbconvert_exporter": "python",
      "pygments_lexer": "ipython3",
      "version": "3.9.5"
    },
    "metadata": {
      "interpreter": {
        "hash": "6fdb24df918c17a71ffd8986287846e645dac9bc7f17e96f0111005b5a383480"
      }
    },
    "orig_nbformat": 2
  },
  "nbformat": 4,
  "nbformat_minor": 0
}
