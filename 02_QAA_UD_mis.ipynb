{
  "cells": [
    {
      "cell_type": "code",
      "execution_count": null,
      "metadata": {
        "id": "Hiz22p5IjHGV"
      },
      "outputs": [],
      "source": [
        "!git clone https://github.com/LINKS-Foundation-CPE/Master-QCC-2022-2023.git"
      ]
    },
    {
      "cell_type": "code",
      "execution_count": null,
      "metadata": {
        "id": "yIrPR4MijHGW"
      },
      "outputs": [],
      "source": [
        "!pip install pulser==0.17.3\n",
        "!pip install pybnb\n",
        "!pip install networkx==2.8.7\n",
        "!pip install matplotlib==3.5.1"
      ]
    },
    {
      "cell_type": "code",
      "execution_count": null,
      "metadata": {
        "id": "Wj-E7MSHjHGW"
      },
      "outputs": [],
      "source": [
        "%cd /content/Master-QCC-2022-2023/"
      ]
    },
    {
      "cell_type": "code",
      "execution_count": null,
      "metadata": {
        "id": "GXJPJJ0OjHGX"
      },
      "outputs": [],
      "source": [
        "%matplotlib inline"
      ]
    },
    {
      "cell_type": "code",
      "execution_count": null,
      "metadata": {
        "id": "BNoSkvkCjHGX"
      },
      "outputs": [],
      "source": [
        "import numpy as np\n",
        "\n",
        "import matplotlib.pyplot as plt\n",
        "\n",
        "from pulser import Pulse, Sequence, Register\n",
        "from pulser.devices import Chadoq2\n",
        "from pulser_simulation import SimConfig, Simulation\n",
        "from pulser.waveforms import InterpolatedWaveform\n",
        "\n",
        "from scipy.optimize import minimize, Bounds\n",
        "from src.basic_MIS.utils import *\n",
        "from scipy.spatial.distance import pdist, squareform"
      ]
    },
    {
      "cell_type": "code",
      "execution_count": null,
      "metadata": {
        "id": "43bKcR5vjHGX"
      },
      "outputs": [],
      "source": [
        "# pos = np.array([[0., 0.], [-4, -7], [4,-7], [8,6], [-8,6]])\n",
        "pos = np.array([[0., 0.], [-4, -7], [4,-7], [8,6], [-8,6], [8,16], [-8,16], [0,20]])\n",
        "# pos = np.array([[0., 0.], [-4, -7], [4,-7], [8,6], [-8,6], [8,16], [-8,16], [0,20], [16,18], [-18,12]])\n",
        "\n",
        "G = pos_to_graph(pos)\n",
        "qubits = dict(enumerate(pos))\n",
        "\n",
        "reg = Register(qubits)\n",
        "reg.draw(blockade_radius=Chadoq2.rydberg_blockade_radius(1.), draw_graph=True, draw_half_radius=True ) #Assuming Rabi frequency = 1. rad/microsec\n",
        "\n",
        "mis_ref = nx_mis(G)\n",
        "print(mis_ref)"
      ]
    },
    {
      "cell_type": "code",
      "execution_count": null,
      "metadata": {
        "id": "Pfc-6J2FjHGY"
      },
      "outputs": [],
      "source": [
        "layers = 1\n",
        "time_unit = 1000 # = 1 microsecond\n",
        "detuning_amplitude = 1. # Must be between 0 and Rabi frequency, 1. is reasonable\n",
        "guess = {'t': np.random.uniform(8, 10, layers),\n",
        "         's': np.random.uniform(1, 3, layers)}\n",
        "\n",
        "# Parametrized sequence\n",
        "seq = Sequence(reg, Chadoq2)\n",
        "seq.declare_channel('ch0','rydberg_global')\n",
        "\n",
        "t_list = seq.declare_variable('t_list', size=layers)\n",
        "s_list = seq.declare_variable('s_list', size=layers)\n",
        "\n",
        "if layers == 1:\n",
        "    t_list = [t_list]\n",
        "    s_list = [s_list]\n",
        "\n",
        "for t, s in zip(t_list, s_list):\n",
        "    pulse_1 = Pulse.ConstantPulse(time_unit*t, 1., 0., 0)\n",
        "    pulse_2 = Pulse.ConstantPulse(time_unit*s, 1., detuning_amplitude, 0)\n",
        "\n",
        "    seq.add(pulse_1, 'ch0')\n",
        "    seq.add(pulse_2, 'ch0')\n",
        "\n",
        "# Bounds for max total pulse length (machine max = 100, reasonable values < 20)\n",
        "max_time = 10.\n",
        "step_time = max_time/layers\n",
        "lb = []\n",
        "ub = []\n",
        "for t in t_list:\n",
        "    lb.append(0.016) # minimum length of laser pulse\n",
        "    ub.append(step_time*0.7)\n",
        "for s in s_list:\n",
        "    lb.append(0.016)\n",
        "    ub.append(step_time*0.3)\n",
        "np_ub = np.array(ub)\n",
        "np_lb = np.array(lb)"
      ]
    },
    {
      "cell_type": "code",
      "execution_count": null,
      "metadata": {
        "id": "xO1zR1BpjHGY"
      },
      "outputs": [],
      "source": [
        "distances = pdist(pos)\n",
        "Q = Chadoq2.interaction_coeff / pdist(pos) ** 6\n",
        "Omega = np.average(Q)\n",
        "delta_0 = -5  # just has to be negative\n",
        "delta_f = -delta_0  # just has to be positive\n",
        "T = 4000  # time in ns, we choose a time long enough to ensure the propagation of information in the system"
      ]
    },
    {
      "cell_type": "code",
      "execution_count": null,
      "metadata": {
        "id": "FrvM1Rs2xiXA"
      },
      "outputs": [],
      "source": [
        "adiabatic_pulse = Pulse(\n",
        "    InterpolatedWaveform(T, [1e-9, Omega, 1e-9]),\n",
        "    InterpolatedWaveform(T, [delta_0, 0, delta_f]),\n",
        "    0,\n",
        ")\n",
        "seq = Sequence(reg, Chadoq2)\n",
        "seq.declare_channel(\"ising\", \"rydberg_global\")\n",
        "seq.add(adiabatic_pulse, \"ising\")\n",
        "seq.draw()"
      ]
    },
    {
      "cell_type": "code",
      "execution_count": null,
      "metadata": {
        "id": "jlBXJJzS63Xk"
      },
      "outputs": [],
      "source": [
        "simul = Simulation(seq)\n",
        "results = simul.run()\n",
        "final = results.get_final_state()\n",
        "count_dict = results.sample_final_state()"
      ]
    },
    {
      "cell_type": "code",
      "execution_count": null,
      "metadata": {
        "id": "ang-KLY966II"
      },
      "outputs": [],
      "source": [
        "plot_distribution(count_dict, mis_ref)"
      ]
    },
    {
      "cell_type": "code",
      "execution_count": null,
      "metadata": {
        "id": "5dsK-EAwjHGa"
      },
      "outputs": [],
      "source": [
        "cmap = ['royalblue','coral']\n",
        "clist = [cmap[int(c)] for c in get_mis_string(count_dict)]\n",
        "f = plt.figure()\n",
        "nx.draw(G, pos=pos, node_color=clist, with_labels=True, ax=f.add_subplot(111))"
      ]
    },
    {
      "cell_type": "code",
      "execution_count": null,
      "metadata": {
        "id": "UdcQRwhnjHGa"
      },
      "outputs": [],
      "source": []
    },
    {
      "cell_type": "code",
      "execution_count": null,
      "metadata": {
        "id": "uH2IQ8JjjHGa"
      },
      "outputs": [],
      "source": []
    }
  ],
  "metadata": {
    "colab": {
      "provenance": []
    },
    "interpreter": {
      "hash": "0144edd08df7be7ff591e8c3b3f27e21df4154a4d8a65663ad11b2b2625bc73d"
    },
    "kernelspec": {
      "display_name": "Python 3.9.5 64-bit ('pulser': conda)",
      "name": "python3"
    },
    "language_info": {
      "codemirror_mode": {
        "name": "ipython",
        "version": 3
      },
      "file_extension": ".py",
      "mimetype": "text/x-python",
      "name": "python",
      "nbconvert_exporter": "python",
      "pygments_lexer": "ipython3",
      "version": "3.9.5"
    },
    "metadata": {
      "interpreter": {
        "hash": "6fdb24df918c17a71ffd8986287846e645dac9bc7f17e96f0111005b5a383480"
      }
    },
    "orig_nbformat": 2
  },
  "nbformat": 4,
  "nbformat_minor": 0
}
