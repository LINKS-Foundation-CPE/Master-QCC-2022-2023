{
 "cells": [
  {
   "cell_type": "code",
   "execution_count": null,
   "metadata": {},
   "outputs": [],
   "source": [
    "!git clone https://github.com/LINKS-Foundation-CPE/Master-QCC-2022-2023.git"
   ]
  },
  {
   "cell_type": "code",
   "execution_count": null,
   "metadata": {},
   "outputs": [],
   "source": [
    "!pip install pulser==0.7\n",
    "!pip install networkx==2.8.7\n",
    "!pip install matplotlib==3.5.1"
   ]
  },
  {
   "cell_type": "code",
   "execution_count": null,
   "metadata": {},
   "outputs": [],
   "source": [
    "%cd /content/Master-QCC-2022-2023/"
   ]
  },
  {
   "cell_type": "code",
   "execution_count": null,
   "metadata": {},
   "outputs": [],
   "source": [
    "import networkx as nx\n",
    "from src.itMIS.visualize_graph import *\n",
    "from src.itMIS.utils import *\n",
    "from src.itMIS.MIS_kernel import PulserMISSolver\n",
    "from src.basic_MIS.utils import *"
   ]
  },
  {
   "attachments": {},
   "cell_type": "markdown",
   "metadata": {},
   "source": [
    "## Iterative MIS for graph coloring"
   ]
  },
  {
   "cell_type": "code",
   "execution_count": null,
   "metadata": {},
   "outputs": [],
   "source": [
    "# read graph\n",
    "file_path=\"graphs/{}G_{}ud.gpickle\".format(7, 2)\n",
    "G = nx.read_gpickle(file_path)\n",
    "G = plot_initial_graph_nx(G, 7)\n",
    "orig_G = G.copy()\n"
   ]
  },
  {
   "cell_type": "code",
   "execution_count": null,
   "metadata": {},
   "outputs": [],
   "source": [
    "# pulser embedding\n",
    "rabi_freq, blockade_radius = compute_rydberg(G)\n",
    "print(f'Blockade Radius {blockade_radius:.2f} μm')\n",
    "plot_initial_graph_pulser(G, blockade_radius)"
   ]
  },
  {
   "cell_type": "markdown",
   "metadata": {},
   "source": [
    "## Greedy-itMIS\n",
    "Solve iteratively MIS (Maximum Independent Set) problem to retrieve a feasible coloring. At each step, a subset of independent vertexes is removed from G and a color is assigned to them."
   ]
  },
  {
   "cell_type": "code",
   "execution_count": null,
   "metadata": {},
   "outputs": [],
   "source": [
    "coloring =  dict.fromkeys(G.nodes(), -1)\n",
    "num_colors = 0\n",
    "\n",
    "# plot initial graph\n",
    "plot_sol(coloring, orig_G, -1)\n",
    "\n",
    "while len(G.nodes())> 0:   \n",
    "    if len(G.edges())>0: \n",
    "        # there are still conflict to be solved\n",
    "        pulser_MIS_solver = PulserMISSolver(G)\n",
    "        # solve MIS\n",
    "        solutions = pulser_MIS_solver.solve_Pulser()\n",
    "        num_sol = len(solutions)     \n",
    "        print('Found {} solutions'.format(num_sol))       \n",
    "        for sol in range(num_sol):  \n",
    "            x = solutions[sol]      \n",
    "            if is_MIS(x, G):\n",
    "                # the solution is indipendent and maximal\n",
    "                H, MIS_set = compute_subgraph(x, G)\n",
    "                print(f'Found MIS solution at position {sol}')\n",
    "                break\n",
    "        G=H\n",
    "    else:\n",
    "        # the same color can be assigned to all the remaining nodes \n",
    "        MIS_set=G.nodes()\n",
    "        G = G.subgraph([])\n",
    "    num_colors+=1\n",
    "    # update the coloring\n",
    "    for graph_node in MIS_set:\n",
    "        coloring[graph_node]=num_colors \n",
    "    # plot coloring\n",
    "    plot_sol(coloring.copy(), orig_G, num_colors)\n",
    "        \n",
    "print('Iterative MIS solved with {} colors'.format(num_colors))  "
   ]
  },
  {
   "cell_type": "code",
   "execution_count": null,
   "metadata": {},
   "outputs": [],
   "source": [
    "# compare coloring results with the one obtained with different nx heuristics\n",
    "NetworkxGC(orig_G)"
   ]
  },
  {
   "cell_type": "code",
   "execution_count": null,
   "metadata": {},
   "outputs": [],
   "source": []
  }
 ],
 "metadata": {
  "interpreter": {
   "hash": "21deb1973a4ebb1a0cdab00f559e1c4e312d74acf4127f95320ff9d6d138a0fc"
  },
  "kernelspec": {
   "display_name": "Python 3.9.2 64-bit",
   "language": "python",
   "name": "python3"
  },
  "language_info": {
   "codemirror_mode": {
    "name": "ipython",
    "version": 3
   },
   "file_extension": ".py",
   "mimetype": "text/x-python",
   "name": "python",
   "nbconvert_exporter": "python",
   "pygments_lexer": "ipython3",
   "version": "3.10.10"
  },
  "orig_nbformat": 4
 },
 "nbformat": 4,
 "nbformat_minor": 2
}
