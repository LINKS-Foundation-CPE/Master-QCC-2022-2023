{
  "cells": [
    {
      "cell_type": "markdown",
      "metadata": {
        "id": "S0CBKUBURIMe",
        "tags": [
          "remove_cell"
        ]
      },
      "source": [
        "# Simulating Molecules using VQE"
      ]
    },
    {
      "cell_type": "code",
      "execution_count": null,
      "metadata": {
        "colab": {
          "base_uri": "https://localhost:8080/"
        },
        "id": "cMxTYZAeRcSQ",
        "outputId": "c292125b-2f47-483d-9df0-0003eb9826c7"
      },
      "outputs": [],
      "source": [
        "!pip install qiskit==0.43.3 qiskit-nature[pyscf]==0.4.5\n",
        "!pip install --prefer-binary pyscf"
      ]
    },
    {
      "cell_type": "markdown",
      "metadata": {
        "id": "lXC-Gu1XRIMf"
      },
      "source": [
        "In this tutorial, we introduce the Variational Quantum Eigensolver (VQE), motivate its use, explain the necessary theory, and demonstrate its implementation in finding the ground state energy of molecules."
      ]
    },
    {
      "cell_type": "markdown",
      "metadata": {
        "id": "YPf2FfuNRIMg"
      },
      "source": [
        "## Introduction\n",
        "\n",
        "In many applications it is important to find the minimum eigenvalue of a matrix. For example, in chemistry, the minimum eigenvalue of a Hermitian matrix characterizing the molecule is the ground state energy of that system. In the future, the quantum phase estimation algorithm may be used to find the minimum eigenvalue. However, its implementation on useful problems requires circuit depths exceeding the limits of hardware available in the NISQ era. Thus, in 2014, Peruzzo *et al.* proposed VQE to estimate the ground state energy of a molecule using much shallower circuits [1]. \n",
        "\n",
        "Formally stated, given a Hermitian matrix $H$ with an unknown minimum eigenvalue $\\lambda_{\\text{min}}$, associated with the eigenstate $|\\psi_{\\text{min}}\\rangle$, VQE provides an estimate $\\lambda_{\\theta}$ bounding $\\lambda_{\\text{min}}$:\n",
        "\n",
        "$$\n",
        "\\begin{aligned}\n",
        "    \\lambda_{\\text{min}} \\le \\lambda_{\\theta} \\equiv \\langle \\psi(\\theta) |H|\\psi(\\theta) \\rangle\n",
        "\\end{aligned}  \n",
        "$$\n",
        "\n",
        "where $|\\psi(\\theta)\\rangle$ is the eigenstate associated with $\\lambda_{\\theta}$. By applying a parameterized circuit, represented by $U(\\theta)$, to some arbitrary starting state $|\\psi\\rangle$, the algorithm obtains an estimate $U(\\theta)|\\psi\\rangle \\equiv |\\psi(\\theta)\\rangle$ on $|\\psi_{\\text{min}}\\rangle$. The estimate is iteratively optimized by a classical controller changing the parameter $\\theta$ minimizing the expectation value of $\\langle \\psi(\\theta) |H|\\psi(\\theta) \\rangle$.\n",
        "\n"
      ]
    },
    {
      "cell_type": "markdown",
      "metadata": {
        "id": "tgAo7e1RRIMh"
      },
      "source": [
        "## The Variational Method of Quantum Mechanics\n",
        "\n",
        "### Mathematical Background\n",
        "\n",
        "VQE is an application of the variational method of quantum mechanics. To better understand the variational method, some preliminary mathematical background is provided. An eigenvector, $|\\psi_i\\rangle$, of a matrix $A$ is invariant under transformation by $A$ up to a scalar multiplicative constant (the eigenvalue $\\lambda_i$). That is,\n",
        "\n",
        "$$\n",
        "\\begin{aligned}\n",
        "    A |\\psi_i\\rangle = \\lambda_i |\\psi_i\\rangle\n",
        "\\end{aligned}\n",
        "$$\n",
        "\n",
        "Furthermore, a matrix $H$ is Hermitian when it is equal to its own conjugate transpose.\n",
        "\n",
        "$$\n",
        "\\begin{aligned}\n",
        "    H = H^{\\dagger}\n",
        "\\end{aligned}\n",
        "$$\n",
        "\n",
        "The spectral theorem states that the eigenvalues of a Hermitian matrix must be real. Thus, any eigenvalue of $H$ has the property that $\\lambda_i = \\lambda_i^*$. As any measurable quantity must be real, Hermitian matrices are suitable for describing the Hamiltonians of quantum systems. Moreover, $H$ may be expressed as\n",
        "\n",
        "$$\n",
        "\\begin{aligned}\n",
        "    H = \\sum_{i = 1}^{N} \\lambda_i |\\psi_i\\rangle \\langle \\psi_i |\n",
        "\\end{aligned}\n",
        "$$\n",
        "\n",
        "where each $\\lambda_i$ is the eigenvalue corresponding to the eigenvector $|\\psi_i\\rangle$. Furthermore, the expectation value of the observable $H$ on an arbitrary quantum state $|\\psi\\rangle$ is given by \n",
        "\n",
        "$$\n",
        "\\begin{aligned}\n",
        "    \\langle H \\rangle_{\\psi} &\\equiv \\langle \\psi | H | \\psi \\rangle\n",
        "\\end{aligned}\n",
        "$$\n",
        "\n",
        "Substituting $H$ with its representation as a weighted sum of its eigenvectors,\n",
        "\n",
        "$$\n",
        "\\begin{aligned}\n",
        "    \\langle H \\rangle_{\\psi} = \\langle \\psi | H | \\psi \\rangle &= \\langle \\psi | \\left(\\sum_{i = 1}^{N} \\lambda_i |\\psi_i\\rangle \\langle \\psi_i |\\right) |\\psi\\rangle\\\\\n",
        "    &= \\sum_{i = 1}^{N} \\lambda_i \\langle \\psi | \\psi_i\\rangle \\langle \\psi_i | \\psi\\rangle \\\\\n",
        "    &= \\sum_{i = 1}^{N} \\lambda_i | \\langle \\psi_i | \\psi\\rangle |^2\n",
        "\\end{aligned}\n",
        "$$\n",
        "\n",
        "\n",
        "The last equation demonstrates that the expectation value of an observable on any state can be expressed as a linear combination using the eigenvalues associated with $H$ as the weights. Moreover, each of the weights in the linear combination is greater than or equal to 0, as $| \\langle \\psi_i | \\psi\\rangle |^2 \\ge 0$ and so it is clear that\n",
        "\n",
        "$$\n",
        "\\begin{aligned}\n",
        "    \\lambda_{\\text{min}} \\le \\langle H \\rangle_{\\psi} = \\langle \\psi | H | \\psi \\rangle = \\sum_{i = 1}^{N} \\lambda_i | \\langle \\psi_i | \\psi\\rangle |^2\n",
        "\\end{aligned}\n",
        "$$\n",
        "\n",
        "The above equation is known as the **variational method** (in some texts it is also known as the variational principle) [2]. It is important to note that this implies that the expectation value of any wave function will always be at least the minimum eigenvalue associated with $H$. Moreover, the expectation value of the eigenstate $|\\psi_{\\text{min}}\\rangle$ is given by \n",
        "\n",
        "$$\n",
        "\\begin{aligned}\n",
        "    \\langle \\psi_{\\text{min}} | H | \\psi_{\\text{min}}\\rangle = \\langle \\psi_{\\text{min}} | \\lambda_{\\text{min}}|\\psi_{\\text{min}}\\rangle = \\lambda_{\\text{min}}\n",
        "\\end{aligned}\n",
        "$$\n",
        "\n",
        "Thus, as expected, $\\langle H \\rangle_{\\psi_{\\text{min}}} = \\lambda_{\\text{min}}$.\n",
        "\n",
        "### Bounding the Ground State\n",
        "\n",
        "When the Hamiltonian of a system is described by the Hermitian matrix $H$ the ground state energy of that system, $E_{gs}$, is the smallest eigenvalue associated with $H$. Selecting any wave function $|\\psi \\rangle$ (called an *ansatz*) as an initial guess for $|\\psi_{\\text{min}}\\rangle$, calculating its expectation value, $\\langle H \\rangle_{\\psi}$, and iteratively updating the wave function, we can get arbitrarily tight bounds on the ground state energy of a Hamiltonian."
      ]
    },
    {
      "cell_type": "markdown",
      "metadata": {
        "id": "CG3U_LeyRIMi"
      },
      "source": [
        "## The Variational Quantum Eigensolver\n",
        "\n",
        "### Variational Forms\n",
        "\n",
        "A systematic approach to varying the ansatz is required to implement the variational method on a quantum computer. VQE does so through the use of a parameterized circuit with a fixed form. Such a circuit is often called a *variational form*, and its action may be represented by the linear transformation $U(\\theta)$. A variational form is applied to a starting state $|\\psi\\rangle$ (such as the vacuum state $|0\\rangle$, or the Hartree Fock state) and generates an output state $U(\\theta)|\\psi\\rangle\\equiv |\\psi(\\theta)\\rangle$. Iterative optimization over $|\\psi(\\theta)\\rangle$ aims to yield an expectation value $\\langle \\psi(\\theta)|H|\\psi(\\theta)\\rangle \\approx E_{gs} \\equiv \\lambda_{\\text{min}}$. Ideally, $|\\psi(\\theta)\\rangle$ will be close to $|\\psi_{\\text{min}}\\rangle$ (where 'closeness' is characterized by either state fidelity, or Manhattan distance) although in practice, useful bounds on $E_{gs}$ can be obtained even if this is not the case.\n",
        "\n",
        "Moreover, a fixed variational form with a polynomial number of parameters can only generate transformations to a polynomially sized subspace of all the states in an exponentially sized Hilbert space. Consequently, various variational forms exist. Some, such as Ry and RyRz are heuristically designed, without consideration of the target domain. Others, such as UCCSD, utilize domain specific knowledge to generate close approximations based on the problem's structure. The structure of common variational forms is discussed in greater depth later in this document. \n",
        "\n",
        "### Simple Variational Forms\n",
        "\n",
        "When constructing a variational form we must balance two opposing goals. Ideally, our $n$ qubit variational form would be able to generate any possible state $|\\psi\\rangle$ where $|\\psi\\rangle \\in \\mathbb{C}^N$ and $N=2^n$. However, we would like the variational form to use as few parameters as possible. Here, we aim to give intuition for the construction of variational forms satisfying our first goal, while disregarding the second goal for the sake of simplicity. \n",
        "\n",
        "Consider the case where $n=1$. The U3 gate takes three parameters, $\\theta, \\phi$ and $\\lambda$, and represents the following transformation:\n",
        "\n",
        "$$\n",
        "\\begin{aligned}\n",
        "    U3(\\theta, \\phi, \\lambda) = \\begin{pmatrix}\\cos(\\frac{\\theta}{2}) & -e^{i\\lambda}\\sin(\\frac{\\theta}{2}) \\\\ e^{i\\phi}\\sin(\\frac{\\theta}{2}) & e^{i\\lambda + i\\phi}\\cos(\\frac{\\theta}{2}) \\end{pmatrix}\n",
        "\\end{aligned}\n",
        "$$\n",
        "\n",
        "Up to a global phase, any possible single qubit transformation may be implemented by appropriately setting these parameters. Consequently, for the single qubit case, a variational form capable of generating any possible state is given by the circuit:\n",
        "\n",
        "![image1](https://github.com/qiskit-community/qiskit-textbook/blob/main/content/ch-applications/images/U3_var_form.png?raw=1)\n",
        "\n",
        "\n",
        "Moreover, this universal 'variational form' only has 3 parameters and thus can be efficiently optimized. It is worth emphasizing that the ability to generate an arbitrary state ensures that during the optimization process, the variational form does not limit the set of attainable states over which the expectation value of $H$ can be taken. Ideally, this ensures that the minimum expectation value is limited only by the capabilities of the classical optimizer. \n",
        "\n",
        "A less trivial universal variational form may be derived for the 2 qubit case, where two body interactions, and thus entanglement, must be considered to achieve universality. Based on the work presented by *Shende et al.* [3] the following is an example of a universal parameterized 2 qubit circuit:\n",
        "\n",
        "![image2](https://github.com/qiskit-community/qiskit-textbook/blob/main/content/ch-applications/images/two_qubit_var_form.png?raw=1)\n",
        "     \n",
        "Allow the transformation performed by the above circuit to be represented by $U(\\theta)$. When optimized, the expectation value of $H$ is minimized when $U(\\theta)|\\psi\\rangle \\equiv |\\psi(\\theta)\\rangle \\approx |\\psi_{\\text{min}}\\rangle$. By formulation, $U(\\theta)$ may produce a transformation to any possible state, and so this variational form may obtain an arbitrarily tight bound on two qubit ground state energies, only limited by the capabilities of the classical optimizer.\n",
        "\n",
        "### Parameter Optimization\n",
        "\n",
        "Once an efficiently parameterized variational form has been selected, in accordance with the variational method, its parameters must be optimized to minimize the expectation value of the target Hamiltonian. The parameter optimization process has various challenges. For example, quantum hardware has various types of noise and so objective function evaluation (energy calculation) may not necessarily reflect the true objective function. Additionally, some optimizers perform a number of objective function evaluations dependent on cardinality of the parameter set. An appropriate optimizer should be selected by considering the requirements of an application.\n",
        "\n",
        "A popular optimization strategy is gradient descent where each parameter is updated in the direction yielding the largest local change in energy. Consequently, the number of evaluations performed depends on the number of optimization parameters present. This allows the algorithm to quickly find a local optimum in the search space. However, this optimization strategy often gets stuck at poor local optima, and is relatively expensive in terms of the number of circuit evaluations performed. While an intuitive optimization strategy, it is not recommended for use in VQE.\n",
        "\n",
        "An appropriate optimizer for optimizing a noisy objective function is the *Simultaneous Perturbation Stochastic Approximation* optimizer (SPSA). SPSA approximates the gradient of the objective function with only two measurements. It does so by concurrently perturbing all the parameters in a random fashion, in contrast to gradient descent where each parameter is perturbed independently. When utilizing VQE in either a noisy simulator or on real hardware, SPSA is recommended as the classical optimizer.\n",
        "\n",
        "When noise is not present in the cost function evaluation (such as when using VQE with the `statevector` simulator), a wide variety of classical optimizers may be useful. Two such optimizers supported by Qiskit Aqua are the *Sequential Least Squares Programming* optimizer (SLSQP) and the *Constrained Optimization by Linear Approximation* optimizer (COBYLA). It is worth noting that COBYLA only performs one objective function evaluation per optimization iteration (and thus the number of evaluations is independent of the parameter set's cardinality). Therefore, if the objective function is noise-free and minimizing the number of performed evaluations is desirable, it is recommended to try COBYLA. \n",
        "\n",
        "### Example with a Single Qubit Variational Form\n",
        "\n",
        "We will now use the simple single qubit variational form to solve a problem similar to ground state energy estimation. Specifically, given a random probability vector $\\vec{x}$, we want to determine a parameterization for our single qubit variational form that outputs a probability distribution close to $\\vec{x}$ (where closeness is the Manhattan distance between the two probability vectors).\n",
        "\n",
        "We first create the random probability distribution in Python:"
      ]
    },
    {
      "cell_type": "code",
      "execution_count": null,
      "metadata": {
        "id": "9RYUJ_uORIMj"
      },
      "outputs": [],
      "source": [
        "# pylint: disable=missing-function-docstring\n",
        "import numpy as np\n",
        "np.random.seed(999999)\n",
        "p0 = np.random.random()\n",
        "target_distr = {0: p0, 1: 1-p0}"
      ]
    },
    {
      "cell_type": "markdown",
      "metadata": {
        "id": "meHbQTGfRIMj"
      },
      "source": [
        "We subsequently create a function that takes the parameters of our single U3 variational form as arguments and returns the corresponding quantum circuit:"
      ]
    },
    {
      "cell_type": "code",
      "execution_count": null,
      "metadata": {
        "id": "3cKw35zTRIMk"
      },
      "outputs": [],
      "source": [
        "from qiskit import QuantumCircuit, ClassicalRegister, QuantumRegister\n",
        "def get_var_form(params):\n",
        "    qr = QuantumRegister(1, name=\"q\")\n",
        "    cr = ClassicalRegister(1, name='c')\n",
        "    qc = QuantumCircuit(qr, cr)\n",
        "    qc.u(params[0], params[1], params[2], qr[0])\n",
        "    qc.measure(qr, cr[0])\n",
        "    return qc"
      ]
    },
    {
      "cell_type": "markdown",
      "metadata": {
        "id": "twVaMXo7RIMl"
      },
      "source": [
        "Now we specify the objective function which takes as input a list of the variational form's parameters, and returns the cost associated with those parameters:"
      ]
    },
    {
      "cell_type": "code",
      "execution_count": null,
      "metadata": {
        "id": "62foekj_RIMl"
      },
      "outputs": [],
      "source": [
        "from qiskit import Aer\n",
        "backend = Aer.get_backend(\"aer_simulator\")\n",
        "\n",
        "def counts_to_distr(counts):\n",
        "    \"\"\"Convert Qiskit result counts to dict with integers as\n",
        "    keys, and pseudo-probabilities as values.\"\"\"\n",
        "    n_shots = sum(counts.values())\n",
        "    return {int(k, 2): v/n_shots for k, v in counts.items()}\n",
        "\n",
        "def objective_function(params):\n",
        "    \"\"\"Compares the output distribution of our circuit with\n",
        "    parameters `params` to the target distribution.\"\"\"\n",
        "    # Create circuit instance with paramters and simulate it\n",
        "    qc = get_var_form(params)\n",
        "    result = backend.run(qc).result()\n",
        "    # Get the counts for each measured state, and convert\n",
        "    # those counts into a probability dict\n",
        "    output_distr = counts_to_distr(result.get_counts())\n",
        "    # Calculate the cost as the distance between the output\n",
        "    # distribution and the target distribution\n",
        "    cost = sum(\n",
        "        abs(target_distr.get(i, 0) - output_distr.get(i, 0))\n",
        "        for i in range(2**qc.num_qubits)\n",
        "    )\n",
        "    return cost"
      ]
    },
    {
      "cell_type": "markdown",
      "metadata": {
        "id": "2FcFLfP1RIMm"
      },
      "source": [
        "Finally, we create an instance of the COBYLA optimizer, and run the algorithm. Note that the output varies from run to run due to random noise. Moreover, while close, the obtained distribution will not be exactly the same as the target distribution."
      ]
    },
    {
      "cell_type": "code",
      "execution_count": null,
      "metadata": {
        "colab": {
          "base_uri": "https://localhost:8080/"
        },
        "id": "DjyibkJDRIMm",
        "outputId": "793d3e89-6188-4f3c-8875-78e3667fd23d"
      },
      "outputs": [],
      "source": [
        "from qiskit.algorithms.optimizers import COBYLA\n",
        "optimizer = COBYLA(maxiter=500, tol=0.0001)\n",
        "\n",
        "# Create the initial parameters (noting that our\n",
        "# single qubit variational form has 3 parameters)\n",
        "params = np.random.rand(3)\n",
        "result = optimizer.minimize(\n",
        "    fun=objective_function,\n",
        "    x0=params)\n",
        "\n",
        "# Obtain the output distribution using the final parameters\n",
        "qc = get_var_form(result.x)\n",
        "counts = backend.run(qc, shots=10000).result().get_counts()\n",
        "output_distr = counts_to_distr(counts)\n",
        "\n",
        "print(\"Parameters Found:\", result.x)\n",
        "print(\"Target Distribution:\", target_distr)\n",
        "print(\"Obtained Distribution:\", output_distr)\n",
        "print(\"Cost:\", objective_function(result.x))"
      ]
    },
    {
      "cell_type": "markdown",
      "metadata": {
        "id": "_PEH9Yg1RIMm"
      },
      "source": [
        "### Structure of Common Variational Forms\n",
        "\n",
        "As already discussed, it's impossible for a polynomially parameterized variational form to generate a transformation to any state. Variational forms can be grouped into two categories, depending on how they deal with this limitation. The first category of variational forms use domain or application specific knowledge to limit the set of possible output states. The second approach uses a heuristic circuit without prior domain or application specific knowledge. \n",
        "\n",
        "The first category of variational forms exploit characteristics of the problem domain to restrict the set of transformations that may be required. For example, when calculating the ground state energy of a molecule, the number of particles in the system is known *a priori*. Therefore, if a starting state with the correct number of particles is used, by limiting the variational form to only producing particle preserving transformations, the number of parameters required to span the new transformation subspace can be greatly reduced. Indeed, by utilizing similar information from Coupled-Cluster theory, the variational form UCCSD can obtain very accurate results for molecular ground state energy estimation when starting from the Hartree Fock state. Another example illustrating the exploitation of domain-specific knowledge follows from considering the set of circuits realizable on real quantum hardware. Extant quantum computers, such as those based on super conducting qubits, have limited qubit connectivity. That is, it's impossible to implement 2-qubit gates on arbitrary qubit pairs (without inserting swap gates). Thus, variational forms have been constructed for specific quantum computer architectures where the circuits are specifically tuned to maximally exploit the natively available connectivity and gates of a given quantum device. Such a variational form was used in 2017 to successfully implement VQE for the estimation of the ground state energies of molecules as large as BeH$_2$ on an IBM quantum computer [4].\n",
        "\n",
        "In the second approach, gates are layered such that good approximations on a wide range of states may be obtained. Qiskit supports three such variational forms: RyRz, Ry and SwapRz (we will only discuss the first two). All of these variational forms accept multiple user-specified configurations. Three essential configurations are the number of qubits in the system, the depth setting, and the entanglement setting. A single layer of a variational form specifies a certain pattern of single qubit rotations and CX gates. The depth setting says how many times the variational form should repeat this pattern. By increasing the depth setting, at the cost of increasing the number of parameters that must be optimized, the set of states the variational form can generate increases. Finally, the entanglement setting selects the configuration, and implicitly the number, of CX gates. For example, when the entanglement setting is linear, CX gates are applied to adjacent qubit pairs in order (and thus $n-1$ CX gates are added per layer). When the entanglement setting is full, a CX gate is applied to each qubit pair in each layer. The circuits for RyRz corresponding to `entanglement=\"full\"` and `entanglement=\"linear\"` can be seen by executing the following code snippet:"
      ]
    },
    {
      "cell_type": "code",
      "execution_count": null,
      "metadata": {
        "colab": {
          "base_uri": "https://localhost:8080/",
          "height": 344
        },
        "id": "iSaEPgEDRIMn",
        "outputId": "614ef406-3a5a-45b0-b922-3baf6644bbf2"
      },
      "outputs": [],
      "source": [
        "from qiskit.circuit.library import EfficientSU2\n",
        "entanglements = [\"linear\", \"full\"]\n",
        "for entanglement in entanglements:\n",
        "    form = EfficientSU2(num_qubits=4, entanglement=entanglement)\n",
        "    print(f\"{entanglement} entanglement:\")\n",
        "    # We initialize all parameters to 0 for this demonstration\n",
        "    display(form.decompose().draw(fold=-1))"
      ]
    },
    {
      "cell_type": "markdown",
      "metadata": {
        "id": "y2XfEGz_RIMn"
      },
      "source": [
        "Assume the depth setting is set to $d$. Then, RyRz has $2n\\times (d+1)$ parameters and Ry (not shown) has $n\\times (d+1)$ parameters."
      ]
    },
    {
      "cell_type": "markdown",
      "metadata": {
        "id": "k2lWJ8gHRIMn"
      },
      "source": [
        "## VQE Implementation in Qiskit\n",
        "\n",
        "This section illustrates an implementation of VQE using the programmatic approach. Qiskit also enables a declarative implementation, however, it reveals less information about the underlying algorithm. This code, specifically the preparation of qubit operators, is based on the code found in the Qiskit Tutorials repository (and as of July 2019, may be found at: https://github.com/Qiskit/qiskit-tutorials ).\n",
        "\n",
        "The following libraries must first be imported. \n"
      ]
    },
    {
      "cell_type": "code",
      "execution_count": null,
      "metadata": {
        "id": "-adh-KgzRIMn"
      },
      "outputs": [],
      "source": [
        "# pylint: disable=line-too-long\n",
        "from qiskit.algorithms import VQE\n",
        "from qiskit_nature.algorithms import (GroundStateEigensolver,\n",
        "                                      NumPyMinimumEigensolverFactory)\n",
        "from qiskit_nature.drivers import Molecule\n",
        "from qiskit_nature.drivers.second_quantization import (\n",
        "    ElectronicStructureMoleculeDriver, ElectronicStructureDriverType)\n",
        "from qiskit_nature.transformers.second_quantization.electronic import FreezeCoreTransformer\n",
        "from qiskit_nature.problems.second_quantization import ElectronicStructureProblem\n",
        "from qiskit_nature.converters.second_quantization import QubitConverter\n",
        "from qiskit_nature.mappers.second_quantization import ParityMapper\n",
        "# pylint: enable=line-too-long\n",
        "\n",
        "import matplotlib.pyplot as plt\n",
        "import numpy as np\n",
        "from qiskit_nature.circuit.library import UCCSD, HartreeFock\n",
        "from qiskit.circuit.library import EfficientSU2\n",
        "from qiskit.algorithms.optimizers import COBYLA, SPSA, SLSQP\n",
        "from qiskit.opflow import TwoQubitReduction\n",
        "from qiskit import BasicAer, Aer\n",
        "from qiskit.utils import QuantumInstance\n",
        "from qiskit.utils.mitigation import CompleteMeasFitter\n",
        "from qiskit.providers.aer.noise import NoiseModel"
      ]
    },
    {
      "cell_type": "markdown",
      "metadata": {
        "id": "l8JgbRmdRIMo"
      },
      "source": [
        "### Running VQE on the `statevector` Simulator\n",
        "\n",
        "We demonstrate the calculation of the ground state energy for LiH at various interatomic distances. A driver for the molecule must be created at each such distance. Note that in this experiment, to reduce the number of qubits used, we freeze the core and remove two unoccupied orbitals. First, we define a function that takes an interatomic distance and returns the appropriate qubit operator, $H$, as well as some other information about the operator."
      ]
    },
    {
      "cell_type": "code",
      "execution_count": null,
      "metadata": {
        "id": "0G3gN2J4RIMo"
      },
      "outputs": [],
      "source": [
        "def get_qubit_op(dist):\n",
        "    # Define Molecule\n",
        "    molecule = Molecule(\n",
        "        # Coordinates in Angstrom\n",
        "        geometry=[\n",
        "            [\"Li\", [0.0, 0.0, 0.0]],\n",
        "            [\"H\", [dist, 0.0, 0.0]]\n",
        "        ],\n",
        "        multiplicity=1,  # = 2*spin + 1\n",
        "        charge=0,\n",
        "    )\n",
        "\n",
        "    driver = ElectronicStructureMoleculeDriver(\n",
        "        molecule=molecule,\n",
        "        basis=\"sto3g\",\n",
        "        driver_type=ElectronicStructureDriverType.PYSCF)\n",
        "\n",
        "    # Get properties\n",
        "    properties = driver.run()\n",
        "    num_particles = (properties\n",
        "                        .get_property(\"ParticleNumber\")\n",
        "                        .num_particles)\n",
        "    num_spin_orbitals = int(properties\n",
        "                            .get_property(\"ParticleNumber\")\n",
        "                            .num_spin_orbitals)\n",
        "\n",
        "    # Define Problem, Use freeze core approximation, remove orbitals.\n",
        "    problem = ElectronicStructureProblem(\n",
        "        driver,\n",
        "        [FreezeCoreTransformer(freeze_core=True,\n",
        "                               remove_orbitals=[-3,-2])])\n",
        "\n",
        "    second_q_ops = problem.second_q_ops()  # Get 2nd Quant OP\n",
        "    num_spin_orbitals = problem.num_spin_orbitals\n",
        "    num_particles = problem.num_particles\n",
        "\n",
        "    mapper = ParityMapper()  # Set Mapper\n",
        "    hamiltonian = second_q_ops[0]  # Set Hamiltonian\n",
        "    # Do two qubit reduction\n",
        "    converter = QubitConverter(mapper,two_qubit_reduction=True)\n",
        "    reducer = TwoQubitReduction(num_particles)\n",
        "    qubit_op = converter.convert(hamiltonian)\n",
        "    qubit_op = reducer.convert(qubit_op)\n",
        "\n",
        "    return qubit_op, num_particles, num_spin_orbitals, problem, converter"
      ]
    },
    {
      "cell_type": "markdown",
      "metadata": {
        "id": "-Xz02TBQRIMo"
      },
      "source": [
        "First, the exact ground state energy is calculated using the qubit operator and a classical exact eigensolver. Subsequently, the initial state $|\\psi\\rangle$ is created, which the VQE instance uses to produce the final ansatz $\\min_{\\theta}(|\\psi(\\theta)\\rangle)$. The exact result and the VQE result at each interatomic distance is stored. Observe that the result given by `vqe.run(backend)['energy'] + shift` is equivalent the quantity $\\min_{\\theta}\\left(\\langle \\psi(\\theta)|H|\\psi(\\theta)\\rangle\\right)$, where the minimum is not necessarily the global minimum. \n",
        "\n",
        "When initializing the VQE instance with `VQE(qubit_op, var_form, optimizer, 'matrix')` the expectation value of $H$ on $|\\psi(\\theta)\\rangle$ is directly calculated through matrix multiplication. However, when using an actual quantum device, or a true simulator such as the `qasm_simulator` with `VQE(qubit_op, var_form, optimizer, 'paulis')` the calculation of the expectation value is more complicated. A Hamiltonian may be represented as a sum of a Pauli strings, with each Pauli term acting on a qubit as specified by the mapping being used. Each Pauli string has a corresponding circuit appended to the circuit corresponding to $|\\psi(\\theta)\\rangle$. Subsequently, each of these circuits is executed, and all of the results are used to determine the expectation value of $H$ on $|\\psi(\\theta)\\rangle$. In the following example, we initialize the VQE instance with `matrix` mode, and so the expectation value is directly calculated through matrix multiplication. \n",
        "\n",
        "Note that the following code snippet may take a few minutes to run to completion. "
      ]
    },
    {
      "cell_type": "code",
      "execution_count": null,
      "metadata": {
        "colab": {
          "base_uri": "https://localhost:8080/"
        },
        "id": "7TsAVAvBRIMo",
        "outputId": "d480ffdd-cd14-4105-8f78-1a9621a55049",
        "tags": [
          "output_scroll"
        ]
      },
      "outputs": [],
      "source": [
        "import warnings\n",
        "warnings.filterwarnings('ignore', category=DeprecationWarning)\n",
        "def exact_solver(problem, converter):\n",
        "    solver = NumPyMinimumEigensolverFactory()\n",
        "    calc = GroundStateEigensolver(converter, solver)\n",
        "    result = calc.solve(problem)\n",
        "    return result\n",
        "\n",
        "backend = BasicAer.get_backend(\"statevector_simulator\")\n",
        "distances = np.arange(0.5, 4.0, 0.2)\n",
        "exact_energies = []\n",
        "vqe_energies = []\n",
        "optimizer = SLSQP(maxiter=5)\n",
        "\n",
        "# pylint: disable=undefined-loop-variable\n",
        "for dist in distances:\n",
        "    (qubit_op, num_particles, num_spin_orbitals,\n",
        "                             problem, converter) = get_qubit_op(dist)\n",
        "    result = exact_solver(problem,converter)\n",
        "    exact_energies.append(result.total_energies[0].real)\n",
        "    init_state = HartreeFock(num_spin_orbitals, num_particles, converter)\n",
        "    var_form = UCCSD(converter,\n",
        "                     num_particles,\n",
        "                     num_spin_orbitals,\n",
        "                     initial_state=init_state)\n",
        "    vqe = VQE(var_form, optimizer, quantum_instance=backend)\n",
        "    vqe_calc = vqe.compute_minimum_eigenvalue(qubit_op)\n",
        "    vqe_result = problem.interpret(vqe_calc).total_energies[0].real\n",
        "    vqe_energies.append(vqe_result)\n",
        "    print(f\"Interatomic Distance: {np.round(dist, 2)}\",\n",
        "          f\"VQE Result: {vqe_result:.5f}\",\n",
        "          f\"Exact Energy: {exact_energies[-1]:.5f}\")\n",
        "\n",
        "print(\"All energies have been calculated\")"
      ]
    },
    {
      "cell_type": "code",
      "execution_count": null,
      "metadata": {
        "colab": {
          "base_uri": "https://localhost:8080/",
          "height": 448
        },
        "id": "3I0DWRcHRIMp",
        "outputId": "c34c8527-6cc3-4e29-b1e6-638d48f4af48"
      },
      "outputs": [],
      "source": [
        "plt.plot(distances, exact_energies, label=\"Exact Energy\")\n",
        "plt.plot(distances, vqe_energies, label=\"VQE Energy\")\n",
        "plt.xlabel('Atomic distance (Angstrom)')\n",
        "plt.ylabel('Energy')\n",
        "plt.legend()\n",
        "plt.show()"
      ]
    },
    {
      "cell_type": "markdown",
      "metadata": {
        "id": "VGVZpIKjRIMp"
      },
      "source": [
        "Note that the VQE results are very close to the exact results, and so the exact energy curve is hidden by the VQE curve."
      ]
    },
    {
      "cell_type": "markdown",
      "metadata": {
        "id": "fC0JW70CRIMp"
      },
      "source": [
        "### Running VQE on a Noisy Simulator\n",
        "\n",
        "Here, we calculate the ground state energy for H$_2$ using a noisy simulator and error mitigation. \n",
        "\n",
        "First, we prepare the qubit operator representing the molecule's Hamiltonian:"
      ]
    },
    {
      "cell_type": "code",
      "execution_count": null,
      "metadata": {
        "id": "HwYFzZbBRIMq"
      },
      "outputs": [],
      "source": [
        "molecule = Molecule(\n",
        "    geometry=[[\"H\", [0.0, 0.0, -0.3625]],\n",
        "              [\"H\", [0.0, 0.0, 0.3625]]],\n",
        "    multiplicity=1,charge=0)\n",
        "\n",
        "driver = ElectronicStructureMoleculeDriver(\n",
        "    molecule=molecule,\n",
        "    basis=\"sto3g\",\n",
        "    driver_type=ElectronicStructureDriverType.PYSCF)\n",
        "\n",
        "problem = ElectronicStructureProblem(driver)\n",
        "\n",
        "second_q_ops = problem.second_q_ops()  # Get 2nd Quant OP\n",
        "num_spin_orbitals = problem.num_spin_orbitals\n",
        "num_particles = problem.num_particles\n",
        "\n",
        "mapper = ParityMapper()  # Set Mapper\n",
        "\n",
        "hamiltonian = second_q_ops[0]  # Set Hamiltonian\n",
        "\n",
        "# Do two qubit reduction\n",
        "converter = QubitConverter(mapper,two_qubit_reduction=True)\n",
        "reducer = TwoQubitReduction(num_particles)\n",
        "qubit_op = converter.convert(hamiltonian)\n",
        "qubit_op = reducer.convert(qubit_op)"
      ]
    },
    {
      "cell_type": "markdown",
      "metadata": {
        "id": "wBkIq4pMRIMq"
      },
      "source": [
        "Now, we load a device coupling map and noise model from the IBMQ provider and create a quantum instance, enabling error mitigation:"
      ]
    },
    {
      "cell_type": "code",
      "execution_count": null,
      "metadata": {
        "id": "NpZLD9SSRIMq",
        "tags": [
          "uses-hardware"
        ]
      },
      "outputs": [],
      "source": [
        "from qiskit.providers.fake_provider import FakeManila\n",
        "backend = Aer.get_backend('aer_simulator')\n",
        "device = FakeManila()\n",
        "NOISE_MODEL = NoiseModel.from_backend(device)\n",
        "coupling_map = device.configuration().coupling_map\n",
        "qi = QuantumInstance(backend,\n",
        "                    coupling_map=coupling_map,\n",
        "                    noise_model=NOISE_MODEL,\n",
        "                    measurement_error_mitigation_cls=CompleteMeasFitter)"
      ]
    },
    {
      "cell_type": "markdown",
      "metadata": {
        "id": "B7ffQ9LXRIMq"
      },
      "source": [
        "Finally, we must configure the optimizer, the variational form, and the VQE instance. As the effects of noise increase as the number of two qubit gates circuit depth increase, we use a heuristic variational form (RYRZ) rather than UCCSD. RYRZ has a much shallower circuit than UCCSD and uses substantially fewer two qubit gates.\n",
        "\n",
        "The following code may take a few minutes to run to completion."
      ]
    },
    {
      "cell_type": "code",
      "execution_count": null,
      "metadata": {
        "colab": {
          "base_uri": "https://localhost:8080/"
        },
        "id": "9_u6A5MxRIMq",
        "outputId": "8e336b81-9261-4d83-9921-d4c1238beefa",
        "tags": [
          "uses-hardware"
        ]
      },
      "outputs": [],
      "source": [
        "result = exact_solver(problem,converter)\n",
        "exact_energies.append(result.total_energies)\n",
        "\n",
        "print(\"Exact Result:\", result.total_energies)\n",
        "optimizer = SPSA(maxiter=100)\n",
        "var_form = EfficientSU2(qubit_op.num_qubits, entanglement=\"linear\")\n",
        "vqe = VQE(var_form, optimizer=optimizer,quantum_instance=qi)\n",
        "vqe_calc=vqe.compute_minimum_eigenvalue(qubit_op)\n",
        "vqe_result=np.real(problem.interpret(vqe_calc).total_energies)\n",
        "print(\"VQE Result:\", vqe_result)"
      ]
    },
    {
      "cell_type": "markdown",
      "metadata": {
        "id": "JjIdKS4fRIMq"
      },
      "source": [
        "When noise mitigation is enabled, even though the result does not fall within chemical accuracy (defined as being within 0.0016 Hartree of the exact result), it is fairly close to the exact solution. "
      ]
    },
    {
      "cell_type": "markdown",
      "metadata": {
        "id": "67XUpt4bRIMr"
      },
      "source": [
        "## References\n",
        "\n",
        "1. Peruzzo, Alberto, et al. \"A variational eigenvalue solver on a photonic quantum processor.\" *Nature communications* 5 (2014): 4213.\n",
        "2. Griffiths, David J., and Darrell F. Schroeter. Introduction to quantum mechanics. *Cambridge University Press*, 2018.\n",
        "3. Shende, Vivek V., Igor L. Markov, and Stephen S. Bullock. \"Minimal universal two-qubit cnot-based circuits.\" arXiv preprint quant-ph/0308033 (2003).\n",
        "4. Kandala, Abhinav, et al. \"Hardware-efficient variational quantum eigensolver for small molecules and quantum magnets.\" Nature 549.7671 (2017): 242."
      ]
    },
    {
      "cell_type": "code",
      "execution_count": null,
      "metadata": {
        "colab": {
          "base_uri": "https://localhost:8080/",
          "height": 345
        },
        "id": "W0NkGmTURIMr",
        "outputId": "a6733ec3-496b-4450-c925-cb717b3d1909"
      },
      "outputs": [],
      "source": [
        "# pylint: disable=unused-import\n",
        "import qiskit.tools.jupyter\n",
        "%qiskit_version_table"
      ]
    }
  ],
  "metadata": {
    "colab": {
      "provenance": []
    },
    "kernelspec": {
      "display_name": "Python 3",
      "language": "python",
      "name": "python3"
    },
    "language_info": {
      "codemirror_mode": {
        "name": "ipython",
        "version": 3
      },
      "file_extension": ".py",
      "mimetype": "text/x-python",
      "name": "python",
      "nbconvert_exporter": "python",
      "pygments_lexer": "ipython3",
      "version": "3.9"
    }
  },
  "nbformat": 4,
  "nbformat_minor": 0
}
