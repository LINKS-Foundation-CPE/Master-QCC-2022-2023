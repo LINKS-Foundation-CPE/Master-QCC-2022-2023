{
  "cells": [
    {
      "cell_type": "markdown",
      "id": "jBrxYYXhyemH",
      "metadata": {
        "id": "jBrxYYXhyemH"
      },
      "source": [
        "# Efficient estimation techniques for Variational Quantum Simulation"
      ]
    },
    {
      "cell_type": "code",
      "execution_count": null,
      "id": "7_jh_kr4yiNx",
      "metadata": {
        "id": "7_jh_kr4yiNx"
      },
      "outputs": [],
      "source": [
        "!pip install pulser==0.17.3"
      ]
    },
    {
      "cell_type": "markdown",
      "id": "lNaG5OT_yemX",
      "metadata": {
        "id": "lNaG5OT_yemX"
      },
      "source": [
        "## Variational Quantum Simulation for the $H_2$ molecule"
      ]
    },
    {
      "cell_type": "markdown",
      "id": "pfEgPV9TyemY",
      "metadata": {
        "id": "pfEgPV9TyemY"
      },
      "source": [
        "The main problem with usual variational classical algorithms, the classical counterparts of VQS, is computing the value of the $2^n \\times 2^n$ matrix on the output state vector $\\bra{\\psi}H\\ket{\\psi}$ after each loop of the algorithm, which grows exponentially in the size of the system. The purpose of VQS algorithms is to offer a solution which time complexity only grows polynomially, thanks to reading all the important properties on the quantum state. Therefore, we need accurate and efficient methods to estimate these properties, which we'll present afterwards.\n",
        "\n",
        "For now, let's focus on what makes a VQS algorithm, specifically for computing the groundstate energy of the $H_2$ molecule."
      ]
    },
    {
      "cell_type": "markdown",
      "id": "Y5OFitJ9yemY",
      "metadata": {
        "id": "Y5OFitJ9yemY"
      },
      "source": [
        "### Jordan-Wigner Hamiltonian (cost function)"
      ]
    },
    {
      "cell_type": "markdown",
      "id": "GStuhPWqyemY",
      "metadata": {
        "id": "GStuhPWqyemY"
      },
      "source": [
        "We need to write the Hamiltonian in a way that's compatible with the formalism of quantum computing. We first second-quantize the Hamiltonian, obtaining an expression in terms of fermionic operators $a, a^\\dagger$. Then, we use the Jordan-Wigner transformation, which maps the fermionic operators to Pauli matrices. We obtain the Hamiltonian below, acting on $4$ qubits, decomposed in terms of the coefficients in front of the Pauli matrices.\n",
        "\n",
        "[This article by Seeley et al.](https://math.berkeley.edu/~linlin/2018Spring_290/SRL12.pdf) gives us the value of \n",
        "$H_{JW}$."
      ]
    },
    {
      "cell_type": "markdown",
      "id": "JjOyzgPTyemZ",
      "metadata": {
        "id": "JjOyzgPTyemZ"
      },
      "source": [
        "$$H_{J W}=-0.81261 \\mathbb{1}+0.171201 \\sigma_{0}^{z}+0.171201 \\sigma_{1}^{z}-0.2227965 \\sigma_{2}^{z} \\\\\n",
        "-0.2227965 \\sigma_{3}^{z} +0.16862325 \\sigma_{1}^{z} \\sigma_{0}^{z}+0.12054625 \\sigma_{2}^{z} \\sigma_{0}^{z} \\\\\n",
        "+0.165868 \\sigma_{2}^{z} \\sigma_{1}^{z}+0.165868 \\sigma_{3}^{z} \\sigma_{0}^{z} +0.12054625 \\sigma_{3}^{z}\\sigma_{1}^{z} \\\\\n",
        "+0.17434925 \\sigma_{3}^{z} \\sigma_{2}^{z}-0.04532175 \\sigma_{3}^{x} \\sigma_{2}^{x} \\sigma_{1}^{y} \\sigma_{0}^{y}\\\\\n",
        "+0.04532175 \\sigma_{3}^{x} \\sigma_{2}^{y} \\sigma_{1}^{y} \\sigma_{0}^{x}+0.04532175 \\sigma_{3}^{y} \\sigma_{2}^{x}\n",
        "\\sigma_{1}^{x} \\sigma_{0}^{y} -0.04532175 \\sigma_{3}^{y} \\sigma_{2}^{y} \\sigma_{1}^{x} \\sigma_{0}^{x}$$"
      ]
    },
    {
      "cell_type": "code",
      "execution_count": null,
      "id": "NGVtdTl3zE3g",
      "metadata": {
        "id": "NGVtdTl3zE3g"
      },
      "outputs": [],
      "source": [
        "import numpy as np\n",
        "import qutip\n",
        "import matplotlib.pyplot as plt\n",
        "from scipy.optimize import minimize\n",
        "\n",
        "from pulser import Register, Sequence, Pulse\n",
        "from pulser.devices import Chadoq2\n",
        "from pulser_simulation import Simulation"
      ]
    },
    {
      "cell_type": "code",
      "execution_count": null,
      "id": "sY3gMTM0zJrF",
      "metadata": {
        "id": "sY3gMTM0zJrF"
      },
      "outputs": [],
      "source": [
        "num_qubits = 4\n",
        "zero_state = qutip.basis(2, 0).proj()\n",
        "one_state = qutip.basis(2, 1).proj()\n",
        "hadamard = 1 / np.sqrt(2) * qutip.Qobj([[1.0, 1.0], [1.0, -1.0]])\n",
        "h_mul_phase = qutip.Qobj(np.array([[1.0, 1], [1.0j, -1.0j]])) / np.sqrt(2)\n",
        "unitary_ensemble = [hadamard, h_mul_phase, qutip.qeye(2)]\n",
        "\n",
        "g = qutip.basis(2, 1)\n",
        "r = qutip.basis(2, 0)\n",
        "n = r * r.dag()\n",
        "\n",
        "sx = qutip.sigmax()\n",
        "sy = qutip.sigmay()\n",
        "sz = qutip.sigmaz()\n",
        "\n",
        "gggg = qutip.tensor([g, g, g, g])\n",
        "ggrr = qutip.tensor([g, g, r, r])"
      ]
    },
    {
      "cell_type": "code",
      "execution_count": null,
      "id": "hQacpvdlyemZ",
      "metadata": {
        "id": "hQacpvdlyemZ"
      },
      "outputs": [],
      "source": [
        "def pauli(positions=[], operators=[]):\n",
        "    op_list = [\n",
        "        operators[positions.index(j)] if j in positions else qutip.qeye(2)\n",
        "        for j in range(num_qubits)\n",
        "    ]\n",
        "    return qutip.tensor(op_list)"
      ]
    },
    {
      "cell_type": "code",
      "execution_count": null,
      "id": "LX3Cd8r1yemZ",
      "metadata": {
        "id": "LX3Cd8r1yemZ"
      },
      "outputs": [],
      "source": [
        "coeff_fact = [\n",
        "    0.81261,\n",
        "    0.171201,\n",
        "    0.2227965,\n",
        "    0.16862325,\n",
        "    0.174349,\n",
        "    0.12054625,\n",
        "    0.165868,\n",
        "    0.04532175,\n",
        "]\n",
        "\n",
        "paulis = [\n",
        "    pauli(),\n",
        "    pauli([0], [sz]) + pauli([1], [sz]),\n",
        "    pauli([2], [sz]) + pauli([3], [sz]),\n",
        "    pauli([1, 0], [sz, sz]),\n",
        "    pauli([3, 2], [sz, sz]),\n",
        "    pauli([2, 0], [sz, sz]) + pauli([3, 1], [sz, sz]),\n",
        "    pauli([2, 1], [sz, sz]) + pauli([3, 0], [sz, sz]),\n",
        "    pauli([3, 2, 1, 0], [sx, sx, sy, sy])\n",
        "    + pauli([3, 2, 1, 0], [sy, sy, sx, sx]),\n",
        "    pauli([3, 2, 1, 0], [sx, sy, sy, sx])\n",
        "    + pauli([3, 2, 1, 0], [sy, sx, sx, sy]),\n",
        "]"
      ]
    },
    {
      "cell_type": "code",
      "execution_count": null,
      "id": "vYSkmnQ-yemZ",
      "metadata": {
        "id": "vYSkmnQ-yemZ",
        "scrolled": true
      },
      "outputs": [],
      "source": [
        "# H2 Molecule : 4 qubits in Jordan-Wigner mapping of the Hamiltonian\n",
        "a = 10\n",
        "reg = Register.from_coordinates(\n",
        "    [\n",
        "        [0, 0],\n",
        "        [a, 0],\n",
        "        [0.5 * a, a * np.sqrt(3) / 2],\n",
        "        [0.5 * a, -a * np.sqrt(3) / 2],\n",
        "    ]\n",
        ")\n",
        "reg.draw()"
      ]
    },
    {
      "cell_type": "markdown",
      "id": "oCqhj5p5yema",
      "metadata": {
        "id": "oCqhj5p5yema"
      },
      "source": [
        "Let us keep the exact ground-state energy of the molecule for future reference, by diagonalizing it exactly - this is possible for such a small system, however, this quickly becomes an intractable problem for large molecules."
      ]
    },
    {
      "cell_type": "code",
      "execution_count": null,
      "id": "zl5ragOJyema",
      "metadata": {
        "id": "zl5ragOJyema"
      },
      "outputs": [],
      "source": [
        "def cost_hamiltonian_JW():\n",
        "    H = (\n",
        "        -coeff_fact[0] * paulis[0]\n",
        "        + coeff_fact[1] * paulis[1]\n",
        "        - coeff_fact[2] * paulis[2]\n",
        "        + coeff_fact[3] * paulis[3]\n",
        "        + coeff_fact[4] * paulis[4]\n",
        "        + coeff_fact[5] * paulis[5]\n",
        "        + coeff_fact[6] * paulis[6]\n",
        "        - coeff_fact[7] * paulis[7]\n",
        "        + coeff_fact[7] * paulis[8]\n",
        "    )\n",
        "    return H\n",
        "\n",
        "\n",
        "global H\n",
        "H = cost_hamiltonian_JW()\n",
        "exact_energy, ground_state = H.groundstate()\n",
        "print(exact_energy, ground_state)"
      ]
    },
    {
      "cell_type": "markdown",
      "id": "oudb5FOByema",
      "metadata": {
        "id": "oudb5FOByema"
      },
      "source": [
        "### Quantum Loop (VQS)"
      ]
    },
    {
      "cell_type": "markdown",
      "id": "5KIZoso6yema",
      "metadata": {
        "id": "5KIZoso6yema"
      },
      "source": [
        "Much like in the *Using QAOA to solve a QUBO problem* notebook, we will use a mixed classical-quantum approach for minimizing the energy. The quantum part will do the exploration in Hilbert space, according to a certain set of parameters $\\theta_i, \\tau_j$, and the classical part will find the optimal parameters given the value of the energy after each loop. For now, we will ignore sampling problems and simply compute the exact expectation value of $H_{JW}$. See [this article by Xiao Yuan et al.](https://arxiv.org/abs/1812.08767) for details about VQS algorithms."
      ]
    },
    {
      "cell_type": "markdown",
      "id": "IK8gepNzyema",
      "metadata": {
        "id": "IK8gepNzyema"
      },
      "source": [
        "Two mixing Hamiltonians are used for the exploration of the solution space :\n",
        "$H_1 = \\hbar / 2 \\sum_i \\sigma_i^x + \\sum_{j<i}\\frac{C_6}{|\\textbf{r}_i-\\textbf{r}_j|^{6}} \\hat n_i \\hat n_j$ and $H_2 = H_1 + \\hbar / 2 \\sum_i \\sigma_i^z$.\n",
        "We apply them repeatedly one after the other in $p$ layers. In total, $2p$ unitaries $U(\\theta_i, H_1) = \\exp(-i \\theta_i H_1)$ and $U(\\tau_i, H_2) = \\exp(-i \\tau_i H_2)$ act on the initial state to produce state $|\\Psi(\\theta, \\tau)\\rangle$ and measure $H_{JW}$."
      ]
    },
    {
      "cell_type": "code",
      "execution_count": null,
      "id": "No-sgKqkyema",
      "metadata": {
        "id": "No-sgKqkyema"
      },
      "outputs": [],
      "source": [
        "def quantum_loop(param, in_state, r=reg):\n",
        "    \"\"\"\n",
        "    Args:\n",
        "        param (np.array): time parameters for each mixing Hamiltonian. There are 2p time parameters in param.\n",
        "        in_state (qubit.Qobj): initial state.\n",
        "    \"\"\"\n",
        "    seq = Sequence(r, Chadoq2)\n",
        "    seq.declare_channel(\"ch0\", \"rydberg_global\")\n",
        "    middle = len(param) // 2\n",
        "\n",
        "    for tau, t in zip(param[middle:], param[:middle]):\n",
        "        pulse_1 = Pulse.ConstantPulse(tau, 1.0, 0, 0)\n",
        "        pulse_2 = Pulse.ConstantPulse(t, 1.0, 1.0, 0)\n",
        "        seq.add(pulse_1, \"ch0\")\n",
        "        seq.add(pulse_2, \"ch0\")\n",
        "\n",
        "    seq.measure(\"ground-rydberg\")\n",
        "    simul = Simulation(seq, sampling_rate=0.05)\n",
        "    simul.initial_state = in_state\n",
        "    results = simul.run()\n",
        "    return results.expect([H])[-1][-1]\n",
        "\n",
        "\n",
        "def loop_JW(param, in_state):\n",
        "    res = minimize(\n",
        "        quantum_loop,\n",
        "        param,\n",
        "        method=\"Nelder-Mead\",\n",
        "        args=in_state,\n",
        "        options={\"return_all\": True, \"maxiter\": 50, \"adaptive\": True},\n",
        "    )\n",
        "    return res"
      ]
    },
    {
      "cell_type": "markdown",
      "id": "4OoFulZ-yema",
      "metadata": {
        "id": "4OoFulZ-yema"
      },
      "source": [
        "We choose to act on the quantum states with $5$ layers of noncommuting mixing Hamiltonians, and an initial set of parameters such that pulses with Hamiltonian $H_1$ last $2\\mu s$, and those with $H_2$ last $4\\mu s$."
      ]
    },
    {
      "cell_type": "code",
      "execution_count": null,
      "id": "Ld4vf0E8yemb",
      "metadata": {
        "id": "Ld4vf0E8yemb"
      },
      "outputs": [],
      "source": [
        "# Setup for VQS\n",
        "layers = 5\n",
        "param = [2000] * layers + [4000] * layers"
      ]
    },
    {
      "cell_type": "markdown",
      "id": "38mqgGHuyemb",
      "metadata": {
        "id": "38mqgGHuyemb"
      },
      "source": [
        "We now obtain the ground-state energy :"
      ]
    },
    {
      "cell_type": "code",
      "execution_count": null,
      "id": "GYhcASY8yemb",
      "metadata": {
        "id": "GYhcASY8yemb"
      },
      "outputs": [],
      "source": [
        "import warnings\n",
        "\n",
        "# Ignore the warnings\n",
        "warnings.filterwarnings(\"ignore\", category=UserWarning)\n",
        "\n",
        "loop_ising_results = loop_JW(param, gggg)\n",
        "print(loop_ising_results.fun, exact_energy)"
      ]
    },
    {
      "cell_type": "markdown",
      "id": "AumpLUizyemb",
      "metadata": {
        "id": "AumpLUizyemb"
      },
      "source": [
        "As we can see, it's not so far off, since we're about $2$% off from the exact value. Adding more layers, tweaking the mixing Hamiltonians or the initial parameters can help with the accuracy. \n",
        "\n",
        "Let's see how well the optimizer did after each loop."
      ]
    },
    {
      "cell_type": "code",
      "execution_count": null,
      "id": "6G1C62Gmyemb",
      "metadata": {
        "id": "6G1C62Gmyemb"
      },
      "outputs": [],
      "source": [
        "plt.plot(\n",
        "    [quantum_loop(pars, gggg) for pars in loop_ising_results.allvecs], \"k\"\n",
        ")\n",
        "plt.axhline(exact_energy, color=\"red\")"
      ]
    },
    {
      "cell_type": "markdown",
      "id": "CdamXg3Hyemb",
      "metadata": {
        "id": "CdamXg3Hyemb"
      },
      "source": [
        "Seems like we can cut on calculation time by only allowing $100$ iterations, since we don't get much more accurate afterwards."
      ]
    },
    {
      "cell_type": "code",
      "execution_count": null,
      "id": "Z61uEhUTzPQP",
      "metadata": {
        "id": "Z61uEhUTzPQP"
      },
      "outputs": [],
      "source": []
    }
  ],
  "metadata": {
    "celltoolbar": "Tags",
    "colab": {
      "provenance": []
    },
    "kernelspec": {
      "display_name": "Python 3",
      "language": "python",
      "name": "python3"
    },
    "language_info": {
      "codemirror_mode": {
        "name": "ipython",
        "version": 3
      },
      "file_extension": ".py",
      "mimetype": "text/x-python",
      "name": "python",
      "nbconvert_exporter": "python",
      "pygments_lexer": "ipython3",
      "version": "3.7.3"
    }
  },
  "nbformat": 4,
  "nbformat_minor": 5
}
