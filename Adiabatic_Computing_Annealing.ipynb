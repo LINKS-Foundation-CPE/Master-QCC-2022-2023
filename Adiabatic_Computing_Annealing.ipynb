{
 "cells": [
  {
   "cell_type": "markdown",
   "metadata": {},
   "source": [
    "# Adiabatic Quantum Computing and Quantum Annealing"
   ]
  },
  {
   "cell_type": "markdown",
   "metadata": {},
   "source": [
    "When we talk about quantum computing, we actually talk about several different paradigms.\n",
    "The most common one is gate-model quantum computing. In this case, gates are applied on qubit registers to perform arbitrary transformations of quantum states made up of qubits. \n",
    "    The second most common paradigm is quantum annealing. This paradigm is often also referred\n",
    "to as adiabatic quantum computing, although there are subtle differences. Quantum annealing\n",
    "solves a more specific problem -- universality is not a requirement -- which makes it an\n",
    "easier, albeit still difficult engineering challenge to scale it up. The most prominent realisation is made by D-Wave Systems with more than 5000 qubits.\n"
   ]
  },
  {
   "cell_type": "markdown",
   "metadata": {},
   "source": [
    "Gate-model quantum computing is conceptually easier to understand: it is the generalization\n",
    "of digital computing. Instead of deterministic logical operations of bit strings, we have deterministic\n",
    "transformations of (quantum) probability distributions over bit strings. We briefly\n",
    "discuss the adiabatic theorem, which provides the foundation why quantum annealing would\n",
    "work at all."
   ]
  },
  {
   "cell_type": "markdown",
   "metadata": {},
   "source": [
    "## 1 Adiabatic theorem adiabatic quantum computing\n",
    "\n",
    "An adiabatic process means that conditions change slowly enough for the system to adapt to\n",
    "the new configuration. For instance, in a quantum mechanical system, we can start from some\n",
    "Hamiltonian $H_0$ and slowly change it to some other Hamiltonian $H_1$. The simplest change could\n",
    "be a linear schedule:\n",
    "$$ \n",
    "H(t) = (1 - t)H_0 + t\\cdot H_1,\n",
    "$$\n",
    "for $t \\in [0, 1]$ on some time scale. This Hamiltonian depends on time, so solving the Schrödinger\n",
    "equation is considerably more complicated. The adiabatic theorem says that if the change in the\n",
    "time-dependent Hamiltonian occurs slowly, the resulting dynamics remain simple: starting close\n",
    "to an eigenstate, the system remains close to an eigenstate. This implies that if the system started\n",
    "in the ground state, if certain conditions are met, the system stays in the ground state.\n",
    "We call the energy difference between the ground state and the first excited state the gap. If\n",
    "$H(t)$ has a nonnegative gap for each t during the transition and the change happens slowly, then\n",
    "the system stays in the ground state. If we denote the time-dependent gap by $Δ(t)$, a course\n",
    "approximation of the speed limit scales as $1/ min(Δ(t))^2$.\n",
    "This theorem allows something highly unusual. We can reach the ground state of an easy-\n",
    "to-solve quantum many body system, and change the Hamiltonian to a system we are interested\n",
    "in. For instance, we could start with the Hamiltonian $\\Sigma_i \\sigma_i^X$\n",
    "-- its ground state is just the equal superposition. Let’s see this on two sites:"
   ]
  },
  {
   "cell_type": "code",
   "execution_count": 17,
   "metadata": {},
   "outputs": [
    {
     "name": "stdout",
     "output_type": "stream",
     "text": [
      "Eigenvalues: [-2. -0.  0.  2.]\n",
      "Eigenstate for lowest eigenvalue [-0.5 -0.5 -0.5 -0.5]\n"
     ]
    }
   ],
   "source": [
    "!pip install dwave-ocean-sdk\n",
    "import numpy as np\n",
    "np.set_printoptions(precision=3,suppress=True)\n",
    "             \n",
    "X = np.array([[0, 1], [1, 0]])\n",
    "IX = np.kron(np.eye(2), X)\n",
    "XI = np.kron(X, np.eye(2))\n",
    "H_0 = - (IX + XI)\n",
    "E, v = np.linalg.eigh(H_0)\n",
    "print(\"Eigenvalues:\", E)\n",
    "print(\"Eigenstate for lowest eigenvalue\", v[:, 0])"
   ]
  },
  {
   "cell_type": "markdown",
   "metadata": {},
   "source": [
    "Note than the energy gap is non-negative and quite large."
   ]
  },
  {
   "cell_type": "markdown",
   "metadata": {},
   "source": [
    "Then we could turn this Hamiltonian slowly into a classical Ising model and read out the\n",
    "global solution.\n",
    "Adiabatic quantum computation exploits this phenomenon and it is able to perform universal\n",
    "calculations with the final Hamiltonian being $H = -\\Sigma_{<i,j>}J_{i,j}\\sigma_i^Z\\sigma_j^Z -\\Sigma_i h_i\\sigma_i^Z  -\\Sigma_{<i,j>}g_{i,j}\\sigma_i^X\\sigma_j^X$\n",
    "\n",
    "Note that is not the transverse-field Ising model: the last term is an X-X interaction. If a quantum\n",
    "computer respects the speed limit, guarantees the finite gap, and implements this Hamiltonian,\n",
    "then it is equivalent to the gate model with some overhead."
   ]
  },
  {
   "cell_type": "markdown",
   "metadata": {},
   "source": [
    "## 2 Quantum annealing\n",
    "A theoretical obstacle to adiabatic quantum computing is that calculating the speed limit is clearly\n",
    "not trivial; in fact, it is harder than solving the original problem of finding the ground state of some\n",
    "Hamiltonian of interest. Engineering constraints also apply: the qubits decohere, the environment\n",
    "has finite temperature, and so on. Quantum annealing drops the strict requirements and instead\n",
    "of respecting speed limits, it repeats the transition (the annealing) over and over again. Having\n",
    "collected a number of samples, we pick the spin configuration with the lowest energy as our\n",
    "solution. There is no guarantee that this is the ground state.\n",
    "Quantum annealing has a slightly different software stack than gate-model quantum computers.\n",
    "Instead of a quantum circuit, the level of abstraction is the classical Ising model -- the problem\n",
    "we are interested in solving must be in this form. Then, just like superconducting gate-model\n",
    "quantum computers, superconducting quantum annealers also suffer from limited connectivity.\n",
    "In this case, it means that if our problem’s connectivity does not match that of the hardware, we\n",
    "have to find a graph minor embedding. This will combine several physical qubits into a logical\n",
    "qubit.\n",
    "A possible classical solver for the Ising model is the simulated annealer. D-Wave Ocean software suite offer ways to implement and solve an Ising problem. Let's see a simple example:"
   ]
  },
  {
   "cell_type": "code",
   "execution_count": 18,
   "metadata": {},
   "outputs": [
    {
     "name": "stdout",
     "output_type": "stream",
     "text": [
      "Energy of samples:\n",
      "[-2.0, -2.0, -2.0, -2.0, -2.0, -2.0, -2.0, -2.0, -2.0, -2.0]\n"
     ]
    }
   ],
   "source": [
    "# simple Ising model and lowest energy \n",
    "import dimod\n",
    "J = {(0, 1): 1.0, (1, 2): -1.0}\n",
    "h = {0:0, 1:0, 2:0}\n",
    "model = dimod.BinaryQuadraticModel(h, J, 0.0, dimod.SPIN)\n",
    "sampler = dimod.SimulatedAnnealingSampler()\n",
    "response = sampler.sample(model, num_reads=10)\n",
    "print(\"Energy of samples:\")\n",
    "print([solution.energy for solution in response.data()])"
   ]
  },
  {
   "cell_type": "markdown",
   "metadata": {},
   "source": [
    "In an adiabatic process, conditions change slowly enough for the system to\n",
    "adapt to the new configuration. The speed of change heavily depends on the gap, that is, the difference between the ground state energy and the first excited state of all Hamiltonians $H(t)$, $t \\in [0, 1]$.\n",
    "It is easy to craft a Hamiltonian where this gap is small, so the speed limit has to be low. If\n",
    "you take a classical Ising model with coupling strengths on vastly different scales, that is what\n",
    "you get. For instance, calculate the gap (the difference between the smallest and second smallest\n",
    "eigenvalue) of the Hamitonian $H_1 = -1000\\sigma_1^Z\\sigma_2^Z -0.1\\sigma_2^Z\\sigma_3^Z-0.5\\sigma_1^Z$\n",
    "acting on a three-qubit system\n",
    "(the last linear term is there to make the ground state unique). Remember that since you have three qubits, the $\\sigma_1^Z\n",
    "\\sigma_2^Z$ operator, for instance, actually means $\\sigma_1^Z \\otimes \\sigma_2^Z \\otimes \\mathbb{1}$ "
   ]
  },
  {
   "cell_type": "code",
   "execution_count": 19,
   "metadata": {},
   "outputs": [
    {
     "name": "stdout",
     "output_type": "stream",
     "text": [
      "[[-1000.6    -0.     -0.     -0.     -0.     -0.     -0.     -0. ]\n",
      " [   -0.  -1000.4    -0.     -0.     -0.      0.     -0.     -0. ]\n",
      " [   -0.     -0.    999.6     0.     -0.     -0.      0.     -0. ]\n",
      " [   -0.     -0.      0.    999.4    -0.     -0.     -0.     -0. ]\n",
      " [   -0.     -0.     -0.     -0.   1000.4     0.      0.      0. ]\n",
      " [   -0.      0.     -0.     -0.      0.   1000.6     0.      0. ]\n",
      " [   -0.     -0.      0.     -0.      0.      0.   -999.4     0. ]\n",
      " [   -0.     -0.     -0.     -0.      0.      0.      0.   -999.6]]\n"
     ]
    }
   ],
   "source": [
    "# Calculate energy gap on a Ising model \n",
    "Z = np.array([[1, 0], [0, -1]])\n",
    "#\n",
    "ZZ = np.kron(Z, Z)\n",
    "Z12I = np.kron(ZZ, np.eye(2))\n",
    "ZI23 = np.kron(np.eye(2),ZZ)\n",
    "Z1II = np.kron(Z, np.eye(4))\n",
    "H = -1000*Z12I-0.1*ZI23-0.5*Z1II\n",
    "print(H)"
   ]
  },
  {
   "cell_type": "code",
   "execution_count": 20,
   "metadata": {},
   "outputs": [
    {
     "name": "stdout",
     "output_type": "stream",
     "text": [
      "[-1000.6 -1000.4  -999.6  -999.4   999.4   999.6  1000.4  1000.6]\n",
      "[[1. 0. 0. 0. 0. 0. 0. 0.]\n",
      " [0. 1. 0. 0. 0. 0. 0. 0.]\n",
      " [0. 0. 0. 0. 0. 1. 0. 0.]\n",
      " [0. 0. 0. 0. 1. 0. 0. 0.]\n",
      " [0. 0. 0. 0. 0. 0. 1. 0.]\n",
      " [0. 0. 0. 0. 0. 0. 0. 1.]\n",
      " [0. 0. 0. 1. 0. 0. 0. 0.]\n",
      " [0. 0. 1. 0. 0. 0. 0. 0.]]\n",
      "0.20000000000004547\n"
     ]
    }
   ],
   "source": [
    "E, v = np.linalg.eigh(H)\n",
    "print(E)\n",
    "print(v)\n",
    "gap = E[1]-E[0]\n",
    "print(gap)"
   ]
  },
  {
   "cell_type": "markdown",
   "metadata": {},
   "source": [
    "this to the gap of the Hamiltonian $H_0 = \\Sigma^3_{i=1} \\sigma_i^X$. Again, calculate the value in a variable called gap."
   ]
  },
  {
   "cell_type": "code",
   "execution_count": 21,
   "metadata": {},
   "outputs": [
    {
     "name": "stdout",
     "output_type": "stream",
     "text": [
      "[[-0. -1. -1. -0. -1. -0. -0. -0.]\n",
      " [-1. -0. -0. -1. -0. -1. -0. -0.]\n",
      " [-1. -0. -0. -1. -0. -0. -1. -0.]\n",
      " [-0. -1. -1. -0. -0. -0. -0. -1.]\n",
      " [-1. -0. -0. -0. -0. -1. -1. -0.]\n",
      " [-0. -1. -0. -0. -1. -0. -0. -1.]\n",
      " [-0. -0. -1. -0. -1. -0. -0. -1.]\n",
      " [-0. -0. -0. -1. -0. -1. -1. -0.]]\n",
      "[-3. -1. -1. -1.  1.  1.  1.  3.]\n",
      "[[-0.354 -0.537 -0.204 -0.213  0.435 -0.431  0.     0.354]\n",
      " [-0.354 -0.261 -0.364  0.418 -0.432 -0.146  0.408 -0.354]\n",
      " [-0.354  0.092 -0.315 -0.517  0.247  0.54   0.149 -0.354]\n",
      " [-0.354  0.368 -0.476  0.114 -0.25   0.037 -0.558  0.354]\n",
      " [-0.354 -0.368  0.476 -0.114 -0.25   0.037 -0.558 -0.354]\n",
      " [-0.354 -0.092  0.315  0.517  0.247  0.54   0.149  0.354]\n",
      " [-0.354  0.261  0.364 -0.418 -0.432 -0.146  0.408  0.354]\n",
      " [-0.354  0.537  0.204  0.213  0.435 -0.431  0.    -0.354]]\n",
      "1.9999999999999991\n"
     ]
    }
   ],
   "source": [
    "X = np.array([[0, 1], [1, 0]])\n",
    "#\n",
    "X1II = np.kron(X, np.eye(4))\n",
    "XI2I = np.kron(np.eye(2), np.kron(X, np.eye(2)))\n",
    "XII3 = np.kron(np.eye(4), X)\n",
    "H = -X1II -XI2I -XII3\n",
    "print(H)\n",
    "E, v = np.linalg.eigh(H)\n",
    "print(E)\n",
    "print(v)\n",
    "gap = E[1]-E[0]\n",
    "print(gap)\n",
    "#"
   ]
  },
  {
   "cell_type": "markdown",
   "metadata": {},
   "source": [
    "You can see that there is a vast difference in the gap between the two Hamiltonians. This could\n",
    "be leveraged: for instance, the initial part of the annealing could go faster, since the gap is large,\n",
    "and then slow down towards reaching the target Hamiltonian. The optimal annealing schedule is\n",
    "a research topic on its own."
   ]
  },
  {
   "cell_type": "markdown",
   "metadata": {},
   "source": [
    "On a real quantum annealing device, we drop the stringent theoretical requirements\n",
    "of following the adiabatic pathway and we repeat the transition over and over again.\n",
    "Then we choose the lowest energy solution as our optimum.\n",
    "The classical ’simulator’ for a quantum annealer is some heuristic solver of combinatorial optimization,\n",
    "for instance, simulated annealing. We can use the dimod package to implement the Hamiltonian\n",
    "with a small gap: $H_1 = -1000\\sigma_1^Z\\sigma_2^Z -0.1\\sigma_2^Z\\sigma_3^Z-0.5\\sigma_1^Z$:"
   ]
  },
  {
   "cell_type": "code",
   "execution_count": 22,
   "metadata": {},
   "outputs": [
    {
     "name": "stdout",
     "output_type": "stream",
     "text": [
      "Energy of samples:\n",
      "[-1000.6, -1000.6, -1000.6, -1000.6, -999.6, -999.6, -999.6, -999.6, -999.6, -999.6]\n"
     ]
    }
   ],
   "source": [
    "import dimod\n",
    "#\n",
    "J= {(0, 1): -1000, (1, 2): -0.1, (2, 3): 0}\n",
    "h = {0:-0.5, 1:0, 2:0}\n",
    "model = dimod.BinaryQuadraticModel(h, J, 0.0, dimod.SPIN)\n",
    "sampler = dimod.SimulatedAnnealingSampler()\n",
    "response = sampler.sample(model, num_reads=10)\n",
    "print(\"Energy of samples:\")\n",
    "print([solution.energy for solution in response.data()])\n",
    "#"
   ]
  },
  {
   "cell_type": "markdown",
   "metadata": {},
   "source": [
    "Unlike in the case of a simple system, you often do not got the ground state!"
   ]
  },
  {
   "cell_type": "code",
   "execution_count": null,
   "metadata": {},
   "outputs": [],
   "source": []
  }
 ],
 "metadata": {
  "kernelspec": {
   "display_name": "Python 3",
   "language": "python",
   "name": "python3"
  },
  "language_info": {
   "codemirror_mode": {
    "name": "ipython",
    "version": 3
   },
   "file_extension": ".py",
   "mimetype": "text/x-python",
   "name": "python",
   "nbconvert_exporter": "python",
   "pygments_lexer": "ipython3",
   "version": "3.7.3"
  }
 },
 "nbformat": 4,
 "nbformat_minor": 2
}
