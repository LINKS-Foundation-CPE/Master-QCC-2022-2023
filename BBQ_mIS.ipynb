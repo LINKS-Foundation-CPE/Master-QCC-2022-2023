{
  "nbformat": 4,
  "nbformat_minor": 0,
  "metadata": {
    "colab": {
      "provenance": []
    },
    "kernelspec": {
      "name": "python3",
      "display_name": "Python 3"
    },
    "language_info": {
      "name": "python"
    }
  },
  "cells": [
    {
      "cell_type": "markdown",
      "source": [
        "#**BBQ-mIS**\n",
        "Graph coloring optimization on neutral atoms quantum machines.\n",
        "* clone repository (codes building blocks and graphs dataset)\n",
        "* install needed libraries\n",
        "* investigate BB behaviour by changing \n",
        "  * exploration policy, i.e. queue_strategy (https://pybnb.readthedocs.io/en/stable/index.html)\n",
        "  * feasible coloring computation\n",
        "  * maximum number of explored nodes"
      ],
      "metadata": {
        "id": "giPpluoycnlc"
      }
    },
    {
      "cell_type": "code",
      "source": [
        "!git clone https://github.com/LINKS-Foundation-CPE/Master-QCC-2022-2023.git"
      ],
      "metadata": {
        "id": "tx8StvwKFrSe",
        "colab": {
          "base_uri": "https://localhost:8080/"
        },
        "outputId": "99c6fa7d-c56b-4dc7-c97d-a97cf89a27cd"
      },
      "execution_count": 1,
      "outputs": [
        {
          "output_type": "stream",
          "name": "stdout",
          "text": [
            "Cloning into 'Master-QCC-2022-2023'...\n",
            "remote: Enumerating objects: 102, done.\u001b[K\n",
            "remote: Counting objects: 100% (102/102), done.\u001b[K\n",
            "remote: Compressing objects: 100% (58/58), done.\u001b[K\n",
            "remote: Total 102 (delta 47), reused 89 (delta 37), pack-reused 0\u001b[K\n",
            "Receiving objects: 100% (102/102), 78.11 KiB | 15.62 MiB/s, done.\n",
            "Resolving deltas: 100% (47/47), done.\n"
          ]
        }
      ]
    },
    {
      "cell_type": "code",
      "source": [
        "!pip install pulser==0.7\n",
        "!pip install pybnb\n",
        "!pip install networkx==2.8.7\n",
        "!pip install mpi4py\n",
        "!pip install matplotlib==3.5.1"
      ],
      "metadata": {
        "id": "kdxWRqJeGbkZ",
        "colab": {
          "base_uri": "https://localhost:8080/",
          "height": 1000
        },
        "outputId": "c199c130-50d4-427d-d245-adfa32244be4"
      },
      "execution_count": 2,
      "outputs": [
        {
          "output_type": "stream",
          "name": "stdout",
          "text": [
            "Looking in indexes: https://pypi.org/simple, https://us-python.pkg.dev/colab-wheels/public/simple/\n",
            "Collecting pulser==0.7\n",
            "  Downloading pulser-0.7.0-py3-none-any.whl (6.8 kB)\n",
            "Collecting pulser-simulation==0.7.0\n",
            "  Downloading pulser_simulation-0.7.0-py3-none-any.whl (26 kB)\n",
            "Collecting pulser-core==0.7.0\n",
            "  Downloading pulser_core-0.7.0-py3-none-any.whl (108 kB)\n",
            "\u001b[2K     \u001b[90m━━━━━━━━━━━━━━━━━━━━━━━━━━━━━━━━━━━━━━━\u001b[0m \u001b[32m108.4/108.4 KB\u001b[0m \u001b[31m8.1 MB/s\u001b[0m eta \u001b[36m0:00:00\u001b[0m\n",
            "\u001b[?25hCollecting jsonschema==4.4.0\n",
            "  Downloading jsonschema-4.4.0-py3-none-any.whl (72 kB)\n",
            "\u001b[2K     \u001b[90m━━━━━━━━━━━━━━━━━━━━━━━━━━━━━━━━━━━━━━━━\u001b[0m \u001b[32m72.7/72.7 KB\u001b[0m \u001b[31m4.0 MB/s\u001b[0m eta \u001b[36m0:00:00\u001b[0m\n",
            "\u001b[?25hRequirement already satisfied: numpy>=1.20 in /usr/local/lib/python3.9/dist-packages (from pulser-core==0.7.0->pulser==0.7) (1.22.4)\n",
            "Requirement already satisfied: scipy in /usr/local/lib/python3.9/dist-packages (from pulser-core==0.7.0->pulser==0.7) (1.10.1)\n",
            "Requirement already satisfied: matplotlib in /usr/local/lib/python3.9/dist-packages (from pulser-core==0.7.0->pulser==0.7) (3.7.1)\n",
            "Collecting qutip>=4.6.3\n",
            "  Downloading qutip-4.7.1-cp39-cp39-manylinux_2_17_x86_64.manylinux2014_x86_64.whl (16.4 MB)\n",
            "\u001b[2K     \u001b[90m━━━━━━━━━━━━━━━━━━━━━━━━━━━━━━━━━━━━━━━━\u001b[0m \u001b[32m16.4/16.4 MB\u001b[0m \u001b[31m53.3 MB/s\u001b[0m eta \u001b[36m0:00:00\u001b[0m\n",
            "\u001b[?25hRequirement already satisfied: pyrsistent!=0.17.0,!=0.17.1,!=0.17.2,>=0.14.0 in /usr/local/lib/python3.9/dist-packages (from jsonschema==4.4.0->pulser-core==0.7.0->pulser==0.7) (0.19.3)\n",
            "Requirement already satisfied: attrs>=17.4.0 in /usr/local/lib/python3.9/dist-packages (from jsonschema==4.4.0->pulser-core==0.7.0->pulser==0.7) (22.2.0)\n",
            "Requirement already satisfied: packaging in /usr/local/lib/python3.9/dist-packages (from qutip>=4.6.3->pulser-simulation==0.7.0->pulser==0.7) (23.0)\n",
            "Requirement already satisfied: fonttools>=4.22.0 in /usr/local/lib/python3.9/dist-packages (from matplotlib->pulser-core==0.7.0->pulser==0.7) (4.39.2)\n",
            "Requirement already satisfied: pillow>=6.2.0 in /usr/local/lib/python3.9/dist-packages (from matplotlib->pulser-core==0.7.0->pulser==0.7) (8.4.0)\n",
            "Requirement already satisfied: importlib-resources>=3.2.0 in /usr/local/lib/python3.9/dist-packages (from matplotlib->pulser-core==0.7.0->pulser==0.7) (5.12.0)\n",
            "Requirement already satisfied: contourpy>=1.0.1 in /usr/local/lib/python3.9/dist-packages (from matplotlib->pulser-core==0.7.0->pulser==0.7) (1.0.7)\n",
            "Requirement already satisfied: python-dateutil>=2.7 in /usr/local/lib/python3.9/dist-packages (from matplotlib->pulser-core==0.7.0->pulser==0.7) (2.8.2)\n",
            "Requirement already satisfied: kiwisolver>=1.0.1 in /usr/local/lib/python3.9/dist-packages (from matplotlib->pulser-core==0.7.0->pulser==0.7) (1.4.4)\n",
            "Requirement already satisfied: pyparsing>=2.3.1 in /usr/local/lib/python3.9/dist-packages (from matplotlib->pulser-core==0.7.0->pulser==0.7) (3.0.9)\n",
            "Requirement already satisfied: cycler>=0.10 in /usr/local/lib/python3.9/dist-packages (from matplotlib->pulser-core==0.7.0->pulser==0.7) (0.11.0)\n",
            "Requirement already satisfied: zipp>=3.1.0 in /usr/local/lib/python3.9/dist-packages (from importlib-resources>=3.2.0->matplotlib->pulser-core==0.7.0->pulser==0.7) (3.15.0)\n",
            "Requirement already satisfied: six>=1.5 in /usr/local/lib/python3.9/dist-packages (from python-dateutil>=2.7->matplotlib->pulser-core==0.7.0->pulser==0.7) (1.16.0)\n",
            "Installing collected packages: jsonschema, qutip, pulser-core, pulser-simulation, pulser\n",
            "  Attempting uninstall: jsonschema\n",
            "    Found existing installation: jsonschema 4.3.3\n",
            "    Uninstalling jsonschema-4.3.3:\n",
            "      Successfully uninstalled jsonschema-4.3.3\n",
            "Successfully installed jsonschema-4.4.0 pulser-0.7.0 pulser-core-0.7.0 pulser-simulation-0.7.0 qutip-4.7.1\n",
            "Looking in indexes: https://pypi.org/simple, https://us-python.pkg.dev/colab-wheels/public/simple/\n",
            "Collecting pybnb\n",
            "  Downloading pybnb-0.6.2.tar.gz (92 kB)\n",
            "\u001b[2K     \u001b[90m━━━━━━━━━━━━━━━━━━━━━━━━━━━━━━━━━━━━━━━━\u001b[0m \u001b[32m92.2/92.2 KB\u001b[0m \u001b[31m3.8 MB/s\u001b[0m eta \u001b[36m0:00:00\u001b[0m\n",
            "\u001b[?25h  Preparing metadata (setup.py) ... \u001b[?25l\u001b[?25hdone\n",
            "Requirement already satisfied: six in /usr/local/lib/python3.9/dist-packages (from pybnb) (1.16.0)\n",
            "Requirement already satisfied: sortedcontainers in /usr/local/lib/python3.9/dist-packages (from pybnb) (2.4.0)\n",
            "Building wheels for collected packages: pybnb\n",
            "  Building wheel for pybnb (setup.py) ... \u001b[?25l\u001b[?25hdone\n",
            "  Created wheel for pybnb: filename=pybnb-0.6.2-py2.py3-none-any.whl size=60618 sha256=e0c993823b535f57bbeec9ad51607bb7db151ffe8ded80e17e3b1619cf86fb8b\n",
            "  Stored in directory: /root/.cache/pip/wheels/e4/00/10/d3f482061807e286001f598b8e20139454a7482912996871e5\n",
            "Successfully built pybnb\n",
            "Installing collected packages: pybnb\n",
            "Successfully installed pybnb-0.6.2\n",
            "Looking in indexes: https://pypi.org/simple, https://us-python.pkg.dev/colab-wheels/public/simple/\n",
            "Collecting networkx==2.8.7\n",
            "  Downloading networkx-2.8.7-py3-none-any.whl (2.0 MB)\n",
            "\u001b[2K     \u001b[90m━━━━━━━━━━━━━━━━━━━━━━━━━━━━━━━━━━━━━━━━\u001b[0m \u001b[32m2.0/2.0 MB\u001b[0m \u001b[31m62.3 MB/s\u001b[0m eta \u001b[36m0:00:00\u001b[0m\n",
            "\u001b[?25hInstalling collected packages: networkx\n",
            "  Attempting uninstall: networkx\n",
            "    Found existing installation: networkx 3.0\n",
            "    Uninstalling networkx-3.0:\n",
            "      Successfully uninstalled networkx-3.0\n",
            "Successfully installed networkx-2.8.7\n",
            "Looking in indexes: https://pypi.org/simple, https://us-python.pkg.dev/colab-wheels/public/simple/\n",
            "Collecting mpi4py\n",
            "  Downloading mpi4py-3.1.4.tar.gz (2.5 MB)\n",
            "\u001b[2K     \u001b[90m━━━━━━━━━━━━━━━━━━━━━━━━━━━━━━━━━━━━━━━━\u001b[0m \u001b[32m2.5/2.5 MB\u001b[0m \u001b[31m47.7 MB/s\u001b[0m eta \u001b[36m0:00:00\u001b[0m\n",
            "\u001b[?25h  Installing build dependencies ... \u001b[?25l\u001b[?25hdone\n",
            "  Getting requirements to build wheel ... \u001b[?25l\u001b[?25hdone\n",
            "  Preparing metadata (pyproject.toml) ... \u001b[?25l\u001b[?25hdone\n",
            "Building wheels for collected packages: mpi4py\n",
            "  Building wheel for mpi4py (pyproject.toml) ... \u001b[?25l\u001b[?25hdone\n",
            "  Created wheel for mpi4py: filename=mpi4py-3.1.4-cp39-cp39-linux_x86_64.whl size=3380610 sha256=c11d4113866f10f9bd1a58b28af479e0609f92caa3629a0d6a9d92898a18ac49\n",
            "  Stored in directory: /root/.cache/pip/wheels/db/81/9f/43a031fce121c845baca1c5d9a1468cad98208286aa2832de9\n",
            "Successfully built mpi4py\n",
            "Installing collected packages: mpi4py\n",
            "Successfully installed mpi4py-3.1.4\n",
            "Looking in indexes: https://pypi.org/simple, https://us-python.pkg.dev/colab-wheels/public/simple/\n",
            "Collecting matplotlib==3.5.1\n",
            "  Downloading matplotlib-3.5.1-cp39-cp39-manylinux_2_5_x86_64.manylinux1_x86_64.whl (11.2 MB)\n",
            "\u001b[2K     \u001b[90m━━━━━━━━━━━━━━━━━━━━━━━━━━━━━━━━━━━━━━━━\u001b[0m \u001b[32m11.2/11.2 MB\u001b[0m \u001b[31m82.0 MB/s\u001b[0m eta \u001b[36m0:00:00\u001b[0m\n",
            "\u001b[?25hRequirement already satisfied: packaging>=20.0 in /usr/local/lib/python3.9/dist-packages (from matplotlib==3.5.1) (23.0)\n",
            "Requirement already satisfied: fonttools>=4.22.0 in /usr/local/lib/python3.9/dist-packages (from matplotlib==3.5.1) (4.39.2)\n",
            "Requirement already satisfied: kiwisolver>=1.0.1 in /usr/local/lib/python3.9/dist-packages (from matplotlib==3.5.1) (1.4.4)\n",
            "Requirement already satisfied: numpy>=1.17 in /usr/local/lib/python3.9/dist-packages (from matplotlib==3.5.1) (1.22.4)\n",
            "Requirement already satisfied: pyparsing>=2.2.1 in /usr/local/lib/python3.9/dist-packages (from matplotlib==3.5.1) (3.0.9)\n",
            "Requirement already satisfied: cycler>=0.10 in /usr/local/lib/python3.9/dist-packages (from matplotlib==3.5.1) (0.11.0)\n",
            "Requirement already satisfied: python-dateutil>=2.7 in /usr/local/lib/python3.9/dist-packages (from matplotlib==3.5.1) (2.8.2)\n",
            "Requirement already satisfied: pillow>=6.2.0 in /usr/local/lib/python3.9/dist-packages (from matplotlib==3.5.1) (8.4.0)\n",
            "Requirement already satisfied: six>=1.5 in /usr/local/lib/python3.9/dist-packages (from python-dateutil>=2.7->matplotlib==3.5.1) (1.16.0)\n",
            "Installing collected packages: matplotlib\n",
            "  Attempting uninstall: matplotlib\n",
            "    Found existing installation: matplotlib 3.7.1\n",
            "    Uninstalling matplotlib-3.7.1:\n",
            "      Successfully uninstalled matplotlib-3.7.1\n",
            "Successfully installed matplotlib-3.5.1\n"
          ]
        },
        {
          "output_type": "display_data",
          "data": {
            "application/vnd.colab-display-data+json": {
              "pip_warning": {
                "packages": [
                  "matplotlib",
                  "mpl_toolkits"
                ]
              }
            }
          },
          "metadata": {}
        }
      ]
    },
    {
      "cell_type": "code",
      "source": [
        "%cd /content/Master-QCC-2022-2023/"
      ],
      "metadata": {
        "colab": {
          "base_uri": "https://localhost:8080/"
        },
        "id": "GkNbCi9itf2t",
        "outputId": "f8adc965-2264-46a8-fa83-8b135cbb6938"
      },
      "execution_count": 3,
      "outputs": [
        {
          "output_type": "stream",
          "name": "stdout",
          "text": [
            "/content/Master-QCC-2022-2023\n"
          ]
        }
      ]
    },
    {
      "cell_type": "code",
      "source": [
        "%matplotlib inline"
      ],
      "metadata": {
        "id": "u5lfbjrp85GG"
      },
      "execution_count": 7,
      "outputs": []
    },
    {
      "cell_type": "code",
      "source": [
        "def compute_obj(G, colors_used, previous_coloring):\n",
        "    if len(G.edges())>0:\n",
        "        obj = colors_used+len(G.nodes())\n",
        "        for greedy_color_node in G.nodes():\n",
        "            colors_used = colors_used + 1\n",
        "            previous_coloring[greedy_color_node] = colors_used\n",
        "    else:\n",
        "        for node in G.nodes():\n",
        "            previous_coloring[node]=colors_used+1\n",
        "        obj = colors_used+1\n",
        "    return obj, previous_coloring"
      ],
      "metadata": {
        "id": "FizlncPf2skt"
      },
      "execution_count": 4,
      "outputs": []
    },
    {
      "cell_type": "code",
      "source": [
        "import pybnb\n",
        "import numpy as np\n",
        "from src.graph_coloring.BB_utils import *\n",
        "from src.graph_coloring.MIS import PulserMISSolver\n",
        "from src.graph_coloring.feasibility_utils import is_mIS\n",
        "\n",
        "class BBQ_mIS(pybnb.Problem):\n",
        "    \n",
        "    def __init__(self, G, colors_used=0):\n",
        "        self.G = G \n",
        "        self.orig_G = G.copy()     \n",
        "        self.x = np.zeros((len(G.nodes),1))\n",
        "        _, LB, _ = compute_LB(self.x, self.G)\n",
        "        self.colors_used = colors_used\n",
        "        self.edges = len(G.edges())\n",
        "        self.fingerprints=set([])        \n",
        "        self.lower_bound=colors_used+LB\n",
        "        coloring =  dict.fromkeys(G.nodes(), -1)\n",
        "        obj, coloring = compute_obj(G, colors_used, coloring)\n",
        "        self.obj = obj\n",
        "        self.coloring = coloring\n",
        "        self.child_story={0:-1}\n",
        "        self.hist_list = []\n",
        "        self.solutions = None\n",
        "\n",
        "    def sense(self):\n",
        "        return pybnb.minimize\n",
        "\n",
        "    def objective(self):             \n",
        "        return self.obj\n",
        "\n",
        "    def bound(self):\n",
        "        # lower bound on the objective function\n",
        "        return self.lower_bound\n",
        "\n",
        "    def save_state(self, node, x=None, colors_used=None, lower_bound=None, H=None, obj=None, coloring=None, child_story=None, solutions = None, hist_list=None):\n",
        "        if x is None:\n",
        "            # root node initialization\n",
        "            node.state = (self.x, self.colors_used, self.G, self.edges, self.coloring, self.child_story, self.solutions, self.hist_list)\n",
        "        else:\n",
        "            num_edges = len(H.edges())\n",
        "            node.state = (x, colors_used, H, num_edges, coloring, child_story, solutions, hist_list)\n",
        "            node.objective = obj\n",
        "            node.bound = lower_bound\n",
        "            UB = compute_UB(H)\n",
        "            node.queue_priority = -UB*num_edges\n",
        "                          \n",
        "            \n",
        "    def load_state(self, node):\n",
        "        (self.x, self.colors_used, self.G, self.edges, self.coloring, self.child_story, self.solutions, self.hist_list) = node.state\n",
        "        self.obj = node.objective\n",
        "        self.lower_bound = node.bound\n",
        "\n",
        "    def branch(self):\n",
        "        pulser_MIS_solver = PulserMISSolver(self.G)\n",
        "        pulser_sol = pulser_MIS_solver.solve_Pulser()\n",
        "        hist_list=self.hist_list.copy()\n",
        "        hist_list.append(pulser_sol)\n",
        "        num_colors_child = self.colors_used+1\n",
        "        solutions = []  \n",
        "        for sol in pulser_sol:\n",
        "            solutions.append(np.array(list(sol[0]), dtype=int))\n",
        "        num_sol = len(solutions)\n",
        "        child_num=0                    \n",
        "        for sol in range(num_sol): \n",
        "            child_story=self.child_story.copy()\n",
        "            child_story[num_colors_child]=child_num+1\n",
        "            coloring_dict = self.coloring.copy() \n",
        "            x = solutions[sol]      \n",
        "            if is_mIS(x, self.G):                                \n",
        "                H, LB, MIS_set = compute_LB(x, self.G)\n",
        "                for graph_node in MIS_set:\n",
        "                    coloring_dict[graph_node]=num_colors_child                \n",
        "                fp = fingerprint(H.nodes())                \n",
        "                if fp not in self.fingerprints and len(H.nodes())>0:\n",
        "                    child_num+=1\n",
        "                    # avoid symmetries in BB\n",
        "                    child = pybnb.Node()\n",
        "                    obj, coloring_dict = compute_obj(H, num_colors_child, coloring_dict)\n",
        "                    child_bound = num_colors_child+LB\n",
        "                    self.save_state(child, x, num_colors_child, child_bound, H, obj, coloring_dict, child_story, pulser_sol, hist_list)\n",
        "                    self.fingerprints.add(fp)\n",
        "                    yield child"
      ],
      "metadata": {
        "id": "sm8Lr05ok9H2"
      },
      "execution_count": 5,
      "outputs": []
    },
    {
      "cell_type": "code",
      "source": [
        "import networkx as nx\n",
        "from src.graph_coloring.BB_utils import *\n",
        "\n",
        "file_path=\"graphs/{}G_{}ud.gpickle\".format(7, 2)\n",
        "G = nx.read_gpickle(file_path)\n",
        "max_nodes=20\n",
        "problem = BBQ_mIS(G)\n",
        "solver = pybnb.Solver()\n",
        "results = solver.solve(problem, queue_strategy='custom', node_limit=max_nodes)\n",
        "best_coloring = results.best_node.state[4]\n",
        "child_story = results.best_node.state[5]\n",
        "plot_sol(G, best_coloring, results.objective)    \n",
        "print_BB_history(child_story)\n",
        "# print the MISs for the best solution\n",
        "print_mIS(best_coloring)\n",
        "print('Coloring story {}'.format(child_story))\n",
        "print('BBQ-mIS found coloring with {} colors'.format(results.objective))"
      ],
      "metadata": {
        "colab": {
          "base_uri": "https://localhost:8080/",
          "height": 1000
        },
        "id": "14Qt7H1dlRDo",
        "outputId": "f63334b3-3ac6-41e4-bb33-e8f46c633153"
      },
      "execution_count": 6,
      "outputs": [
        {
          "output_type": "stream",
          "name": "stdout",
          "text": [
            "\n",
            "Using non-default solver options:\n",
            " - node_limit: 20 (default: None)\n",
            " - queue_strategy: custom (default: bound)\n",
            "\n",
            "Starting branch & bound solve:\n",
            " - dispatcher pid: 133 (008ac3c3ab48)\n",
            " - worker processes: 1\n",
            "--------------------------------------------------------------------------------------------------------------------------\n",
            "         Nodes        |                      Objective Bounds                       |              Work              \n",
            "      Expl    Unexpl  |      Incumbent           Bound    Rel. Gap         Abs. Gap | Time (s)  Nodes/Sec Imbalance   Idle\n",
            "         0         1  |            inf            -inf         inf%             inf |      0.0       0.00     0.00%      0\n",
            "         1         5  |            inf               3         inf%             inf |     12.0       0.08     0.00%      0\n",
            "*        2         7  |              6               3   50.000000%               3 |     18.8       0.14     0.00%      0\n",
            "*        3         6  |              5               3   40.000000%               2 |     21.6       0.34     0.00%      0\n",
            "*        4         2  |              4               3   25.000000%               1 |     21.6       6.52     0.00%      0\n",
            "      Expl    Unexpl  |      Incumbent           Bound    Rel. Gap         Abs. Gap | Time (s)  Nodes/Sec Imbalance   Idle\n",
            "         5         1  |              4               3   25.000000%               1 |     27.9       0.17     0.00%      0\n",
            "         6         0  |              4               4    0.000000%               0 |     31.4       0.28     0.00%      0\n",
            "--------------------------------------------------------------------------------------------------------------------------\n",
            "\n",
            "Absolute optimality tolerance met\n",
            "Optimal solution found!\n",
            "\n",
            "solver results:\n",
            " - solution_status: optimal\n",
            " - termination_condition: optimality\n",
            " - objective: 4\n",
            " - bound: 4\n",
            " - absolute_gap: 0\n",
            " - relative_gap: 0\n",
            " - nodes: 6\n",
            " - wall_time: 31.37 s\n",
            " - best_node: Node(objective=4)\n",
            "\n"
          ]
        },
        {
          "output_type": "display_data",
          "data": {
            "text/plain": [
              "<Figure size 432x288 with 1 Axes>"
            ],
            "image/png": "[encoded data removed]"
          },
          "metadata": {}
        },
        {
          "output_type": "stream",
          "name": "stdout",
          "text": [
            "Best solution history:\n",
            "\t Step 1 -> selected MIS solution at position 5\n",
            "\t Step 2 -> selected MIS solution at position 1\n",
            "\t Step 3 -> selected MIS solution at position 1\n",
            "\n",
            "Step 1 -> nodes in MIS solution [0, 3]\n",
            "Step 2 -> nodes in MIS solution [2, 5]\n",
            "Step 3 -> nodes in MIS solution [4, 6]\n",
            "Step 4 -> nodes in MIS solution [1]\n",
            "Coloring story {0: -1, 1: 5, 2: 1, 3: 1}\n",
            "BBQ-mIS found coloring with 4 colors\n"
          ]
        }
      ]
    },
    {
      "cell_type": "code",
      "source": [],
      "metadata": {
        "id": "x-Sbg_Xi5T0e"
      },
      "execution_count": null,
      "outputs": []
    }
  ]
}