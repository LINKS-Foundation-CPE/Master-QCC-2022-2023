{
  "nbformat": 4,
  "nbformat_minor": 0,
  "metadata": {
    "colab": {
      "provenance": []
    },
    "kernelspec": {
      "name": "python3",
      "display_name": "Python 3"
    },
    "language_info": {
      "name": "python"
    }
  },
  "cells": [
    {
      "cell_type": "markdown",
      "source": [
        "#**BBQ-mIS**\n",
        "Graph coloring optimization on neutral atoms quantum machines.\n",
        "* clone repository (codes building blocks and graphs dataset)\n",
        "* install needed libraries\n",
        "* investigate BB behaviour by changing \n",
        "  * exploration policy, i.e. queue_strategy (https://pybnb.readthedocs.io/en/stable/index.html)\n",
        "  * feasible coloring computation\n",
        "  * maximum number of explored nodes"
      ],
      "metadata": {
        "id": "giPpluoycnlc"
      }
    },
    {
      "cell_type": "code",
      "source": [
        "!git clone https://github.com/LINKS-Foundation-CPE/Master-QCC-2022-2023.git"
      ],
      "metadata": {
        "id": "tx8StvwKFrSe",
        "colab": {
          "base_uri": "https://localhost:8080/"
        },
        "outputId": "669abe78-99df-42b8-aaab-a4c43fa79fc1"
      },
      "execution_count": 1,
      "outputs": [
        {
          "output_type": "stream",
          "name": "stdout",
          "text": [
            "Cloning into 'Master-QCC-2022-2023'...\n",
            "remote: Enumerating objects: 43, done.\u001b[K\n",
            "remote: Counting objects: 100% (43/43), done.\u001b[K\n",
            "remote: Compressing objects: 100% (27/27), done.\u001b[K\n",
            "remote: Total 43 (delta 16), reused 37 (delta 13), pack-reused 0\u001b[K\n",
            "Unpacking objects: 100% (43/43), 17.66 KiB | 1.10 MiB/s, done.\n"
          ]
        }
      ]
    },
    {
      "cell_type": "code",
      "source": [
        "!pip install pulser==0.7\n",
        "!pip install pybnb\n",
        "!pip install networkx==2.5.1\n",
        "!pip install mpi4py"
      ],
      "metadata": {
        "id": "kdxWRqJeGbkZ",
        "colab": {
          "base_uri": "https://localhost:8080/"
        },
        "outputId": "522e6069-014a-4f6b-b42e-032010ff42ff"
      },
      "execution_count": 2,
      "outputs": [
        {
          "output_type": "stream",
          "name": "stdout",
          "text": [
            "Looking in indexes: https://pypi.org/simple, https://us-python.pkg.dev/colab-wheels/public/simple/\n",
            "Collecting pulser==0.7\n",
            "  Downloading pulser-0.7.0-py3-none-any.whl (6.8 kB)\n",
            "Collecting pulser-core==0.7.0\n",
            "  Downloading pulser_core-0.7.0-py3-none-any.whl (108 kB)\n",
            "\u001b[2K     \u001b[90m━━━━━━━━━━━━━━━━━━━━━━━━━━━━━━━━━━━━━━━\u001b[0m \u001b[32m108.4/108.4 KB\u001b[0m \u001b[31m3.9 MB/s\u001b[0m eta \u001b[36m0:00:00\u001b[0m\n",
            "\u001b[?25hCollecting pulser-simulation==0.7.0\n",
            "  Downloading pulser_simulation-0.7.0-py3-none-any.whl (26 kB)\n",
            "Requirement already satisfied: numpy>=1.20 in /usr/local/lib/python3.9/dist-packages (from pulser-core==0.7.0->pulser==0.7) (1.22.4)\n",
            "Requirement already satisfied: matplotlib in /usr/local/lib/python3.9/dist-packages (from pulser-core==0.7.0->pulser==0.7) (3.7.1)\n",
            "Requirement already satisfied: scipy in /usr/local/lib/python3.9/dist-packages (from pulser-core==0.7.0->pulser==0.7) (1.10.1)\n",
            "Collecting jsonschema==4.4.0\n",
            "  Downloading jsonschema-4.4.0-py3-none-any.whl (72 kB)\n",
            "\u001b[2K     \u001b[90m━━━━━━━━━━━━━━━━━━━━━━━━━━━━━━━━━━━━━━━━\u001b[0m \u001b[32m72.7/72.7 KB\u001b[0m \u001b[31m4.6 MB/s\u001b[0m eta \u001b[36m0:00:00\u001b[0m\n",
            "\u001b[?25hCollecting qutip>=4.6.3\n",
            "  Downloading qutip-4.7.1-cp39-cp39-manylinux_2_17_x86_64.manylinux2014_x86_64.whl (16.4 MB)\n",
            "\u001b[2K     \u001b[90m━━━━━━━━━━━━━━━━━━━━━━━━━━━━━━━━━━━━━━━━\u001b[0m \u001b[32m16.4/16.4 MB\u001b[0m \u001b[31m54.4 MB/s\u001b[0m eta \u001b[36m0:00:00\u001b[0m\n",
            "\u001b[?25hRequirement already satisfied: pyrsistent!=0.17.0,!=0.17.1,!=0.17.2,>=0.14.0 in /usr/local/lib/python3.9/dist-packages (from jsonschema==4.4.0->pulser-core==0.7.0->pulser==0.7) (0.19.3)\n",
            "Requirement already satisfied: attrs>=17.4.0 in /usr/local/lib/python3.9/dist-packages (from jsonschema==4.4.0->pulser-core==0.7.0->pulser==0.7) (22.2.0)\n",
            "Requirement already satisfied: packaging in /usr/local/lib/python3.9/dist-packages (from qutip>=4.6.3->pulser-simulation==0.7.0->pulser==0.7) (23.0)\n",
            "Requirement already satisfied: python-dateutil>=2.7 in /usr/local/lib/python3.9/dist-packages (from matplotlib->pulser-core==0.7.0->pulser==0.7) (2.8.2)\n",
            "Requirement already satisfied: contourpy>=1.0.1 in /usr/local/lib/python3.9/dist-packages (from matplotlib->pulser-core==0.7.0->pulser==0.7) (1.0.7)\n",
            "Requirement already satisfied: cycler>=0.10 in /usr/local/lib/python3.9/dist-packages (from matplotlib->pulser-core==0.7.0->pulser==0.7) (0.11.0)\n",
            "Requirement already satisfied: kiwisolver>=1.0.1 in /usr/local/lib/python3.9/dist-packages (from matplotlib->pulser-core==0.7.0->pulser==0.7) (1.4.4)\n",
            "Requirement already satisfied: pillow>=6.2.0 in /usr/local/lib/python3.9/dist-packages (from matplotlib->pulser-core==0.7.0->pulser==0.7) (8.4.0)\n",
            "Requirement already satisfied: importlib-resources>=3.2.0 in /usr/local/lib/python3.9/dist-packages (from matplotlib->pulser-core==0.7.0->pulser==0.7) (5.12.0)\n",
            "Requirement already satisfied: fonttools>=4.22.0 in /usr/local/lib/python3.9/dist-packages (from matplotlib->pulser-core==0.7.0->pulser==0.7) (4.39.2)\n",
            "Requirement already satisfied: pyparsing>=2.3.1 in /usr/local/lib/python3.9/dist-packages (from matplotlib->pulser-core==0.7.0->pulser==0.7) (3.0.9)\n",
            "Requirement already satisfied: zipp>=3.1.0 in /usr/local/lib/python3.9/dist-packages (from importlib-resources>=3.2.0->matplotlib->pulser-core==0.7.0->pulser==0.7) (3.15.0)\n",
            "Requirement already satisfied: six>=1.5 in /usr/local/lib/python3.9/dist-packages (from python-dateutil>=2.7->matplotlib->pulser-core==0.7.0->pulser==0.7) (1.16.0)\n",
            "Installing collected packages: jsonschema, qutip, pulser-core, pulser-simulation, pulser\n",
            "  Attempting uninstall: jsonschema\n",
            "    Found existing installation: jsonschema 4.3.3\n",
            "    Uninstalling jsonschema-4.3.3:\n",
            "      Successfully uninstalled jsonschema-4.3.3\n",
            "Successfully installed jsonschema-4.4.0 pulser-0.7.0 pulser-core-0.7.0 pulser-simulation-0.7.0 qutip-4.7.1\n",
            "Looking in indexes: https://pypi.org/simple, https://us-python.pkg.dev/colab-wheels/public/simple/\n",
            "Collecting pybnb\n",
            "  Downloading pybnb-0.6.2.tar.gz (92 kB)\n",
            "\u001b[2K     \u001b[90m━━━━━━━━━━━━━━━━━━━━━━━━━━━━━━━━━━━━━━━━\u001b[0m \u001b[32m92.2/92.2 KB\u001b[0m \u001b[31m2.1 MB/s\u001b[0m eta \u001b[36m0:00:00\u001b[0m\n",
            "\u001b[?25h  Preparing metadata (setup.py) ... \u001b[?25l\u001b[?25hdone\n",
            "Requirement already satisfied: six in /usr/local/lib/python3.9/dist-packages (from pybnb) (1.16.0)\n",
            "Requirement already satisfied: sortedcontainers in /usr/local/lib/python3.9/dist-packages (from pybnb) (2.4.0)\n",
            "Building wheels for collected packages: pybnb\n",
            "  Building wheel for pybnb (setup.py) ... \u001b[?25l\u001b[?25hdone\n",
            "  Created wheel for pybnb: filename=pybnb-0.6.2-py2.py3-none-any.whl size=60618 sha256=f1de275f258bd28c1e906404817c4781df19d6bd033a02a5b904c3d21f4c9595\n",
            "  Stored in directory: /root/.cache/pip/wheels/e4/00/10/d3f482061807e286001f598b8e20139454a7482912996871e5\n",
            "Successfully built pybnb\n",
            "Installing collected packages: pybnb\n",
            "Successfully installed pybnb-0.6.2\n",
            "Looking in indexes: https://pypi.org/simple, https://us-python.pkg.dev/colab-wheels/public/simple/\n",
            "Collecting networkx==2.5.1\n",
            "  Downloading networkx-2.5.1-py3-none-any.whl (1.6 MB)\n",
            "\u001b[2K     \u001b[90m━━━━━━━━━━━━━━━━━━━━━━━━━━━━━━━━━━━━━━━━\u001b[0m \u001b[32m1.6/1.6 MB\u001b[0m \u001b[31m23.9 MB/s\u001b[0m eta \u001b[36m0:00:00\u001b[0m\n",
            "\u001b[?25hRequirement already satisfied: decorator<5,>=4.3 in /usr/local/lib/python3.9/dist-packages (from networkx==2.5.1) (4.4.2)\n",
            "Installing collected packages: networkx\n",
            "  Attempting uninstall: networkx\n",
            "    Found existing installation: networkx 3.0\n",
            "    Uninstalling networkx-3.0:\n",
            "      Successfully uninstalled networkx-3.0\n",
            "Successfully installed networkx-2.5.1\n",
            "Looking in indexes: https://pypi.org/simple, https://us-python.pkg.dev/colab-wheels/public/simple/\n",
            "Collecting mpi4py\n",
            "  Downloading mpi4py-3.1.4.tar.gz (2.5 MB)\n",
            "\u001b[2K     \u001b[90m━━━━━━━━━━━━━━━━━━━━━━━━━━━━━━━━━━━━━━━━\u001b[0m \u001b[32m2.5/2.5 MB\u001b[0m \u001b[31m29.7 MB/s\u001b[0m eta \u001b[36m0:00:00\u001b[0m\n",
            "\u001b[?25h  Installing build dependencies ... \u001b[?25l\u001b[?25hdone\n",
            "  Getting requirements to build wheel ... \u001b[?25l\u001b[?25hdone\n",
            "  Preparing metadata (pyproject.toml) ... \u001b[?25l\u001b[?25hdone\n",
            "Building wheels for collected packages: mpi4py\n",
            "  Building wheel for mpi4py (pyproject.toml) ... \u001b[?25l\u001b[?25hdone\n",
            "  Created wheel for mpi4py: filename=mpi4py-3.1.4-cp39-cp39-linux_x86_64.whl size=3380644 sha256=c5c75785e99fdf2ee25e7e013620ac4e2f5a92925f845ad813fde26a5fb30c34\n",
            "  Stored in directory: /root/.cache/pip/wheels/db/81/9f/43a031fce121c845baca1c5d9a1468cad98208286aa2832de9\n",
            "Successfully built mpi4py\n",
            "Installing collected packages: mpi4py\n",
            "Successfully installed mpi4py-3.1.4\n"
          ]
        }
      ]
    },
    {
      "cell_type": "code",
      "source": [
        "%cd /content/Master-QCC-2022-2023/"
      ],
      "metadata": {
        "colab": {
          "base_uri": "https://localhost:8080/"
        },
        "id": "GkNbCi9itf2t",
        "outputId": "e7c815c2-4e8f-420a-db2c-4b826eb87c79"
      },
      "execution_count": 3,
      "outputs": [
        {
          "output_type": "stream",
          "name": "stdout",
          "text": [
            "/content/Master-QCC-2022-2023\n"
          ]
        }
      ]
    },
    {
      "cell_type": "code",
      "source": [
        "import pybnb\n",
        "import numpy as np\n",
        "from src.graph_coloring.BB_utils import *\n",
        "from src.graph_coloring.MIS import PulserMISSolver\n",
        "from src.graph_coloring.feasibility_utils import is_mIS\n",
        "\n",
        "class BBQ_mIS(pybnb.Problem):\n",
        "    \n",
        "    def __init__(self, G, colors_used=0):\n",
        "        self.G = G \n",
        "        self.orig_G = G.copy()     \n",
        "        self.x = np.zeros((len(G.nodes),1))\n",
        "        _, LB, _ = compute_LB(self.x, self.G)\n",
        "        self.colors_used = colors_used\n",
        "        self.edges = len(G.edges())\n",
        "        self.fingerprints=set([])        \n",
        "        self.lower_bound=colors_used+LB\n",
        "        coloring =  dict.fromkeys(G.nodes(), -1)\n",
        "        obj, coloring = compute_obj(G, colors_used, coloring)\n",
        "        self.obj = obj\n",
        "        self.coloring = coloring\n",
        "        self.child_story={0:-1}\n",
        "        self.hist_list = []\n",
        "        self.solutions = None\n",
        "\n",
        "    def sense(self):\n",
        "        return pybnb.minimize\n",
        "\n",
        "    def objective(self):             \n",
        "        return self.obj\n",
        "\n",
        "    def bound(self):\n",
        "        # lower bound on the objective function\n",
        "        return self.lower_bound\n",
        "\n",
        "    def save_state(self, node, x=None, colors_used=None, lower_bound=None, H=None, obj=None, coloring=None, child_story=None, solutions = None, hist_list=None):\n",
        "        if x is None:\n",
        "            # root node initialization\n",
        "            node.state = (self.x, self.colors_used, self.G, self.edges, self.coloring, self.child_story, self.solutions, self.hist_list)\n",
        "        else:\n",
        "            num_edges = len(H.edges())\n",
        "            node.state = (x, colors_used, H, num_edges, coloring, child_story, solutions, hist_list)\n",
        "            node.objective = obj\n",
        "            node.bound = lower_bound\n",
        "            UB = compute_UB(H)\n",
        "            node.queue_priority = -UB*num_edges\n",
        "                          \n",
        "            \n",
        "    def load_state(self, node):\n",
        "        (self.x, self.colors_used, self.G, self.edges, self.coloring, self.child_story, self.solutions, self.hist_list) = node.state\n",
        "        self.obj = node.objective\n",
        "        self.lower_bound = node.bound\n",
        "\n",
        "    def branch(self):\n",
        "        pulser_MIS_solver = PulserMISSolver(self.G)\n",
        "        pulser_sol = pulser_MIS_solver.solve_Pulser()\n",
        "        hist_list=self.hist_list.copy()\n",
        "        hist_list.append(pulser_sol)\n",
        "        num_colors_child = self.colors_used+1\n",
        "        solutions = []  \n",
        "        for sol in pulser_sol:\n",
        "            solutions.append(np.array(list(sol[0]), dtype=int))\n",
        "        num_sol = len(solutions)\n",
        "        child_num=0                    \n",
        "        for sol in range(num_sol): \n",
        "            child_story=self.child_story.copy()\n",
        "            child_story[num_colors_child]=child_num+1\n",
        "            coloring_dict = self.coloring.copy() \n",
        "            x = solutions[sol]      \n",
        "            if is_mIS(x, self.G):                                \n",
        "                H, LB, MIS_set = compute_LB(x, self.G)\n",
        "                for graph_node in MIS_set:\n",
        "                    coloring_dict[graph_node]=num_colors_child                \n",
        "                fp = fingerprint(H.nodes())                \n",
        "                if fp not in self.fingerprints and len(H.nodes())>0:\n",
        "                    child_num+=1\n",
        "                    # avoid symmetries in BB\n",
        "                    child = pybnb.Node()\n",
        "                    obj, coloring_dict = compute_obj(H, num_colors_child, coloring_dict)\n",
        "                    child_bound = num_colors_child+LB\n",
        "                    self.save_state(child, x, num_colors_child, child_bound, H, obj, coloring_dict, child_story, pulser_sol, hist_list)\n",
        "                    self.fingerprints.add(fp)\n",
        "                    yield child"
      ],
      "metadata": {
        "id": "sm8Lr05ok9H2"
      },
      "execution_count": 4,
      "outputs": []
    },
    {
      "cell_type": "code",
      "source": [
        "import networkx as nx\n",
        "from src.graph_coloring.BB_utils import *\n",
        "\n",
        "file_path=\"graphs/{}G_{}ud.gpickle\".format(10, 1)\n",
        "G = nx.read_gpickle(file_path)\n",
        "max_nodes=20\n",
        "problem = BBQ_mIS(G)\n",
        "solver = pybnb.Solver()\n",
        "results = solver.solve(problem, queue_strategy='custom', node_limit=max_nodes)\n",
        "best_coloring = results.best_node.state[4]\n",
        "child_story = results.best_node.state[5]\n",
        "plot_sol(G, best_coloring, results.objective)    \n",
        "print_BB_history(child_story)\n",
        "# print the MISs for the best solution\n",
        "print_mIS(best_coloring)\n",
        "print('Coloring story {}'.format(child_story))\n",
        "print('BBQ-mIS found coloring with {} colors'.format(results.objective))"
      ],
      "metadata": {
        "colab": {
          "base_uri": "https://localhost:8080/"
        },
        "id": "14Qt7H1dlRDo",
        "outputId": "53071f1a-8600-46c1-a1bc-d7bb174f5aaa"
      },
      "execution_count": null,
      "outputs": [
        {
          "output_type": "stream",
          "name": "stdout",
          "text": [
            "\n",
            "Using non-default solver options:\n",
            " - node_limit: 20 (default: None)\n",
            " - queue_strategy: custom (default: bound)\n",
            "\n",
            "Starting branch & bound solve:\n",
            " - dispatcher pid: 125 (988afde4d98f)\n",
            " - worker processes: 1\n",
            "--------------------------------------------------------------------------------------------------------------------------\n",
            "         Nodes        |                      Objective Bounds                       |              Work              \n",
            "      Expl    Unexpl  |      Incumbent           Bound    Rel. Gap         Abs. Gap | Time (s)  Nodes/Sec Imbalance   Idle\n",
            "         0         1  |            inf            -inf         inf%             inf |      0.0       0.00     0.00%      0\n"
          ]
        }
      ]
    },
    {
      "cell_type": "code",
      "source": [],
      "metadata": {
        "id": "ftmueKI9zgII"
      },
      "execution_count": null,
      "outputs": []
    }
  ]
}