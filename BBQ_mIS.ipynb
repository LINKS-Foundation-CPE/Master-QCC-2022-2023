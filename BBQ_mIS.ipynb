{
  "cells": [
    {
      "cell_type": "markdown",
      "metadata": {
        "id": "giPpluoycnlc"
      },
      "source": [
        "#**BBQ-mIS**\n",
        "Graph coloring optimization on neutral atoms quantum machines.\n",
        "* clone repository (codes building blocks and graphs dataset)\n",
        "* install needed libraries\n",
        "* investigate BB behaviour by changing \n",
        "  * exploration policy, i.e. queue_strategy (https://pybnb.readthedocs.io/en/stable/index.html)\n",
        "  * feasible coloring computation\n",
        "  * maximum number of explored nodes"
      ]
    },
    {
      "cell_type": "code",
      "execution_count": 1,
      "metadata": {
        "colab": {
          "base_uri": "https://localhost:8080/"
        },
        "id": "tx8StvwKFrSe",
        "outputId": "669abe78-99df-42b8-aaab-a4c43fa79fc1"
      },
      "outputs": [
        {
          "name": "stdout",
          "output_type": "stream",
          "text": [
            "Cloning into 'Master-QCC-2022-2023'...\n",
            "remote: Enumerating objects: 43, done.\u001b[K\n",
            "remote: Counting objects: 100% (43/43), done.\u001b[K\n",
            "remote: Compressing objects: 100% (27/27), done.\u001b[K\n",
            "remote: Total 43 (delta 16), reused 37 (delta 13), pack-reused 0\u001b[K\n",
            "Unpacking objects: 100% (43/43), 17.66 KiB | 1.10 MiB/s, done.\n"
          ]
        }
      ],
      "source": [
        "!git clone https://github.com/LINKS-Foundation-CPE/Master-QCC-2022-2023.git"
      ]
    },
    {
      "cell_type": "code",
      "execution_count": 2,
      "metadata": {
        "colab": {
          "base_uri": "https://localhost:8080/"
        },
        "id": "kdxWRqJeGbkZ",
        "outputId": "522e6069-014a-4f6b-b42e-032010ff42ff"
      },
      "outputs": [
        {
          "name": "stdout",
          "output_type": "stream",
          "text": [
            "Collecting pulser==0.7\n",
            "  Using cached pulser-0.7.0-py3-none-any.whl (6.8 kB)\n",
            "Collecting pulser-core==0.7.0\n",
            "  Using cached pulser_core-0.7.0-py3-none-any.whl (108 kB)\n",
            "Collecting pulser-simulation==0.7.0\n",
            "  Using cached pulser_simulation-0.7.0-py3-none-any.whl (26 kB)\n",
            "Requirement already satisfied: matplotlib in c:\\users\\chiaravercellino\\miniconda3\\lib\\site-packages (from pulser-core==0.7.0->pulser==0.7) (3.5.3)\n",
            "Requirement already satisfied: numpy>=1.20 in c:\\users\\chiaravercellino\\miniconda3\\lib\\site-packages (from pulser-core==0.7.0->pulser==0.7) (1.22.3)\n",
            "Requirement already satisfied: scipy in c:\\users\\chiaravercellino\\miniconda3\\lib\\site-packages (from pulser-core==0.7.0->pulser==0.7) (1.9.0)\n",
            "Collecting jsonschema==4.4.0\n",
            "  Using cached jsonschema-4.4.0-py3-none-any.whl (72 kB)\n",
            "Collecting attrs>=17.4.0\n",
            "  Downloading attrs-22.2.0-py3-none-any.whl (60 kB)\n",
            "Collecting pyrsistent!=0.17.0,!=0.17.1,!=0.17.2,>=0.14.0\n",
            "  Downloading pyrsistent-0.19.3-cp39-cp39-win_amd64.whl (62 kB)\n",
            "Collecting qutip>=4.6.3\n",
            "  Downloading qutip-4.7.1-cp39-cp39-win_amd64.whl (5.4 MB)\n",
            "Requirement already satisfied: packaging in c:\\users\\chiaravercellino\\miniconda3\\lib\\site-packages (from qutip>=4.6.3->pulser-simulation==0.7.0->pulser==0.7) (23.0)\n",
            "Requirement already satisfied: kiwisolver>=1.0.1 in c:\\users\\chiaravercellino\\miniconda3\\lib\\site-packages (from matplotlib->pulser-core==0.7.0->pulser==0.7) (1.4.4)\n",
            "Requirement already satisfied: pyparsing>=2.2.1 in c:\\users\\chiaravercellino\\miniconda3\\lib\\site-packages (from matplotlib->pulser-core==0.7.0->pulser==0.7) (3.0.9)\n",
            "Requirement already satisfied: fonttools>=4.22.0 in c:\\users\\chiaravercellino\\miniconda3\\lib\\site-packages (from matplotlib->pulser-core==0.7.0->pulser==0.7) (4.36.0)\n",
            "Requirement already satisfied: cycler>=0.10 in c:\\users\\chiaravercellino\\miniconda3\\lib\\site-packages (from matplotlib->pulser-core==0.7.0->pulser==0.7) (0.11.0)\n",
            "Requirement already satisfied: python-dateutil>=2.7 in c:\\users\\chiaravercellino\\miniconda3\\lib\\site-packages (from matplotlib->pulser-core==0.7.0->pulser==0.7) (2.8.2)\n",
            "Requirement already satisfied: pillow>=6.2.0 in c:\\users\\chiaravercellino\\miniconda3\\lib\\site-packages (from matplotlib->pulser-core==0.7.0->pulser==0.7) (9.2.0)\n",
            "Requirement already satisfied: six>=1.5 in c:\\users\\chiaravercellino\\miniconda3\\lib\\site-packages (from python-dateutil>=2.7->matplotlib->pulser-core==0.7.0->pulser==0.7) (1.16.0)\n",
            "Installing collected packages: pyrsistent, attrs, jsonschema, qutip, pulser-core, pulser-simulation, pulser\n",
            "Successfully installed attrs-22.2.0 jsonschema-4.4.0 pulser-0.7.0 pulser-core-0.7.0 pulser-simulation-0.7.0 pyrsistent-0.19.3 qutip-4.7.1\n",
            "Collecting pybnb\n",
            "  Using cached pybnb-0.6.2.tar.gz (92 kB)\n",
            "Requirement already satisfied: six in c:\\users\\chiaravercellino\\miniconda3\\lib\\site-packages (from pybnb) (1.16.0)\n",
            "Collecting sortedcontainers\n",
            "  Using cached sortedcontainers-2.4.0-py2.py3-none-any.whl (29 kB)\n",
            "Building wheels for collected packages: pybnb\n",
            "  Building wheel for pybnb (setup.py): started\n",
            "  Building wheel for pybnb (setup.py): finished with status 'done'\n",
            "  Created wheel for pybnb: filename=pybnb-0.6.2-py2.py3-none-any.whl size=60620 sha256=43d4fa2d981649a80af33fc6ba545c6254a0c52ee8b54ca5d38cd8633926fa2a\n",
            "  Stored in directory: c:\\users\\chiaravercellino\\appdata\\local\\pip\\cache\\wheels\\e4\\00\\10\\d3f482061807e286001f598b8e20139454a7482912996871e5\n",
            "Successfully built pybnb\n",
            "Installing collected packages: sortedcontainers, pybnb\n",
            "Successfully installed pybnb-0.6.2 sortedcontainers-2.4.0\n",
            "Collecting networkx==2.5.1\n",
            "  Using cached networkx-2.5.1-py3-none-any.whl (1.6 MB)\n",
            "Collecting decorator<5,>=4.3\n",
            "  Using cached decorator-4.4.2-py2.py3-none-any.whl (9.2 kB)\n",
            "Installing collected packages: decorator, networkx\n",
            "  Attempting uninstall: decorator\n",
            "    Found existing installation: decorator 5.1.1\n",
            "    Uninstalling decorator-5.1.1:\n",
            "      Successfully uninstalled decorator-5.1.1\n",
            "  Attempting uninstall: networkx\n",
            "    Found existing installation: networkx 2.6.3\n",
            "    Uninstalling networkx-2.6.3:\n",
            "      Successfully uninstalled networkx-2.6.3\n",
            "Successfully installed decorator-4.4.2 networkx-2.5.1\n",
            "Collecting mpi4py\n",
            "  Downloading mpi4py-3.1.4-cp39-cp39-win_amd64.whl (474 kB)\n",
            "Installing collected packages: mpi4py\n",
            "Successfully installed mpi4py-3.1.4\n"
          ]
        }
      ],
      "source": [
        "!pip install pulser==0.7\n",
        "!pip install pybnb\n",
        "!pip install networkx==2.5.1\n",
        "!pip install mpi4py"
      ]
    },
    {
      "cell_type": "code",
      "execution_count": 3,
      "metadata": {
        "colab": {
          "base_uri": "https://localhost:8080/"
        },
        "id": "GkNbCi9itf2t",
        "outputId": "e7c815c2-4e8f-420a-db2c-4b826eb87c79"
      },
      "outputs": [
        {
          "name": "stdout",
          "output_type": "stream",
          "text": [
            "/content/Master-QCC-2022-2023\n"
          ]
        }
      ],
      "source": [
        "%cd /content/Master-QCC-2022-2023/"
      ]
    },
    {
      "cell_type": "code",
      "execution_count": 10,
      "metadata": {},
      "outputs": [],
      "source": [
        "def compute_obj(G, colors_used, previous_coloring):\n",
        "    if len(G.edges())>0:\n",
        "        obj = colors_used+len(G.nodes())\n",
        "        for greedy_color_node in G.nodes():\n",
        "            colors_used = colors_used + 1\n",
        "            previous_coloring[greedy_color_node] = colors_used\n",
        "    else:\n",
        "        for node in G.nodes():\n",
        "            previous_coloring[node]=colors_used+1\n",
        "        obj = colors_used+1\n",
        "    return obj, previous_coloring"
      ]
    },
    {
      "cell_type": "code",
      "execution_count": 2,
      "metadata": {
        "id": "sm8Lr05ok9H2"
      },
      "outputs": [],
      "source": [
        "import pybnb\n",
        "import numpy as np\n",
        "from src.graph_coloring.BB_utils import *\n",
        "from src.graph_coloring.MIS import PulserMISSolver\n",
        "from src.graph_coloring.feasibility_utils import is_mIS\n",
        "\n",
        "class BBQ_mIS(pybnb.Problem):\n",
        "    \n",
        "    def __init__(self, G, colors_used=0):\n",
        "        self.G = G \n",
        "        self.orig_G = G.copy()     \n",
        "        self.x = np.zeros((len(G.nodes),1))\n",
        "        _, LB, _ = compute_LB(self.x, self.G)\n",
        "        self.colors_used = colors_used\n",
        "        self.edges = len(G.edges())\n",
        "        self.fingerprints=set([])        \n",
        "        self.lower_bound=colors_used+LB\n",
        "        coloring =  dict.fromkeys(G.nodes(), -1)\n",
        "        obj, coloring = compute_obj(G, colors_used, coloring)\n",
        "        self.obj = obj\n",
        "        self.coloring = coloring\n",
        "        self.child_story={0:-1}\n",
        "        self.hist_list = []\n",
        "        self.solutions = None\n",
        "\n",
        "    def sense(self):\n",
        "        return pybnb.minimize\n",
        "\n",
        "    def objective(self):             \n",
        "        return self.obj\n",
        "\n",
        "    def bound(self):\n",
        "        # lower bound on the objective function\n",
        "        return self.lower_bound\n",
        "\n",
        "    def save_state(self, node, x=None, colors_used=None, lower_bound=None, H=None, obj=None, coloring=None, child_story=None, solutions = None, hist_list=None):\n",
        "        if x is None:\n",
        "            # root node initialization\n",
        "            node.state = (self.x, self.colors_used, self.G, self.edges, self.coloring, self.child_story, self.solutions, self.hist_list)\n",
        "        else:\n",
        "            num_edges = len(H.edges())\n",
        "            node.state = (x, colors_used, H, num_edges, coloring, child_story, solutions, hist_list)\n",
        "            node.objective = obj\n",
        "            node.bound = lower_bound\n",
        "            UB = compute_UB(H)\n",
        "            node.queue_priority = -UB*num_edges\n",
        "                          \n",
        "            \n",
        "    def load_state(self, node):\n",
        "        (self.x, self.colors_used, self.G, self.edges, self.coloring, self.child_story, self.solutions, self.hist_list) = node.state\n",
        "        self.obj = node.objective\n",
        "        self.lower_bound = node.bound\n",
        "\n",
        "    def branch(self):\n",
        "        pulser_MIS_solver = PulserMISSolver(self.G)\n",
        "        pulser_sol = pulser_MIS_solver.solve_Pulser()\n",
        "        hist_list=self.hist_list.copy()\n",
        "        hist_list.append(pulser_sol)\n",
        "        num_colors_child = self.colors_used+1\n",
        "        solutions = []  \n",
        "        for sol in pulser_sol:\n",
        "            solutions.append(np.array(list(sol[0]), dtype=int))\n",
        "        num_sol = len(solutions)\n",
        "        child_num=0                    \n",
        "        for sol in range(num_sol): \n",
        "            child_story=self.child_story.copy()\n",
        "            child_story[num_colors_child]=child_num+1\n",
        "            coloring_dict = self.coloring.copy() \n",
        "            x = solutions[sol]      \n",
        "            if is_mIS(x, self.G):                                \n",
        "                H, LB, MIS_set = compute_LB(x, self.G)\n",
        "                for graph_node in MIS_set:\n",
        "                    coloring_dict[graph_node]=num_colors_child                \n",
        "                fp = fingerprint(H.nodes())                \n",
        "                if fp not in self.fingerprints and len(H.nodes())>0:\n",
        "                    child_num+=1\n",
        "                    # avoid symmetries in BB\n",
        "                    child = pybnb.Node()\n",
        "                    obj, coloring_dict = compute_obj(H, num_colors_child, coloring_dict)\n",
        "                    child_bound = num_colors_child+LB\n",
        "                    self.save_state(child, x, num_colors_child, child_bound, H, obj, coloring_dict, child_story, pulser_sol, hist_list)\n",
        "                    self.fingerprints.add(fp)\n",
        "                    yield child"
      ]
    },
    {
      "cell_type": "code",
      "execution_count": 3,
      "metadata": {
        "colab": {
          "base_uri": "https://localhost:8080/"
        },
        "id": "14Qt7H1dlRDo",
        "outputId": "53071f1a-8600-46c1-a1bc-d7bb174f5aaa"
      },
      "outputs": [
        {
          "name": "stdout",
          "output_type": "stream",
          "text": [
            "\n",
            "Using non-default solver options:\n",
            " - node_limit: 20 (default: None)\n",
            " - queue_strategy: custom (default: bound)\n",
            "\n",
            "Starting branch & bound solve:\n",
            " - dispatcher pid: 15572 (LAPTOP-SIDQI55K)\n",
            " - worker processes: 1\n",
            "--------------------------------------------------------------------------------------------------------------------------\n",
            "         Nodes        |                      Objective Bounds                       |              Work              \n",
            "      Expl    Unexpl  |      Incumbent           Bound    Rel. Gap         Abs. Gap | Time (s)  Nodes/Sec Imbalance   Idle\n",
            "         0         1  |            inf            -inf         inf%             inf |      0.0       0.00     0.00%      0\n",
            "         1         5  |            inf               3         inf%             inf |     16.1       0.06     0.00%      0\n",
            "*        2         2  |              4               3   25.000000%               1 |     24.7       0.11     0.00%      0\n",
            "         3         1  |              4               3   25.000000%               1 |     29.9       0.19     0.00%      0\n",
            "         4         0  |              4               4    0.000000%               0 |     36.8       0.15     0.00%      0\n",
            "--------------------------------------------------------------------------------------------------------------------------\n",
            "\n",
            "Absolute optimality tolerance met\n",
            "Optimal solution found!\n",
            "\n",
            "solver results:\n",
            " - solution_status: optimal\n",
            " - termination_condition: optimality\n",
            " - objective: 4\n",
            " - bound: 4\n",
            " - absolute_gap: 0\n",
            " - relative_gap: 0\n",
            " - nodes: 4\n",
            " - wall_time: 36.85 s\n",
            " - best_node: Node(objective=4)\n",
            "\n"
          ]
        },
        {
          "data": {
            "image/png": "[encoded data removed]",
            "text/plain": [
              "<Figure size 640x480 with 1 Axes>"
            ]
          },
          "metadata": {},
          "output_type": "display_data"
        },
        {
          "name": "stdout",
          "output_type": "stream",
          "text": [
            "Best solution history:\n",
            "\t Step 1 -> selected MIS solution at position 5\n",
            "\n",
            "Step 1 -> nodes in MIS solution [0, 3]\n",
            "Step 2 -> nodes in MIS solution [4, 5, 6]\n",
            "Step 3 -> nodes in MIS solution [1]\n",
            "Step 4 -> nodes in MIS solution [2]\n",
            "Coloring story {0: -1, 1: 5}\n",
            "BBQ-mIS found coloring with 4 colors\n"
          ]
        }
      ],
      "source": [
        "import networkx as nx\n",
        "from src.graph_coloring.BB_utils import *\n",
        "\n",
        "file_path=\"graphs/{}G_{}ud.gpickle\".format(7, 2)\n",
        "G = nx.read_gpickle(file_path)\n",
        "max_nodes=20\n",
        "problem = BBQ_mIS(G)\n",
        "solver = pybnb.Solver()\n",
        "results = solver.solve(problem, queue_strategy='custom', node_limit=max_nodes)\n",
        "best_coloring = results.best_node.state[4]\n",
        "child_story = results.best_node.state[5]\n",
        "plot_sol(G, best_coloring, results.objective)    \n",
        "print_BB_history(child_story)\n",
        "# print the MISs for the best solution\n",
        "print_mIS(best_coloring)\n",
        "print('Coloring story {}'.format(child_story))\n",
        "print('BBQ-mIS found coloring with {} colors'.format(results.objective))"
      ]
    },
    {
      "cell_type": "code",
      "execution_count": null,
      "metadata": {},
      "outputs": [],
      "source": []
    }
  ],
  "metadata": {
    "colab": {
      "provenance": []
    },
    "kernelspec": {
      "display_name": "Python 3",
      "name": "python3"
    },
    "language_info": {
      "codemirror_mode": {
        "name": "ipython",
        "version": 3
      },
      "file_extension": ".py",
      "mimetype": "text/x-python",
      "name": "python",
      "nbconvert_exporter": "python",
      "pygments_lexer": "ipython3",
      "version": "3.9.7"
    }
  },
  "nbformat": 4,
  "nbformat_minor": 0
}
