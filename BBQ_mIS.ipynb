{
  "cells": [
    {
      "cell_type": "markdown",
      "metadata": {
        "id": "giPpluoycnlc"
      },
      "source": [
        "#**BBQ-mIS**\n",
        "Graph coloring optimization on neutral atoms quantum machines.\n",
        "* clone repository (codes building blocks and graphs dataset)\n",
        "* install needed libraries\n",
        "* investigate BB behaviour by changing \n",
        "  * exploration policy, i.e. queue_strategy (https://pybnb.readthedocs.io/en/stable/index.html)\n",
        "  * feasible coloring computation\n",
        "  * maximum number of explored nodes"
      ]
    },
    {
      "cell_type": "code",
      "execution_count": 1,
      "metadata": {
        "colab": {
          "base_uri": "https://localhost:8080/"
        },
        "id": "tx8StvwKFrSe",
        "outputId": "99c6fa7d-c56b-4dc7-c97d-a97cf89a27cd"
      },
      "outputs": [
        {
          "name": "stdout",
          "output_type": "stream",
          "text": [
            "Cloning into 'Master-QCC-2022-2023'...\n",
            "remote: Enumerating objects: 102, done.\u001b[K\n",
            "remote: Counting objects: 100% (102/102), done.\u001b[K\n",
            "remote: Compressing objects: 100% (58/58), done.\u001b[K\n",
            "remote: Total 102 (delta 47), reused 89 (delta 37), pack-reused 0\u001b[K\n",
            "Receiving objects: 100% (102/102), 78.11 KiB | 15.62 MiB/s, done.\n",
            "Resolving deltas: 100% (47/47), done.\n"
          ]
        }
      ],
      "source": [
        "!git clone https://github.com/LINKS-Foundation-CPE/Master-QCC-2022-2023.git"
      ]
    },
    {
      "cell_type": "code",
      "execution_count": 1,
      "metadata": {
        "colab": {
          "base_uri": "https://localhost:8080/",
          "height": 1000
        },
        "id": "kdxWRqJeGbkZ",
        "outputId": "c199c130-50d4-427d-d245-adfa32244be4"
      },
      "outputs": [
        {
          "name": "stdout",
          "output_type": "stream",
          "text": [
            "Requirement already satisfied: pybnb in c:\\users\\chiaravercellino\\miniconda3\\lib\\site-packages (0.6.2)\n",
            "Requirement already satisfied: six in c:\\users\\chiaravercellino\\miniconda3\\lib\\site-packages (from pybnb) (1.16.0)\n",
            "Requirement already satisfied: sortedcontainers in c:\\users\\chiaravercellino\\miniconda3\\lib\\site-packages (from pybnb) (2.4.0)\n",
            "Requirement already satisfied: mpi4py in c:\\users\\chiaravercellino\\miniconda3\\lib\\site-packages (3.1.4)\n"
          ]
        },
        {
          "name": "stderr",
          "output_type": "stream",
          "text": [
            "ERROR: Could not find a version that satisfies the requirement pulser==0.17.14 (from versions: 0.0.1a1, 0.1.0, 0.1.1, 0.1.2, 0.2.0, 0.2.1, 0.3.0, 0.3.1, 0.3.2, 0.4.0, 0.4.1, 0.4.2, 0.5.0, 0.5.1, 0.6.0, 0.7.0, 0.7.1, 0.7.2, 0.7.3, 0.8.0, 0.8.1, 0.9.0, 0.9.1, 0.9.2, 0.9.3, 0.10.0, 0.11.0, 0.11.1, 0.12.0, 0.13.0, 0.13.1, 0.13.2, 0.13.3, 0.14.0, 0.14.1, 0.15.0, 0.15.1, 0.15.2, 0.15.3, 0.16.0, 0.16.1, 0.16.2, 0.17.0, 0.17.1, 0.17.2, 0.17.3, 0.17.4)\n",
            "ERROR: No matching distribution found for pulser==0.17.14\n"
          ]
        },
        {
          "name": "stdout",
          "output_type": "stream",
          "text": [
            "Requirement already satisfied: networkx==2.8.7 in c:\\users\\chiaravercellino\\miniconda3\\lib\\site-packages (2.8.7)\n",
            "Requirement already satisfied: matplotlib==3.5.1 in c:\\users\\chiaravercellino\\miniconda3\\lib\\site-packages (3.5.1)\n",
            "Requirement already satisfied: numpy>=1.17 in c:\\users\\chiaravercellino\\miniconda3\\lib\\site-packages (from matplotlib==3.5.1) (1.25.1)\n",
            "Requirement already satisfied: cycler>=0.10 in c:\\users\\chiaravercellino\\miniconda3\\lib\\site-packages (from matplotlib==3.5.1) (0.11.0)\n",
            "Requirement already satisfied: fonttools>=4.22.0 in c:\\users\\chiaravercellino\\miniconda3\\lib\\site-packages (from matplotlib==3.5.1) (4.41.1)\n",
            "Requirement already satisfied: pyparsing>=2.2.1 in c:\\users\\chiaravercellino\\miniconda3\\lib\\site-packages (from matplotlib==3.5.1) (3.0.9)\n",
            "Requirement already satisfied: python-dateutil>=2.7 in c:\\users\\chiaravercellino\\miniconda3\\lib\\site-packages (from matplotlib==3.5.1) (2.8.2)\n",
            "Requirement already satisfied: pillow>=6.2.0 in c:\\users\\chiaravercellino\\miniconda3\\lib\\site-packages (from matplotlib==3.5.1) (10.0.0)\n",
            "Requirement already satisfied: packaging>=20.0 in c:\\users\\chiaravercellino\\miniconda3\\lib\\site-packages (from matplotlib==3.5.1) (23.1)\n",
            "Requirement already satisfied: kiwisolver>=1.0.1 in c:\\users\\chiaravercellino\\miniconda3\\lib\\site-packages (from matplotlib==3.5.1) (1.4.4)\n",
            "Requirement already satisfied: six>=1.5 in c:\\users\\chiaravercellino\\miniconda3\\lib\\site-packages (from python-dateutil>=2.7->matplotlib==3.5.1) (1.16.0)\n",
            "Requirement already satisfied: matplotlib-inline in c:\\users\\chiaravercellino\\miniconda3\\lib\\site-packages (0.1.7)\n",
            "Requirement already satisfied: traitlets in c:\\users\\chiaravercellino\\miniconda3\\lib\\site-packages (from matplotlib-inline) (5.9.0)\n"
          ]
        }
      ],
      "source": [
        "!pip install pybnb\n",
        "!pip install mpi4py\n",
        "!pip install pulser==0.17.14\n",
        "!pip install networkx==2.8.7\n",
        "!pip install matplotlib==3.5.1\n",
        "!pip install matplotlib-inline"
      ]
    },
    {
      "cell_type": "code",
      "execution_count": null,
      "metadata": {
        "colab": {
          "base_uri": "https://localhost:8080/"
        },
        "id": "GkNbCi9itf2t",
        "outputId": "f8adc965-2264-46a8-fa83-8b135cbb6938"
      },
      "outputs": [],
      "source": [
        "%cd /content/Master-QCC-2022-2023/"
      ]
    },
    {
      "cell_type": "code",
      "execution_count": 2,
      "metadata": {
        "id": "u5lfbjrp85GG"
      },
      "outputs": [],
      "source": [
        "%matplotlib inline"
      ]
    },
    {
      "cell_type": "code",
      "execution_count": 3,
      "metadata": {
        "id": "FizlncPf2skt"
      },
      "outputs": [],
      "source": [
        "def compute_obj(G, colors_used, previous_coloring):\n",
        "    if len(G.edges())>0:\n",
        "        obj = colors_used+len(G.nodes())\n",
        "        for greedy_color_node in G.nodes():\n",
        "            colors_used = colors_used + 1\n",
        "            previous_coloring[greedy_color_node] = colors_used\n",
        "    else:\n",
        "        for node in G.nodes():\n",
        "            previous_coloring[node]=colors_used+1\n",
        "        obj = colors_used+1\n",
        "    return obj, previous_coloring"
      ]
    },
    {
      "cell_type": "code",
      "execution_count": 4,
      "metadata": {
        "id": "sm8Lr05ok9H2"
      },
      "outputs": [
        {
          "ename": "NameError",
          "evalue": "name 'RydbergEOM' is not defined",
          "output_type": "error",
          "traceback": [
            "\u001b[1;31m---------------------------------------------------------------------------\u001b[0m",
            "\u001b[1;31mNameError\u001b[0m                                 Traceback (most recent call last)",
            "Cell \u001b[1;32mIn[4], line 4\u001b[0m\n\u001b[0;32m      2\u001b[0m \u001b[38;5;28;01mimport\u001b[39;00m \u001b[38;5;21;01mnumpy\u001b[39;00m \u001b[38;5;28;01mas\u001b[39;00m \u001b[38;5;21;01mnp\u001b[39;00m\n\u001b[0;32m      3\u001b[0m \u001b[38;5;28;01mfrom\u001b[39;00m \u001b[38;5;21;01msrc\u001b[39;00m\u001b[38;5;21;01m.\u001b[39;00m\u001b[38;5;21;01mgraph_coloring\u001b[39;00m\u001b[38;5;21;01m.\u001b[39;00m\u001b[38;5;21;01mBB_utils\u001b[39;00m \u001b[38;5;28;01mimport\u001b[39;00m \u001b[38;5;241m*\u001b[39m\n\u001b[1;32m----> 4\u001b[0m \u001b[38;5;28;01mfrom\u001b[39;00m \u001b[38;5;21;01msrc\u001b[39;00m\u001b[38;5;21;01m.\u001b[39;00m\u001b[38;5;21;01mgraph_coloring\u001b[39;00m\u001b[38;5;21;01m.\u001b[39;00m\u001b[38;5;21;01mMIS\u001b[39;00m \u001b[38;5;28;01mimport\u001b[39;00m PulserMISSolver\n\u001b[0;32m      5\u001b[0m \u001b[38;5;28;01mfrom\u001b[39;00m \u001b[38;5;21;01msrc\u001b[39;00m\u001b[38;5;21;01m.\u001b[39;00m\u001b[38;5;21;01mgraph_coloring\u001b[39;00m\u001b[38;5;21;01m.\u001b[39;00m\u001b[38;5;21;01mfeasibility_utils\u001b[39;00m \u001b[38;5;28;01mimport\u001b[39;00m is_mIS\n\u001b[0;32m      7\u001b[0m \u001b[38;5;28;01mclass\u001b[39;00m \u001b[38;5;21;01mBBQ_mIS\u001b[39;00m(pybnb\u001b[38;5;241m.\u001b[39mProblem):\n",
            "File \u001b[1;32mc:\\Users\\ChiaraVercellino\\OneDrive - Fondazione LINKS\\Desktop\\Work\\materials\\QUANTUM\\Master-QCC-2022-2023\\src\\graph_coloring\\MIS.py:26\u001b[0m\n\u001b[0;32m      9\u001b[0m \u001b[38;5;28;01mfrom\u001b[39;00m \u001b[38;5;21;01mscipy\u001b[39;00m\u001b[38;5;21;01m.\u001b[39;00m\u001b[38;5;21;01mspatial\u001b[39;00m \u001b[38;5;28;01mimport\u001b[39;00m distance_matrix\n\u001b[0;32m     10\u001b[0m \u001b[38;5;28;01mimport\u001b[39;00m \u001b[38;5;21;01mrandom\u001b[39;00m\n\u001b[0;32m     12\u001b[0m AnalogDevice \u001b[38;5;241m=\u001b[39m Device(\n\u001b[0;32m     13\u001b[0m             name\u001b[38;5;241m=\u001b[39m\u001b[38;5;124m\"\u001b[39m\u001b[38;5;124mAnalogDevice\u001b[39m\u001b[38;5;124m\"\u001b[39m,\n\u001b[0;32m     14\u001b[0m             dimensions\u001b[38;5;241m=\u001b[39m\u001b[38;5;241m2\u001b[39m,\n\u001b[0;32m     15\u001b[0m             rydberg_level\u001b[38;5;241m=\u001b[39m\u001b[38;5;241m60\u001b[39m,\n\u001b[0;32m     16\u001b[0m             max_atom_num\u001b[38;5;241m=\u001b[39m\u001b[38;5;241m25\u001b[39m,\n\u001b[0;32m     17\u001b[0m             max_radial_distance\u001b[38;5;241m=\u001b[39m\u001b[38;5;241m35\u001b[39m,\n\u001b[0;32m     18\u001b[0m             min_atom_distance\u001b[38;5;241m=\u001b[39m\u001b[38;5;241m4\u001b[39m,\n\u001b[0;32m     19\u001b[0m             channel_objects\u001b[38;5;241m=\u001b[39m(\n\u001b[0;32m     20\u001b[0m             Rydberg\u001b[38;5;241m.\u001b[39mGlobal(\n\u001b[0;32m     21\u001b[0m                 max_abs_detuning\u001b[38;5;241m=\u001b[39m\u001b[38;5;241m2\u001b[39m \u001b[38;5;241m*\u001b[39m np\u001b[38;5;241m.\u001b[39mpi \u001b[38;5;241m*\u001b[39m \u001b[38;5;241m20\u001b[39m,\n\u001b[0;32m     22\u001b[0m                 max_amp\u001b[38;5;241m=\u001b[39m\u001b[38;5;241m2\u001b[39m \u001b[38;5;241m*\u001b[39m np\u001b[38;5;241m.\u001b[39mpi \u001b[38;5;241m*\u001b[39m \u001b[38;5;241m2\u001b[39m,\n\u001b[0;32m     23\u001b[0m                 clock_period\u001b[38;5;241m=\u001b[39m\u001b[38;5;241m4\u001b[39m,\n\u001b[0;32m     24\u001b[0m                 min_duration\u001b[38;5;241m=\u001b[39m\u001b[38;5;241m16\u001b[39m,\n\u001b[0;32m     25\u001b[0m                 mod_bandwidth\u001b[38;5;241m=\u001b[39m\u001b[38;5;241m8\u001b[39m,\n\u001b[1;32m---> 26\u001b[0m                 eom_config\u001b[38;5;241m=\u001b[39m\u001b[43mRydbergEOM\u001b[49m(\n\u001b[0;32m     27\u001b[0m                     limiting_beam\u001b[38;5;241m=\u001b[39mRydbergBeam\u001b[38;5;241m.\u001b[39mRED,\n\u001b[0;32m     28\u001b[0m                     max_limiting_amp\u001b[38;5;241m=\u001b[39m\u001b[38;5;241m30\u001b[39m \u001b[38;5;241m*\u001b[39m \u001b[38;5;241m2\u001b[39m \u001b[38;5;241m*\u001b[39m np\u001b[38;5;241m.\u001b[39mpi,\n\u001b[0;32m     29\u001b[0m                     intermediate_detuning\u001b[38;5;241m=\u001b[39m\u001b[38;5;241m450\u001b[39m \u001b[38;5;241m*\u001b[39m \u001b[38;5;241m2\u001b[39m \u001b[38;5;241m*\u001b[39m np\u001b[38;5;241m.\u001b[39mpi,\n\u001b[0;32m     30\u001b[0m                     mod_bandwidth\u001b[38;5;241m=\u001b[39m\u001b[38;5;241m40\u001b[39m,\n\u001b[0;32m     31\u001b[0m                     controlled_beams\u001b[38;5;241m=\u001b[39m(RydbergBeam\u001b[38;5;241m.\u001b[39mBLUE,),\n\u001b[0;32m     32\u001b[0m                 ),\n\u001b[0;32m     33\u001b[0m             ),\n\u001b[0;32m     34\u001b[0m         ),\n\u001b[0;32m     35\u001b[0m         )\n\u001b[0;32m     38\u001b[0m random\u001b[38;5;241m.\u001b[39mseed(\u001b[38;5;241m0\u001b[39m)\n\u001b[0;32m     39\u001b[0m warnings\u001b[38;5;241m.\u001b[39mfilterwarnings(\u001b[38;5;124m'\u001b[39m\u001b[38;5;124mignore\u001b[39m\u001b[38;5;124m'\u001b[39m)\n",
            "\u001b[1;31mNameError\u001b[0m: name 'RydbergEOM' is not defined"
          ]
        }
      ],
      "source": [
        "import pybnb\n",
        "import numpy as np\n",
        "from src.graph_coloring.BB_utils import *\n",
        "from src.graph_coloring.MIS import PulserMISSolver\n",
        "from src.graph_coloring.feasibility_utils import is_mIS\n",
        "\n",
        "class BBQ_mIS(pybnb.Problem):\n",
        "    \n",
        "    def __init__(self, G, colors_used=0):\n",
        "        self.G = G \n",
        "        self.orig_G = G.copy()     \n",
        "        self.x = np.zeros((len(G.nodes),1))\n",
        "        _, LB, _ = compute_LB(self.x, self.G)\n",
        "        self.colors_used = colors_used\n",
        "        self.edges = len(G.edges())\n",
        "        self.fingerprints=set([])        \n",
        "        self.lower_bound=colors_used+LB\n",
        "        coloring =  dict.fromkeys(G.nodes(), -1)\n",
        "        obj, coloring = compute_obj(G, colors_used, coloring)\n",
        "        self.obj = obj\n",
        "        self.coloring = coloring\n",
        "        self.child_story={0:-1}\n",
        "        self.hist_list = []\n",
        "        self.solutions = None\n",
        "\n",
        "    def sense(self):\n",
        "        return pybnb.minimize\n",
        "\n",
        "    def objective(self):             \n",
        "        return self.obj\n",
        "\n",
        "    def bound(self):\n",
        "        # lower bound on the objective function\n",
        "        return self.lower_bound\n",
        "\n",
        "    def save_state(self, node, x=None, colors_used=None, lower_bound=None, H=None, obj=None, coloring=None, child_story=None, solutions = None, hist_list=None):\n",
        "        if x is None:\n",
        "            # root node initialization\n",
        "            node.state = (self.x, self.colors_used, self.G, self.edges, self.coloring, self.child_story, self.solutions, self.hist_list)\n",
        "        else:\n",
        "            num_edges = len(H.edges())\n",
        "            node.state = (x, colors_used, H, num_edges, coloring, child_story, solutions, hist_list)\n",
        "            node.objective = obj\n",
        "            node.bound = lower_bound\n",
        "            UB = compute_UB(H)\n",
        "            node.queue_priority = -UB*num_edges\n",
        "                          \n",
        "            \n",
        "    def load_state(self, node):\n",
        "        (self.x, self.colors_used, self.G, self.edges, self.coloring, self.child_story, self.solutions, self.hist_list) = node.state\n",
        "        self.obj = node.objective\n",
        "        self.lower_bound = node.bound\n",
        "\n",
        "    def branch(self):\n",
        "        pulser_MIS_solver = PulserMISSolver(self.G)\n",
        "        pulser_sol = pulser_MIS_solver.solve_Pulser()\n",
        "        hist_list=self.hist_list.copy()\n",
        "        hist_list.append(pulser_sol)\n",
        "        num_colors_child = self.colors_used+1\n",
        "        solutions = []  \n",
        "        for sol in pulser_sol:\n",
        "            solutions.append(np.array(list(sol[0]), dtype=int))\n",
        "        num_sol = len(solutions)\n",
        "        child_num=0                    \n",
        "        for sol in range(num_sol): \n",
        "            child_story=self.child_story.copy()\n",
        "            child_story[num_colors_child]=child_num+1\n",
        "            coloring_dict = self.coloring.copy() \n",
        "            x = solutions[sol]      \n",
        "            if is_mIS(x, self.G):                                \n",
        "                H, LB, MIS_set = compute_LB(x, self.G)\n",
        "                for graph_node in MIS_set:\n",
        "                    coloring_dict[graph_node]=num_colors_child                \n",
        "                fp = fingerprint(H.nodes())                \n",
        "                if fp not in self.fingerprints and len(H.nodes())>0:\n",
        "                    child_num+=1\n",
        "                    # avoid symmetries in BB\n",
        "                    child = pybnb.Node()\n",
        "                    obj, coloring_dict = compute_obj(H, num_colors_child, coloring_dict)\n",
        "                    child_bound = num_colors_child+LB\n",
        "                    self.save_state(child, x, num_colors_child, child_bound, H, obj, coloring_dict, child_story, pulser_sol, hist_list)\n",
        "                    self.fingerprints.add(fp)\n",
        "                    yield child"
      ]
    },
    {
      "cell_type": "code",
      "execution_count": 5,
      "metadata": {
        "colab": {
          "base_uri": "https://localhost:8080/",
          "height": 1000
        },
        "id": "14Qt7H1dlRDo",
        "outputId": "f63334b3-3ac6-41e4-bb33-e8f46c633153"
      },
      "outputs": [
        {
          "name": "stdout",
          "output_type": "stream",
          "text": [
            "\n",
            "Using non-default solver options:\n",
            " - node_limit: 20 (default: None)\n",
            " - queue_strategy: custom (default: bound)\n",
            "\n",
            "Starting branch & bound solve:\n",
            " - dispatcher pid: 14596 (LAPTOP-SIDQI55K)\n",
            " - worker processes: 1\n",
            "--------------------------------------------------------------------------------------------------------------------------\n",
            "         Nodes        |                      Objective Bounds                       |              Work              \n",
            "      Expl    Unexpl  |      Incumbent           Bound    Rel. Gap         Abs. Gap | Time (s)  Nodes/Sec Imbalance   Idle\n",
            "         0         1  |            inf            -inf         inf%             inf |      0.0       0.00     0.00%      0\n"
          ]
        },
        {
          "name": "stderr",
          "output_type": "stream",
          "text": [
            "Exception caught: No channel rydberg_global in the device.\n",
            "Attempting to shut down, but this may hang.\n"
          ]
        },
        {
          "ename": "ValueError",
          "evalue": "No channel rydberg_global in the device.",
          "output_type": "error",
          "traceback": [
            "\u001b[1;31m---------------------------------------------------------------------------\u001b[0m",
            "\u001b[1;31mValueError\u001b[0m                                Traceback (most recent call last)",
            "Cell \u001b[1;32mIn[5], line 10\u001b[0m\n\u001b[0;32m      8\u001b[0m problem \u001b[38;5;241m=\u001b[39m BBQ_mIS(G)\n\u001b[0;32m      9\u001b[0m solver \u001b[38;5;241m=\u001b[39m pybnb\u001b[38;5;241m.\u001b[39mSolver()\n\u001b[1;32m---> 10\u001b[0m results \u001b[38;5;241m=\u001b[39m \u001b[43msolver\u001b[49m\u001b[38;5;241;43m.\u001b[39;49m\u001b[43msolve\u001b[49m\u001b[43m(\u001b[49m\u001b[43mproblem\u001b[49m\u001b[43m,\u001b[49m\u001b[43m \u001b[49m\u001b[43mqueue_strategy\u001b[49m\u001b[38;5;241;43m=\u001b[39;49m\u001b[38;5;124;43m'\u001b[39;49m\u001b[38;5;124;43mcustom\u001b[39;49m\u001b[38;5;124;43m'\u001b[39;49m\u001b[43m,\u001b[49m\u001b[43m \u001b[49m\u001b[43mnode_limit\u001b[49m\u001b[38;5;241;43m=\u001b[39;49m\u001b[43mmax_nodes\u001b[49m\u001b[43m)\u001b[49m\n\u001b[0;32m     11\u001b[0m best_coloring \u001b[38;5;241m=\u001b[39m results\u001b[38;5;241m.\u001b[39mbest_node\u001b[38;5;241m.\u001b[39mstate[\u001b[38;5;241m4\u001b[39m]\n\u001b[0;32m     12\u001b[0m child_story \u001b[38;5;241m=\u001b[39m results\u001b[38;5;241m.\u001b[39mbest_node\u001b[38;5;241m.\u001b[39mstate[\u001b[38;5;241m5\u001b[39m]\n",
            "File \u001b[1;32mc:\\Users\\ChiaraVercellino\\miniconda3\\lib\\site-packages\\pybnb\\solver.py:933\u001b[0m, in \u001b[0;36mSolver.solve\u001b[1;34m(self, problem, best_objective, best_node, disable_objective_call, absolute_gap, relative_gap, scale_function, queue_tolerance, branch_tolerance, comparison_tolerance, objective_stop, bound_stop, node_limit, time_limit, queue_limit, track_bound, initialize_queue, queue_strategy, log_interval_seconds, log_new_incumbent, log, disable_signal_handlers)\u001b[0m\n\u001b[0;32m    925\u001b[0m             \u001b[38;5;28mself\u001b[39m\u001b[38;5;241m.\u001b[39m_disp\u001b[38;5;241m.\u001b[39mlog_warning(\n\u001b[0;32m    926\u001b[0m                 \u001b[38;5;124m\"\u001b[39m\u001b[38;5;124mSolve interrupted by user. \u001b[39m\u001b[38;5;124m\"\u001b[39m\n\u001b[0;32m    927\u001b[0m                 \u001b[38;5;124m\"\u001b[39m\u001b[38;5;124mWaiting for current worker \u001b[39m\u001b[38;5;124m\"\u001b[39m\n\u001b[0;32m    928\u001b[0m                 \u001b[38;5;124m\"\u001b[39m\u001b[38;5;124mjobs to complete before \u001b[39m\u001b[38;5;124m\"\u001b[39m\n\u001b[0;32m    929\u001b[0m                 \u001b[38;5;124m\"\u001b[39m\u001b[38;5;124mterminating the solve.\u001b[39m\u001b[38;5;124m\"\u001b[39m)\n\u001b[0;32m    930\u001b[0m     \u001b[38;5;28;01mwith\u001b[39;00m MPI_InterruptHandler(\n\u001b[0;32m    931\u001b[0m             handler,\n\u001b[0;32m    932\u001b[0m             disable\u001b[38;5;241m=\u001b[39mdisable_signal_handlers):\n\u001b[1;32m--> 933\u001b[0m         tmp \u001b[38;5;241m=\u001b[39m \u001b[38;5;28;43mself\u001b[39;49m\u001b[38;5;241;43m.\u001b[39;49m\u001b[43m_solve\u001b[49m\u001b[43m(\u001b[49m\u001b[43mproblem\u001b[49m\u001b[43m,\u001b[49m\n\u001b[0;32m    934\u001b[0m \u001b[43m                          \u001b[49m\u001b[43mbest_objective\u001b[49m\u001b[43m,\u001b[49m\n\u001b[0;32m    935\u001b[0m \u001b[43m                          \u001b[49m\u001b[43mbest_node\u001b[49m\u001b[43m,\u001b[49m\n\u001b[0;32m    936\u001b[0m \u001b[43m                          \u001b[49m\u001b[43mdisable_objective_call\u001b[49m\u001b[43m,\u001b[49m\n\u001b[0;32m    937\u001b[0m \u001b[43m                          \u001b[49m\u001b[43mconvergence_checker\u001b[49m\u001b[43m)\u001b[49m\n\u001b[0;32m    938\u001b[0m (results\u001b[38;5;241m.\u001b[39mobjective,\n\u001b[0;32m    939\u001b[0m  results\u001b[38;5;241m.\u001b[39mbest_node,\n\u001b[0;32m    940\u001b[0m  results\u001b[38;5;241m.\u001b[39mbound,\n\u001b[0;32m    941\u001b[0m  results\u001b[38;5;241m.\u001b[39mtermination_condition,\n\u001b[0;32m    942\u001b[0m  \u001b[38;5;28mself\u001b[39m\u001b[38;5;241m.\u001b[39m_global_solve_info) \u001b[38;5;241m=\u001b[39m tmp\n\u001b[0;32m    943\u001b[0m results\u001b[38;5;241m.\u001b[39mnodes \u001b[38;5;241m=\u001b[39m \u001b[38;5;28mself\u001b[39m\u001b[38;5;241m.\u001b[39m_global_solve_info\u001b[38;5;241m.\u001b[39mexplored_nodes_count\n",
            "File \u001b[1;32mc:\\Users\\ChiaraVercellino\\miniconda3\\lib\\site-packages\\pybnb\\solver.py:369\u001b[0m, in \u001b[0;36mSolver._solve\u001b[1;34m(self, problem, best_objective, best_node, disable_objective_call, convergence_checker)\u001b[0m\n\u001b[0;32m    362\u001b[0m \u001b[38;5;28;01melif\u001b[39;00m convergence_checker\u001b[38;5;241m.\u001b[39meligible_for_queue(\n\u001b[0;32m    363\u001b[0m         working_node\u001b[38;5;241m.\u001b[39mbound,\n\u001b[0;32m    364\u001b[0m         \u001b[38;5;28mself\u001b[39m\u001b[38;5;241m.\u001b[39m_best_objective) \u001b[38;5;129;01mand\u001b[39;00m \\\n\u001b[0;32m    365\u001b[0m     convergence_checker\u001b[38;5;241m.\u001b[39meligible_to_branch(\n\u001b[0;32m    366\u001b[0m         working_node\u001b[38;5;241m.\u001b[39mbound,\n\u001b[0;32m    367\u001b[0m         working_node\u001b[38;5;241m.\u001b[39mobjective):\n\u001b[0;32m    368\u001b[0m     clist \u001b[38;5;241m=\u001b[39m problem\u001b[38;5;241m.\u001b[39mbranch()\n\u001b[1;32m--> 369\u001b[0m     \u001b[38;5;28;01mfor\u001b[39;00m child \u001b[38;5;129;01min\u001b[39;00m clist:\n\u001b[0;32m    370\u001b[0m         children\u001b[38;5;241m.\u001b[39mappend(child)\n\u001b[0;32m    371\u001b[0m         \u001b[38;5;28;01massert\u001b[39;00m child\u001b[38;5;241m.\u001b[39mtree_depth \u001b[38;5;129;01mis\u001b[39;00m \u001b[38;5;28;01mNone\u001b[39;00m\n",
            "File \u001b[1;32mc:\\Users\\ChiaraVercellino\\miniconda3\\lib\\site-packages\\pybnb\\problem.py:366\u001b[0m, in \u001b[0;36m_SimpleSolveInfoCollector.branch\u001b[1;34m(self)\u001b[0m\n\u001b[0;32m    364\u001b[0m \u001b[38;5;28;01mdef\u001b[39;00m \u001b[38;5;21mbranch\u001b[39m(\u001b[38;5;28mself\u001b[39m):\n\u001b[0;32m    365\u001b[0m     start \u001b[38;5;241m=\u001b[39m \u001b[38;5;28mself\u001b[39m\u001b[38;5;241m.\u001b[39m_clock()\n\u001b[1;32m--> 366\u001b[0m     \u001b[38;5;28;01mfor\u001b[39;00m item \u001b[38;5;129;01min\u001b[39;00m \u001b[38;5;28mself\u001b[39m\u001b[38;5;241m.\u001b[39m_problem\u001b[38;5;241m.\u001b[39mbranch():\n\u001b[0;32m    367\u001b[0m         \u001b[38;5;28;01myield\u001b[39;00m item\n\u001b[0;32m    368\u001b[0m     stop \u001b[38;5;241m=\u001b[39m \u001b[38;5;28mself\u001b[39m\u001b[38;5;241m.\u001b[39m_clock()\n",
            "Cell \u001b[1;32mIn[4], line 56\u001b[0m, in \u001b[0;36mBBQ_mIS.branch\u001b[1;34m(self)\u001b[0m\n\u001b[0;32m     54\u001b[0m \u001b[38;5;28;01mdef\u001b[39;00m \u001b[38;5;21mbranch\u001b[39m(\u001b[38;5;28mself\u001b[39m):\n\u001b[0;32m     55\u001b[0m     pulser_MIS_solver \u001b[38;5;241m=\u001b[39m PulserMISSolver(\u001b[38;5;28mself\u001b[39m\u001b[38;5;241m.\u001b[39mG)\n\u001b[1;32m---> 56\u001b[0m     pulser_sol \u001b[38;5;241m=\u001b[39m \u001b[43mpulser_MIS_solver\u001b[49m\u001b[38;5;241;43m.\u001b[39;49m\u001b[43msolve_Pulser\u001b[49m\u001b[43m(\u001b[49m\u001b[43m)\u001b[49m\n\u001b[0;32m     57\u001b[0m     hist_list\u001b[38;5;241m=\u001b[39m\u001b[38;5;28mself\u001b[39m\u001b[38;5;241m.\u001b[39mhist_list\u001b[38;5;241m.\u001b[39mcopy()\n\u001b[0;32m     58\u001b[0m     hist_list\u001b[38;5;241m.\u001b[39mappend(pulser_sol)\n",
            "File \u001b[1;32mc:\\Users\\ChiaraVercellino\\OneDrive - Fondazione LINKS\\Desktop\\Work\\materials\\QUANTUM\\Master-QCC-2022-2023\\src\\graph_coloring\\MIS.py:148\u001b[0m, in \u001b[0;36mPulserMISSolver.solve_Pulser\u001b[1;34m(self)\u001b[0m\n\u001b[0;32m    146\u001b[0m \u001b[38;5;250m\u001b[39m\u001b[38;5;124;03m''' Solve the MIS problem associated with the graph G'''\u001b[39;00m\n\u001b[0;32m    147\u001b[0m bounds \u001b[38;5;241m=\u001b[39m \u001b[38;5;28mself\u001b[39m\u001b[38;5;241m.\u001b[39m_get_param_bounds()\n\u001b[1;32m--> 148\u001b[0m opt_params \u001b[38;5;241m=\u001b[39m \u001b[38;5;28;43mself\u001b[39;49m\u001b[38;5;241;43m.\u001b[39;49m\u001b[43m_optimize_params_scipy\u001b[49m\u001b[43m(\u001b[49m\u001b[43mbounds\u001b[49m\u001b[43m)\u001b[49m\n\u001b[0;32m    149\u001b[0m MIS_sol \u001b[38;5;241m=\u001b[39m \u001b[38;5;28mself\u001b[39m\u001b[38;5;241m.\u001b[39m_get_mis_solutions(opt_params) \n\u001b[0;32m    150\u001b[0m \u001b[38;5;28;01mreturn\u001b[39;00m MIS_sol\n",
            "File \u001b[1;32mc:\\Users\\ChiaraVercellino\\OneDrive - Fondazione LINKS\\Desktop\\Work\\materials\\QUANTUM\\Master-QCC-2022-2023\\src\\graph_coloring\\MIS.py:125\u001b[0m, in \u001b[0;36mPulserMISSolver._optimize_params_scipy\u001b[1;34m(self, bounds, opt_name)\u001b[0m\n\u001b[0;32m    123\u001b[0m max_function_calls \u001b[38;5;241m=\u001b[39m \u001b[38;5;28mself\u001b[39m\u001b[38;5;241m.\u001b[39miterations_opt\n\u001b[0;32m    124\u001b[0m bounds \u001b[38;5;241m=\u001b[39m Bounds(lb\u001b[38;5;241m=\u001b[39m[bounds[\u001b[38;5;241m0\u001b[39m][\u001b[38;5;241m0\u001b[39m], bounds[\u001b[38;5;241m1\u001b[39m][\u001b[38;5;241m0\u001b[39m]], ub\u001b[38;5;241m=\u001b[39m[bounds[\u001b[38;5;241m0\u001b[39m][\u001b[38;5;241m1\u001b[39m], bounds[\u001b[38;5;241m1\u001b[39m][\u001b[38;5;241m1\u001b[39m]], keep_feasible\u001b[38;5;241m=\u001b[39m\u001b[38;5;28;01mTrue\u001b[39;00m)\n\u001b[1;32m--> 125\u001b[0m res \u001b[38;5;241m=\u001b[39m \u001b[43mminimize\u001b[49m\u001b[43m(\u001b[49m\u001b[38;5;28;43mself\u001b[39;49m\u001b[38;5;241;43m.\u001b[39;49m\u001b[43m_cost_func\u001b[49m\u001b[43m,\u001b[49m\n\u001b[0;32m    126\u001b[0m \u001b[43m            \u001b[49m\u001b[43mmethod\u001b[49m\u001b[38;5;241;43m=\u001b[39;49m\u001b[43mopt_name\u001b[49m\u001b[43m,\u001b[49m\n\u001b[0;32m    127\u001b[0m \u001b[43m            \u001b[49m\u001b[43mx0\u001b[49m\u001b[38;5;241;43m=\u001b[39;49m\u001b[43mnp\u001b[49m\u001b[38;5;241;43m.\u001b[39;49m\u001b[43mr_\u001b[49m\u001b[43m[\u001b[49m\u001b[43mguess\u001b[49m\u001b[43m[\u001b[49m\u001b[38;5;124;43m'\u001b[39;49m\u001b[38;5;124;43mt\u001b[39;49m\u001b[38;5;124;43m'\u001b[39;49m\u001b[43m]\u001b[49m\u001b[43m,\u001b[49m\u001b[43m \u001b[49m\u001b[43mguess\u001b[49m\u001b[43m[\u001b[49m\u001b[38;5;124;43m'\u001b[39;49m\u001b[38;5;124;43ms\u001b[39;49m\u001b[38;5;124;43m'\u001b[39;49m\u001b[43m]\u001b[49m\u001b[43m]\u001b[49m\u001b[43m,\u001b[49m\n\u001b[0;32m    128\u001b[0m \u001b[43m            \u001b[49m\u001b[43mbounds\u001b[49m\u001b[38;5;241;43m=\u001b[39;49m\u001b[43mbounds\u001b[49m\u001b[43m,\u001b[49m\n\u001b[0;32m    129\u001b[0m \u001b[43m            \u001b[49m\u001b[43mtol\u001b[49m\u001b[38;5;241;43m=\u001b[39;49m\u001b[38;5;28;43mself\u001b[39;49m\u001b[38;5;241;43m.\u001b[39;49m\u001b[43mtol\u001b[49m\u001b[43m,\u001b[49m\n\u001b[0;32m    130\u001b[0m \u001b[43m            \u001b[49m\u001b[43moptions\u001b[49m\u001b[43m \u001b[49m\u001b[38;5;241;43m=\u001b[39;49m\u001b[43m \u001b[49m\u001b[43m{\u001b[49m\u001b[38;5;124;43m'\u001b[39;49m\u001b[38;5;124;43mmaxfev\u001b[39;49m\u001b[38;5;124;43m'\u001b[39;49m\u001b[43m:\u001b[49m\u001b[43m \u001b[49m\u001b[43mmax_function_calls\u001b[49m\u001b[43m}\u001b[49m\n\u001b[0;32m    131\u001b[0m \u001b[43m            \u001b[49m\u001b[43m)\u001b[49m\n\u001b[0;32m    132\u001b[0m opt_params \u001b[38;5;241m=\u001b[39m res\u001b[38;5;241m.\u001b[39mx\n\u001b[0;32m    133\u001b[0m \u001b[38;5;28;01mreturn\u001b[39;00m opt_params\n",
            "File \u001b[1;32mc:\\Users\\ChiaraVercellino\\miniconda3\\lib\\site-packages\\scipy\\optimize\\_minimize.py:684\u001b[0m, in \u001b[0;36mminimize\u001b[1;34m(fun, x0, args, method, jac, hess, hessp, bounds, constraints, tol, callback, options)\u001b[0m\n\u001b[0;32m    681\u001b[0m     bounds \u001b[38;5;241m=\u001b[39m standardize_bounds(bounds, x0, meth)\n\u001b[0;32m    683\u001b[0m \u001b[38;5;28;01mif\u001b[39;00m meth \u001b[38;5;241m==\u001b[39m \u001b[38;5;124m'\u001b[39m\u001b[38;5;124mnelder-mead\u001b[39m\u001b[38;5;124m'\u001b[39m:\n\u001b[1;32m--> 684\u001b[0m     res \u001b[38;5;241m=\u001b[39m _minimize_neldermead(fun, x0, args, callback, bounds\u001b[38;5;241m=\u001b[39mbounds,\n\u001b[0;32m    685\u001b[0m                                \u001b[38;5;241m*\u001b[39m\u001b[38;5;241m*\u001b[39moptions)\n\u001b[0;32m    686\u001b[0m \u001b[38;5;28;01melif\u001b[39;00m meth \u001b[38;5;241m==\u001b[39m \u001b[38;5;124m'\u001b[39m\u001b[38;5;124mpowell\u001b[39m\u001b[38;5;124m'\u001b[39m:\n\u001b[0;32m    687\u001b[0m     res \u001b[38;5;241m=\u001b[39m _minimize_powell(fun, x0, args, callback, bounds, \u001b[38;5;241m*\u001b[39m\u001b[38;5;241m*\u001b[39moptions)\n",
            "File \u001b[1;32mc:\\Users\\ChiaraVercellino\\miniconda3\\lib\\site-packages\\scipy\\optimize\\_optimize.py:845\u001b[0m, in \u001b[0;36m_minimize_neldermead\u001b[1;34m(func, x0, args, callback, maxiter, maxfev, disp, return_all, initial_simplex, xatol, fatol, adaptive, bounds, **unknown_options)\u001b[0m\n\u001b[0;32m    843\u001b[0m \u001b[38;5;28;01mtry\u001b[39;00m:\n\u001b[0;32m    844\u001b[0m     \u001b[38;5;28;01mfor\u001b[39;00m k \u001b[38;5;129;01min\u001b[39;00m \u001b[38;5;28mrange\u001b[39m(N \u001b[38;5;241m+\u001b[39m \u001b[38;5;241m1\u001b[39m):\n\u001b[1;32m--> 845\u001b[0m         fsim[k] \u001b[38;5;241m=\u001b[39m \u001b[43mfunc\u001b[49m\u001b[43m(\u001b[49m\u001b[43msim\u001b[49m\u001b[43m[\u001b[49m\u001b[43mk\u001b[49m\u001b[43m]\u001b[49m\u001b[43m)\u001b[49m\n\u001b[0;32m    846\u001b[0m \u001b[38;5;28;01mexcept\u001b[39;00m _MaxFuncCallError:\n\u001b[0;32m    847\u001b[0m     \u001b[38;5;28;01mpass\u001b[39;00m\n",
            "File \u001b[1;32mc:\\Users\\ChiaraVercellino\\miniconda3\\lib\\site-packages\\scipy\\optimize\\_optimize.py:569\u001b[0m, in \u001b[0;36m_wrap_scalar_function_maxfun_validation.<locals>.function_wrapper\u001b[1;34m(x, *wrapper_args)\u001b[0m\n\u001b[0;32m    567\u001b[0m ncalls[\u001b[38;5;241m0\u001b[39m] \u001b[38;5;241m+\u001b[39m\u001b[38;5;241m=\u001b[39m \u001b[38;5;241m1\u001b[39m\n\u001b[0;32m    568\u001b[0m \u001b[38;5;66;03m# A copy of x is sent to the user function (gh13740)\u001b[39;00m\n\u001b[1;32m--> 569\u001b[0m fx \u001b[38;5;241m=\u001b[39m \u001b[43mfunction\u001b[49m\u001b[43m(\u001b[49m\u001b[43mnp\u001b[49m\u001b[38;5;241;43m.\u001b[39;49m\u001b[43mcopy\u001b[49m\u001b[43m(\u001b[49m\u001b[43mx\u001b[49m\u001b[43m)\u001b[49m\u001b[43m,\u001b[49m\u001b[43m \u001b[49m\u001b[38;5;241;43m*\u001b[39;49m\u001b[43m(\u001b[49m\u001b[43mwrapper_args\u001b[49m\u001b[43m \u001b[49m\u001b[38;5;241;43m+\u001b[39;49m\u001b[43m \u001b[49m\u001b[43margs\u001b[49m\u001b[43m)\u001b[49m\u001b[43m)\u001b[49m\n\u001b[0;32m    570\u001b[0m \u001b[38;5;66;03m# Ideally, we'd like to a have a true scalar returned from f(x). For\u001b[39;00m\n\u001b[0;32m    571\u001b[0m \u001b[38;5;66;03m# backwards-compatibility, also allow np.array([1.3]),\u001b[39;00m\n\u001b[0;32m    572\u001b[0m \u001b[38;5;66;03m# np.array([[1.3]]) etc.\u001b[39;00m\n\u001b[0;32m    573\u001b[0m \u001b[38;5;28;01mif\u001b[39;00m \u001b[38;5;129;01mnot\u001b[39;00m np\u001b[38;5;241m.\u001b[39misscalar(fx):\n",
            "File \u001b[1;32mc:\\Users\\ChiaraVercellino\\OneDrive - Fondazione LINKS\\Desktop\\Work\\materials\\QUANTUM\\Master-QCC-2022-2023\\src\\graph_coloring\\MIS.py:88\u001b[0m, in \u001b[0;36mPulserMISSolver._cost_func\u001b[1;34m(self, param)\u001b[0m\n\u001b[0;32m     86\u001b[0m     qubits[n]\u001b[38;5;241m=\u001b[39m\u001b[38;5;28mself\u001b[39m\u001b[38;5;241m.\u001b[39mG\u001b[38;5;241m.\u001b[39m_node[n][\u001b[38;5;124m'\u001b[39m\u001b[38;5;124mpos\u001b[39m\u001b[38;5;124m'\u001b[39m]\n\u001b[0;32m     87\u001b[0m reg \u001b[38;5;241m=\u001b[39m Register(qubits)\n\u001b[1;32m---> 88\u001b[0m sequence \u001b[38;5;241m=\u001b[39m \u001b[38;5;28;43mself\u001b[39;49m\u001b[38;5;241;43m.\u001b[39;49m\u001b[43m_define_sequence\u001b[49m\u001b[43m(\u001b[49m\u001b[43mreg\u001b[49m\u001b[43m)\u001b[49m\n\u001b[0;32m     89\u001b[0m counter \u001b[38;5;241m=\u001b[39m \u001b[38;5;28mself\u001b[39m\u001b[38;5;241m.\u001b[39m_experiment(sequence, param)\n\u001b[0;32m     90\u001b[0m cost \u001b[38;5;241m=\u001b[39m \u001b[38;5;28msum\u001b[39m(counter[key] \u001b[38;5;241m*\u001b[39m \u001b[38;5;28mself\u001b[39m\u001b[38;5;241m.\u001b[39m_get_cost_colouring(key) \u001b[38;5;28;01mfor\u001b[39;00m key \u001b[38;5;129;01min\u001b[39;00m counter)\n",
            "File \u001b[1;32mc:\\Users\\ChiaraVercellino\\OneDrive - Fondazione LINKS\\Desktop\\Work\\materials\\QUANTUM\\Master-QCC-2022-2023\\src\\graph_coloring\\MIS.py:59\u001b[0m, in \u001b[0;36mPulserMISSolver._define_sequence\u001b[1;34m(self, register)\u001b[0m\n\u001b[0;32m     56\u001b[0m \u001b[38;5;28;01mdef\u001b[39;00m \u001b[38;5;21m_define_sequence\u001b[39m(\u001b[38;5;28mself\u001b[39m, register):\n\u001b[0;32m     57\u001b[0m     \u001b[38;5;66;03m# Parametrized sequence\u001b[39;00m\n\u001b[0;32m     58\u001b[0m     seq \u001b[38;5;241m=\u001b[39m Sequence(register, AnalogDevice)\n\u001b[1;32m---> 59\u001b[0m     \u001b[43mseq\u001b[49m\u001b[38;5;241;43m.\u001b[39;49m\u001b[43mdeclare_channel\u001b[49m\u001b[43m(\u001b[49m\u001b[38;5;124;43m'\u001b[39;49m\u001b[38;5;124;43mch0\u001b[39;49m\u001b[38;5;124;43m'\u001b[39;49m\u001b[43m,\u001b[49m\u001b[38;5;124;43m'\u001b[39;49m\u001b[38;5;124;43mrydberg_global\u001b[39;49m\u001b[38;5;124;43m'\u001b[39;49m\u001b[43m)\u001b[49m\n\u001b[0;32m     60\u001b[0m     \u001b[38;5;66;03m# add parametrize sequence\u001b[39;00m\n\u001b[0;32m     61\u001b[0m     t_list \u001b[38;5;241m=\u001b[39m seq\u001b[38;5;241m.\u001b[39mdeclare_variable(\u001b[38;5;124m'\u001b[39m\u001b[38;5;124mt_list\u001b[39m\u001b[38;5;124m'\u001b[39m, size\u001b[38;5;241m=\u001b[39m\u001b[38;5;28mself\u001b[39m\u001b[38;5;241m.\u001b[39mnum_layers)\n",
            "File \u001b[1;32mc:\\Users\\ChiaraVercellino\\miniconda3\\lib\\site-packages\\pulser\\sequence\\_decorators.py:121\u001b[0m, in \u001b[0;36mblock_if_measured.<locals>.wrapper\u001b[1;34m(self, *args, **kwargs)\u001b[0m\n\u001b[0;32m    116\u001b[0m \u001b[38;5;28;01mif\u001b[39;00m \u001b[38;5;28mself\u001b[39m\u001b[38;5;241m.\u001b[39mis_measured():\n\u001b[0;32m    117\u001b[0m     \u001b[38;5;28;01mraise\u001b[39;00m \u001b[38;5;167;01mRuntimeError\u001b[39;00m(\n\u001b[0;32m    118\u001b[0m         \u001b[38;5;124m\"\u001b[39m\u001b[38;5;124mThe sequence has been measured, no further \u001b[39m\u001b[38;5;124m\"\u001b[39m\n\u001b[0;32m    119\u001b[0m         \u001b[38;5;124m\"\u001b[39m\u001b[38;5;124mchanges are allowed.\u001b[39m\u001b[38;5;124m\"\u001b[39m\n\u001b[0;32m    120\u001b[0m     )\n\u001b[1;32m--> 121\u001b[0m func(\u001b[38;5;28mself\u001b[39m, \u001b[38;5;241m*\u001b[39margs, \u001b[38;5;241m*\u001b[39m\u001b[38;5;241m*\u001b[39mkwargs)\n",
            "File \u001b[1;32mc:\\Users\\ChiaraVercellino\\miniconda3\\lib\\site-packages\\pulser\\sequence\\sequence.py:919\u001b[0m, in \u001b[0;36mSequence.declare_channel\u001b[1;34m(self, name, channel_id, initial_target)\u001b[0m\n\u001b[0;32m    916\u001b[0m     \u001b[38;5;28;01mraise\u001b[39;00m \u001b[38;5;167;01mValueError\u001b[39;00m(\u001b[38;5;124m\"\u001b[39m\u001b[38;5;124mThe given name is already in use.\u001b[39m\u001b[38;5;124m\"\u001b[39m)\n\u001b[0;32m    918\u001b[0m \u001b[38;5;28;01mif\u001b[39;00m channel_id \u001b[38;5;129;01mnot\u001b[39;00m \u001b[38;5;129;01min\u001b[39;00m \u001b[38;5;28mself\u001b[39m\u001b[38;5;241m.\u001b[39m_device\u001b[38;5;241m.\u001b[39mchannels:\n\u001b[1;32m--> 919\u001b[0m     \u001b[38;5;28;01mraise\u001b[39;00m \u001b[38;5;167;01mValueError\u001b[39;00m(\u001b[38;5;124mf\u001b[39m\u001b[38;5;124m\"\u001b[39m\u001b[38;5;124mNo channel \u001b[39m\u001b[38;5;132;01m{\u001b[39;00mchannel_id\u001b[38;5;132;01m}\u001b[39;00m\u001b[38;5;124m in the device.\u001b[39m\u001b[38;5;124m\"\u001b[39m)\n\u001b[0;32m    921\u001b[0m ch \u001b[38;5;241m=\u001b[39m \u001b[38;5;28mself\u001b[39m\u001b[38;5;241m.\u001b[39m_device\u001b[38;5;241m.\u001b[39mchannels[channel_id]\n\u001b[0;32m    922\u001b[0m \u001b[38;5;28;01mif\u001b[39;00m channel_id \u001b[38;5;129;01mnot\u001b[39;00m \u001b[38;5;129;01min\u001b[39;00m \u001b[38;5;28mself\u001b[39m\u001b[38;5;241m.\u001b[39mavailable_channels:\n",
            "\u001b[1;31mValueError\u001b[0m: No channel rydberg_global in the device."
          ]
        }
      ],
      "source": [
        "import networkx as nx\n",
        "from src.graph_coloring.BB_utils import *\n",
        "import warnings\n",
        "\n",
        "file_path=\"graphs/{}G_{}ud.gpickle\".format(7, 2)\n",
        "G = nx.read_gpickle(file_path)\n",
        "max_nodes=20\n",
        "problem = BBQ_mIS(G)\n",
        "solver = pybnb.Solver()\n",
        "results = solver.solve(problem, queue_strategy='custom', node_limit=max_nodes)\n",
        "best_coloring = results.best_node.state[4]\n",
        "child_story = results.best_node.state[5]\n",
        "plot_sol(G, best_coloring, results.objective)    \n",
        "print_BB_history(child_story)\n",
        "# print the MISs for the best solution\n",
        "print_mIS(best_coloring)\n",
        "print('Coloring story {}'.format(child_story))\n",
        "print('BBQ-mIS found coloring with {} colors'.format(results.objective))"
      ]
    },
    {
      "cell_type": "code",
      "execution_count": null,
      "metadata": {
        "id": "x-Sbg_Xi5T0e"
      },
      "outputs": [],
      "source": []
    }
  ],
  "metadata": {
    "colab": {
      "provenance": []
    },
    "kernelspec": {
      "display_name": "Python 3",
      "name": "python3"
    },
    "language_info": {
      "codemirror_mode": {
        "name": "ipython",
        "version": 3
      },
      "file_extension": ".py",
      "mimetype": "text/x-python",
      "name": "python",
      "nbconvert_exporter": "python",
      "pygments_lexer": "ipython3",
      "version": "3.9.7"
    }
  },
  "nbformat": 4,
  "nbformat_minor": 0
}
