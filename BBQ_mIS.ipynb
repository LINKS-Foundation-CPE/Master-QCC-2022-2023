{
  "cells": [
    {
      "cell_type": "markdown",
      "metadata": {
        "id": "giPpluoycnlc"
      },
      "source": [
        "#**BBQ-mIS**\n",
        "Graph coloring optimization on neutral atoms quantum machines.\n",
        "* clone repository (codes building blocks and graphs dataset)\n",
        "* install needed libraries\n",
        "* investigate BB behaviour by changing \n",
        "  * exploration policy, i.e. queue_strategy (https://pybnb.readthedocs.io/en/stable/index.html)\n",
        "  * feasible coloring computation\n",
        "  * maximum number of explored nodes"
      ]
    },
    {
      "cell_type": "code",
      "execution_count": 1,
      "metadata": {
        "colab": {
          "base_uri": "https://localhost:8080/"
        },
        "id": "tx8StvwKFrSe",
        "outputId": "99c6fa7d-c56b-4dc7-c97d-a97cf89a27cd"
      },
      "outputs": [
        {
          "name": "stdout",
          "output_type": "stream",
          "text": [
            "Cloning into 'Master-QCC-2022-2023'...\n",
            "remote: Enumerating objects: 102, done.\u001b[K\n",
            "remote: Counting objects: 100% (102/102), done.\u001b[K\n",
            "remote: Compressing objects: 100% (58/58), done.\u001b[K\n",
            "remote: Total 102 (delta 47), reused 89 (delta 37), pack-reused 0\u001b[K\n",
            "Receiving objects: 100% (102/102), 78.11 KiB | 15.62 MiB/s, done.\n",
            "Resolving deltas: 100% (47/47), done.\n"
          ]
        }
      ],
      "source": [
        "!git clone https://github.com/LINKS-Foundation-CPE/Master-QCC-2022-2023.git"
      ]
    },
    {
      "cell_type": "code",
      "execution_count": 1,
      "metadata": {
        "colab": {
          "base_uri": "https://localhost:8080/",
          "height": 1000
        },
        "id": "kdxWRqJeGbkZ",
        "outputId": "c199c130-50d4-427d-d245-adfa32244be4"
      },
      "outputs": [
        {
          "name": "stdout",
          "output_type": "stream",
          "text": [
            "Requirement already satisfied: pybnb in c:\\users\\chiaravercellino\\miniconda3\\lib\\site-packages (0.6.2)\n",
            "Requirement already satisfied: sortedcontainers in c:\\users\\chiaravercellino\\miniconda3\\lib\\site-packages (from pybnb) (2.4.0)\n",
            "Requirement already satisfied: six in c:\\users\\chiaravercellino\\miniconda3\\lib\\site-packages (from pybnb) (1.16.0)\n",
            "Requirement already satisfied: mpi4py in c:\\users\\chiaravercellino\\miniconda3\\lib\\site-packages (3.1.4)\n"
          ]
        },
        {
          "name": "stderr",
          "output_type": "stream",
          "text": [
            "ERROR: Could not find a version that satisfies the requirement pulser==0.17.14 (from versions: 0.0.1a1, 0.1.0, 0.1.1, 0.1.2, 0.2.0, 0.2.1, 0.3.0, 0.3.1, 0.3.2, 0.4.0, 0.4.1, 0.4.2, 0.5.0, 0.5.1, 0.6.0, 0.7.0, 0.7.1, 0.7.2, 0.7.3, 0.8.0, 0.8.1, 0.9.0, 0.9.1, 0.9.2, 0.9.3, 0.10.0, 0.11.0, 0.11.1, 0.12.0, 0.13.0, 0.13.1, 0.13.2, 0.13.3, 0.14.0, 0.14.1, 0.15.0, 0.15.1, 0.15.2, 0.15.3, 0.16.0, 0.16.1, 0.16.2, 0.17.0, 0.17.1, 0.17.2, 0.17.3, 0.17.4)\n",
            "ERROR: No matching distribution found for pulser==0.17.14\n"
          ]
        },
        {
          "name": "stdout",
          "output_type": "stream",
          "text": [
            "Requirement already satisfied: networkx==2.8.7 in c:\\users\\chiaravercellino\\miniconda3\\lib\\site-packages (2.8.7)\n",
            "Requirement already satisfied: matplotlib==3.5.1 in c:\\users\\chiaravercellino\\miniconda3\\lib\\site-packages (3.5.1)\n",
            "Requirement already satisfied: packaging>=20.0 in c:\\users\\chiaravercellino\\miniconda3\\lib\\site-packages (from matplotlib==3.5.1) (23.1)\n",
            "Requirement already satisfied: pyparsing>=2.2.1 in c:\\users\\chiaravercellino\\miniconda3\\lib\\site-packages (from matplotlib==3.5.1) (3.0.9)\n",
            "Requirement already satisfied: kiwisolver>=1.0.1 in c:\\users\\chiaravercellino\\miniconda3\\lib\\site-packages (from matplotlib==3.5.1) (1.4.4)\n",
            "Requirement already satisfied: cycler>=0.10 in c:\\users\\chiaravercellino\\miniconda3\\lib\\site-packages (from matplotlib==3.5.1) (0.11.0)\n",
            "Requirement already satisfied: python-dateutil>=2.7 in c:\\users\\chiaravercellino\\miniconda3\\lib\\site-packages (from matplotlib==3.5.1) (2.8.2)\n",
            "Requirement already satisfied: fonttools>=4.22.0 in c:\\users\\chiaravercellino\\miniconda3\\lib\\site-packages (from matplotlib==3.5.1) (4.41.1)\n",
            "Requirement already satisfied: numpy>=1.17 in c:\\users\\chiaravercellino\\miniconda3\\lib\\site-packages (from matplotlib==3.5.1) (1.25.1)\n",
            "Requirement already satisfied: pillow>=6.2.0 in c:\\users\\chiaravercellino\\miniconda3\\lib\\site-packages (from matplotlib==3.5.1) (10.0.0)\n",
            "Requirement already satisfied: six>=1.5 in c:\\users\\chiaravercellino\\miniconda3\\lib\\site-packages (from python-dateutil>=2.7->matplotlib==3.5.1) (1.16.0)\n",
            "Requirement already satisfied: matplotlib-inline in c:\\users\\chiaravercellino\\miniconda3\\lib\\site-packages (0.1.7)\n",
            "Requirement already satisfied: traitlets in c:\\users\\chiaravercellino\\miniconda3\\lib\\site-packages (from matplotlib-inline) (5.9.0)\n"
          ]
        }
      ],
      "source": [
        "!pip install pybnb\n",
        "!pip install mpi4py\n",
        "!pip install pulser==0.17.4\n",
        "!pip install networkx==2.8.7\n",
        "!pip install matplotlib==3.5.1\n",
        "!pip install matplotlib-inline"
      ]
    },
    {
      "cell_type": "code",
      "execution_count": null,
      "metadata": {
        "colab": {
          "base_uri": "https://localhost:8080/"
        },
        "id": "GkNbCi9itf2t",
        "outputId": "f8adc965-2264-46a8-fa83-8b135cbb6938"
      },
      "outputs": [],
      "source": [
        "%cd /content/Master-QCC-2022-2023/"
      ]
    },
    {
      "cell_type": "code",
      "execution_count": 2,
      "metadata": {
        "id": "u5lfbjrp85GG"
      },
      "outputs": [],
      "source": [
        "%matplotlib inline"
      ]
    },
    {
      "cell_type": "code",
      "execution_count": 3,
      "metadata": {
        "id": "FizlncPf2skt"
      },
      "outputs": [],
      "source": [
        "def compute_obj(G, colors_used, previous_coloring):\n",
        "    if len(G.edges())>0:\n",
        "        obj = colors_used+len(G.nodes())\n",
        "        for greedy_color_node in G.nodes():\n",
        "            colors_used = colors_used + 1\n",
        "            previous_coloring[greedy_color_node] = colors_used\n",
        "    else:\n",
        "        for node in G.nodes():\n",
        "            previous_coloring[node]=colors_used+1\n",
        "        obj = colors_used+1\n",
        "    return obj, previous_coloring"
      ]
    },
    {
      "cell_type": "code",
      "execution_count": 4,
      "metadata": {
        "id": "sm8Lr05ok9H2"
      },
      "outputs": [],
      "source": [
        "import pybnb\n",
        "import numpy as np\n",
        "from src.graph_coloring.BB_utils import *\n",
        "from src.graph_coloring.MIS import PulserMISSolver\n",
        "from src.graph_coloring.feasibility_utils import is_mIS\n",
        "\n",
        "class BBQ_mIS(pybnb.Problem):\n",
        "    \n",
        "    def __init__(self, G, colors_used=0):\n",
        "        self.G = G \n",
        "        self.orig_G = G.copy()     \n",
        "        self.x = np.zeros((len(G.nodes),1))\n",
        "        _, LB, _ = compute_LB(self.x, self.G)\n",
        "        self.colors_used = colors_used\n",
        "        self.edges = len(G.edges())\n",
        "        self.fingerprints=set([])        \n",
        "        self.lower_bound=colors_used+LB\n",
        "        coloring =  dict.fromkeys(G.nodes(), -1)\n",
        "        obj, coloring = compute_obj(G, colors_used, coloring)\n",
        "        self.obj = obj\n",
        "        self.coloring = coloring\n",
        "        self.child_story={0:-1}\n",
        "        self.hist_list = []\n",
        "        self.solutions = None\n",
        "\n",
        "    def sense(self):\n",
        "        return pybnb.minimize\n",
        "\n",
        "    def objective(self):             \n",
        "        return self.obj\n",
        "\n",
        "    def bound(self):\n",
        "        # lower bound on the objective function\n",
        "        return self.lower_bound\n",
        "\n",
        "    def save_state(self, node, x=None, colors_used=None, lower_bound=None, H=None, obj=None, coloring=None, child_story=None, solutions = None, hist_list=None):\n",
        "        if x is None:\n",
        "            # root node initialization\n",
        "            node.state = (self.x, self.colors_used, self.G, self.edges, self.coloring, self.child_story, self.solutions, self.hist_list)\n",
        "        else:\n",
        "            num_edges = len(H.edges())\n",
        "            node.state = (x, colors_used, H, num_edges, coloring, child_story, solutions, hist_list)\n",
        "            node.objective = obj\n",
        "            node.bound = lower_bound\n",
        "            UB = compute_UB(H)\n",
        "            node.queue_priority = -UB*num_edges\n",
        "                          \n",
        "            \n",
        "    def load_state(self, node):\n",
        "        (self.x, self.colors_used, self.G, self.edges, self.coloring, self.child_story, self.solutions, self.hist_list) = node.state\n",
        "        self.obj = node.objective\n",
        "        self.lower_bound = node.bound\n",
        "\n",
        "    def branch(self):\n",
        "        pulser_MIS_solver = PulserMISSolver(self.G)\n",
        "        pulser_sol = pulser_MIS_solver.solve_Pulser()\n",
        "        hist_list=self.hist_list.copy()\n",
        "        hist_list.append(pulser_sol)\n",
        "        num_colors_child = self.colors_used+1\n",
        "        solutions = []  \n",
        "        for sol in pulser_sol:\n",
        "            solutions.append(np.array(list(sol[0]), dtype=int))\n",
        "        num_sol = len(solutions)\n",
        "        child_num=0                    \n",
        "        for sol in range(num_sol): \n",
        "            child_story=self.child_story.copy()\n",
        "            child_story[num_colors_child]=child_num+1\n",
        "            coloring_dict = self.coloring.copy() \n",
        "            x = solutions[sol]      \n",
        "            if is_mIS(x, self.G):                                \n",
        "                H, LB, MIS_set = compute_LB(x, self.G)\n",
        "                for graph_node in MIS_set:\n",
        "                    coloring_dict[graph_node]=num_colors_child                \n",
        "                fp = fingerprint(H.nodes())                \n",
        "                if fp not in self.fingerprints and len(H.nodes())>0:\n",
        "                    child_num+=1\n",
        "                    # avoid symmetries in BB\n",
        "                    child = pybnb.Node()\n",
        "                    obj, coloring_dict = compute_obj(H, num_colors_child, coloring_dict)\n",
        "                    child_bound = num_colors_child+LB\n",
        "                    self.save_state(child, x, num_colors_child, child_bound, H, obj, coloring_dict, child_story, pulser_sol, hist_list)\n",
        "                    self.fingerprints.add(fp)\n",
        "                    yield child"
      ]
    },
    {
      "cell_type": "code",
      "execution_count": 5,
      "metadata": {
        "colab": {
          "base_uri": "https://localhost:8080/",
          "height": 1000
        },
        "id": "14Qt7H1dlRDo",
        "outputId": "f63334b3-3ac6-41e4-bb33-e8f46c633153"
      },
      "outputs": [
        {
          "name": "stdout",
          "output_type": "stream",
          "text": [
            "\n",
            "Using non-default solver options:\n",
            " - node_limit: 20 (default: None)\n",
            " - queue_strategy: custom (default: bound)\n",
            "\n",
            "Starting branch & bound solve:\n",
            " - dispatcher pid: 11480 (LAPTOP-SIDQI55K)\n",
            " - worker processes: 1\n",
            "--------------------------------------------------------------------------------------------------------------------------\n",
            "         Nodes        |                      Objective Bounds                       |              Work              \n",
            "      Expl    Unexpl  |      Incumbent           Bound    Rel. Gap         Abs. Gap | Time (s)  Nodes/Sec Imbalance   Idle\n",
            "         0         1  |            inf            -inf         inf%             inf |      0.0       0.00     0.00%      0\n"
          ]
        },
        {
          "name": "stdout",
          "output_type": "stream",
          "text": [
            "         1         5  |            inf               3         inf%             inf |     16.5       0.06     0.00%      0\n",
            "*        2         7  |              6               3   50.000000%               3 |     24.3       0.12     0.00%      0\n",
            "*        3         2  |              4               3   25.000000%               1 |     24.3       2.44     0.00%      0\n",
            "         4         1  |              4               3   25.000000%               1 |     31.5       0.15     0.00%      0\n",
            "      Expl    Unexpl  |      Incumbent           Bound    Rel. Gap         Abs. Gap | Time (s)  Nodes/Sec Imbalance   Idle\n",
            "         5         0  |              4               4    0.000000%               0 |     37.7       0.16     0.00%      0\n",
            "--------------------------------------------------------------------------------------------------------------------------\n",
            "\n",
            "Absolute optimality tolerance met\n",
            "Optimal solution found!\n",
            "\n",
            "solver results:\n",
            " - solution_status: optimal\n",
            " - termination_condition: optimality\n",
            " - objective: 4\n",
            " - bound: 4\n",
            " - absolute_gap: 0\n",
            " - relative_gap: 0\n",
            " - nodes: 5\n",
            " - wall_time: 37.67 s\n",
            " - best_node: Node(objective=4)\n",
            "\n"
          ]
        },
        {
          "data": {
            "image/png": "[encoded data removed]",
            "text/plain": [
              "<Figure size 640x480 with 1 Axes>"
            ]
          },
          "metadata": {},
          "output_type": "display_data"
        },
        {
          "name": "stdout",
          "output_type": "stream",
          "text": [
            "Best solution history:\n",
            "\t Step 1 -> selected MIS solution at position 5\n",
            "\t Step 2 -> selected MIS solution at position 1\n",
            "\n",
            "Step 1 -> nodes in MIS solution [0, 3]\n",
            "Step 2 -> nodes in MIS solution [4, 5, 6]\n",
            "Step 3 -> nodes in MIS solution [1]\n",
            "Step 4 -> nodes in MIS solution [2]\n",
            "Coloring story {0: -1, 1: 5, 2: 1}\n",
            "BBQ-mIS found coloring with 4 colors\n"
          ]
        }
      ],
      "source": [
        "import networkx as nx\n",
        "from src.graph_coloring.BB_utils import *\n",
        "import warnings\n",
        "\n",
        "file_path=\"graphs/{}G_{}ud.gpickle\".format(7, 2)\n",
        "G = nx.read_gpickle(file_path)\n",
        "max_nodes=20\n",
        "problem = BBQ_mIS(G)\n",
        "solver = pybnb.Solver()\n",
        "results = solver.solve(problem, queue_strategy='custom', node_limit=max_nodes)\n",
        "best_coloring = results.best_node.state[4]\n",
        "child_story = results.best_node.state[5]\n",
        "plot_sol(G, best_coloring, results.objective)    \n",
        "print_BB_history(child_story)\n",
        "# print the MISs for the best solution\n",
        "print_mIS(best_coloring)\n",
        "print('Coloring story {}'.format(child_story))\n",
        "print('BBQ-mIS found coloring with {} colors'.format(results.objective))"
      ]
    },
    {
      "cell_type": "code",
      "execution_count": null,
      "metadata": {
        "id": "x-Sbg_Xi5T0e"
      },
      "outputs": [],
      "source": []
    }
  ],
  "metadata": {
    "colab": {
      "provenance": []
    },
    "kernelspec": {
      "display_name": "Python 3",
      "name": "python3"
    },
    "language_info": {
      "codemirror_mode": {
        "name": "ipython",
        "version": 3
      },
      "file_extension": ".py",
      "mimetype": "text/x-python",
      "name": "python",
      "nbconvert_exporter": "python",
      "pygments_lexer": "ipython3",
      "version": "3.9.7"
    }
  },
  "nbformat": 4,
  "nbformat_minor": 0
}
