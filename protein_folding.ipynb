{
  "cells": [
    {
      "cell_type": "code",
      "execution_count": null,
      "metadata": {
        "colab": {
          "base_uri": "https://localhost:8080/"
        },
        "id": "Hiz22p5IjHGV",
        "outputId": "ff19e4cc-6807-4480-c397-0e7eade2ed8a"
      },
      "outputs": [],
      "source": [
        "!git clone https://github.com/LINKS-Foundation-CPE/Master-QCC-2022-2023.git"
      ]
    },
    {
      "cell_type": "code",
      "execution_count": null,
      "metadata": {
        "colab": {
          "base_uri": "https://localhost:8080/",
          "height": 1000
        },
        "id": "yIrPR4MijHGW",
        "outputId": "eeb50cd7-e73c-436a-d01e-dcae94a334ec"
      },
      "outputs": [],
      "source": [
        "!pip install dwave_qbsolv\n",
        "!pip install scipy"
      ]
    },
    {
      "cell_type": "code",
      "execution_count": null,
      "metadata": {
        "colab": {
          "base_uri": "https://localhost:8080/"
        },
        "id": "Wj-E7MSHjHGW",
        "outputId": "4a733428-3335-4817-faba-22fe6c978fff"
      },
      "outputs": [],
      "source": [
        "%cd /content/Master-QCC-2022-2023/"
      ]
    },
    {
      "cell_type": "code",
      "execution_count": 1,
      "metadata": {},
      "outputs": [],
      "source": [
        "from itertools import combinations\n",
        "import numpy as np\n",
        "import random\n",
        "from dwave_qbsolv import QBSolv"
      ]
    },
    {
      "cell_type": "code",
      "execution_count": 2,
      "metadata": {
        "id": "BNoSkvkCjHGX"
      },
      "outputs": [],
      "source": [
        "# num_aminoacids = 50\n",
        "# hydrophobic_pos = [2, 4, 5, 6, 11, 12, 17, 20, 21, 25, 27, 28, 30, 31, 33, 37, 44 ,46]\n",
        "\n",
        "#initialize variables\n",
        "\n",
        "random.seed(1)\n",
        "num_aminoacids = 30\n",
        "hydrophobic_pos = random.sample(range(1,num_aminoacids+1), 10)\n",
        "hydrophobic_pos=np.sort(hydrophobic_pos)\n",
        "all_pairs =list(combinations(hydrophobic_pos, 2))\n",
        "pairs_dict = {}\n",
        "rev_pairs_dict = {}\n",
        "index_pair = 0\n",
        "gap_dict={}\n",
        "pairs=[]\n",
        "for pair in all_pairs:\n",
        "    if (pair[1]-pair[0]-1)%2==0 and (pair[1]-pair[0]-1)!=0:\n",
        "        pairs.append(pair)\n",
        "        pairs_dict[pair]=index_pair\n",
        "        rev_pairs_dict[index_pair]=pair\n",
        "        index_pair+=1\n",
        "        gap=pair[0]+pair[1]-1\n",
        "        if (gap)%2==0:\n",
        "            if gap/2 in gap_dict:\n",
        "                gap_dict[gap/2].append(pair)\n",
        "            else:\n",
        "                gap_dict[gap/2]=[pair]\n",
        "\n",
        "dimQ = len(pairs_dict)\n",
        "\n",
        "Q = np.zeros((dimQ, dimQ))\n",
        "P = 100"
      ]
    },
    {
      "cell_type": "code",
      "execution_count": 3,
      "metadata": {},
      "outputs": [],
      "source": [
        "#QUBO matrix generation\n",
        "\n",
        "# objective function\n",
        "Q[np.diag_indices_from(Q)]=-1\n",
        "for pair in pairs:\n",
        "    i = pair[0]\n",
        "    j = pair[1]\n",
        "    k_array = list(range(i, j))\n",
        "    k_del = (i+j-1)/2\n",
        "    if k_del in k_array:\n",
        "        k_array.remove(k_del)\n",
        "    for k_val in k_array:\n",
        "        if k_val in gap_dict:\n",
        "            pairs_to_penalize = gap_dict[k_val]\n",
        "            for p in pairs_to_penalize:\n",
        "                index_1 = pairs_dict[p]\n",
        "                index_2 = pairs_dict[pair]\n",
        "                if index_1 < index_2:\n",
        "                    Q[index_1, index_2]=P\n",
        "                else:\n",
        "                    Q[index_2, index_1]=P\n",
        "        # elif k_val in other_gaps:\n",
        "        #     index_1 = pairs_dict[pair]\n",
        "        #     index_2 = other_gaps[k_val]\n",
        "        #     Q[index_1, index_2]=P\n",
        "Q_dict={}\n",
        "for i in range(dimQ):\n",
        "    for j in range(dimQ):\n",
        "        Q_dict[(i,j)] = Q[i,j]"
      ]
    },
    {
      "cell_type": "code",
      "execution_count": 4,
      "metadata": {},
      "outputs": [
        {
          "name": "stdout",
          "output_type": "stream",
          "text": [
            "\n",
            "\n",
            "\n",
            "\n"
          ]
        },
        {
          "name": "stderr",
          "output_type": "stream",
          "text": [
            "/var/folders/qp/68cmb73d6897nh_qdb2y19fr0000gn/T/ipykernel_7021/1404573121.py:2: DeprecationWarning: QBSolv is deprecated as of the end of 2021 and support will be discontinued after March 2022. Please update your code to use dwave-hybrid or Leap's quantum-classical hybrid solvers instead.\n",
            "  response = QBSolv().sample_qubo(Q_dict, timeout=30, num_repeats=100)\n"
          ]
        }
      ],
      "source": [
        "\n",
        "#Solve QUBO\n",
        "response = QBSolv().sample_qubo(Q_dict, timeout=30, num_repeats=100)\n",
        "all_energies = response.data_vectors['energy']\n",
        "min_energy = response.data_vectors['energy'].min()\n",
        "num_sol = len(all_energies)\n",
        "sol_str = 'Number of matching found: {}\\n\\n'.format(-min_energy)\n",
        "for sol in range(num_sol):    \n",
        "    if all_energies[sol]==min_energy:\n",
        "        sol_str += 'Solution {}\\n'.format(sol)\n",
        "        print()\n",
        "        item = response.samples()[sol]\n",
        "        for var in item:\n",
        "            if item[var]==1 and var in rev_pairs_dict:\n",
        "                matching= rev_pairs_dict[var]\n",
        "                fold = (matching[0]+matching[1]-1)/2\n",
        "                sol_str+='matching {} with folding at aminoacid {}\\n'.format(matching, fold)"
      ]
    },
    {
      "cell_type": "code",
      "execution_count": 5,
      "metadata": {},
      "outputs": [
        {
          "name": "stdout",
          "output_type": "stream",
          "text": [
            "Finished QBSolv\n"
          ]
        }
      ],
      "source": [
        "with open('solutions.txt', 'w') as fp:\n",
        "    fp.write(sol_str)\n",
        "\n",
        "print('Finished QBSolv')"
      ]
    }
  ],
  "metadata": {
    "colab": {
      "provenance": []
    },
    "interpreter": {
      "hash": "0144edd08df7be7ff591e8c3b3f27e21df4154a4d8a65663ad11b2b2625bc73d"
    },
    "kernelspec": {
      "display_name": "Python 3.9.5 64-bit ('pulser': conda)",
      "name": "python3"
    },
    "language_info": {
      "codemirror_mode": {
        "name": "ipython",
        "version": 3
      },
      "file_extension": ".py",
      "mimetype": "text/x-python",
      "name": "python",
      "nbconvert_exporter": "python",
      "pygments_lexer": "ipython3",
      "version": "3.9.16"
    },
    "metadata": {
      "interpreter": {
        "hash": "6fdb24df918c17a71ffd8986287846e645dac9bc7f17e96f0111005b5a383480"
      }
    },
    "orig_nbformat": 2
  },
  "nbformat": 4,
  "nbformat_minor": 0
}
